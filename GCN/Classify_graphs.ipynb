{
 "cells": [
  {
   "cell_type": "code",
   "execution_count": 1,
   "metadata": {},
   "outputs": [],
   "source": [
    "import torch\n",
    "import torch.nn as nn\n",
    "#import pandas as pd\n",
    "from HGP.models import Model\n",
    "import pickle\n",
    "import yaml\n",
    "from pathlib import Path\n",
    "from sklearn.model_selection import train_test_split\n",
    "from torch.utils.data import random_split\n",
    "from torch_geometric.loader import DataLoader\n",
    "import numpy as np"
   ]
  },
  {
   "cell_type": "code",
   "execution_count": 2,
   "metadata": {},
   "outputs": [],
   "source": [
    "import networkx as nx"
   ]
  },
  {
   "cell_type": "code",
   "execution_count": 3,
   "metadata": {
    "lines_to_next_cell": 2
   },
   "outputs": [],
   "source": [
    "\n",
    "import pytorch_lightning as pl\n",
    "from pytorch_lightning.callbacks import ModelCheckpoint\n",
    "from pytorch_lightning.loggers import TensorBoardLogger\n",
    "from pytorch_lightning.profilers import SimpleProfiler\n",
    "from torch_geometric.datasets import TUDataset"
   ]
  },
  {
   "cell_type": "markdown",
   "metadata": {},
   "source": [
    "# BITTE EINMAL DEN MODELL NAMEN HIER EINMAL EINTRAGEN (HGP-SL o.ä.)\n",
    "\n",
    "Damit die Datei unter dem Namen gespeichert wird"
   ]
  },
  {
   "cell_type": "code",
   "execution_count": 4,
   "metadata": {},
   "outputs": [],
   "source": [
    "model_name = \"emp-nci\""
   ]
  },
  {
   "cell_type": "code",
   "execution_count": 5,
   "metadata": {},
   "outputs": [],
   "source": [
    "def yaml_dump_for_notebook(filepath=\"configs/baseline.yml\"):\n",
    "    # Call this function if you use this as a notebook so bypass argparse and directly dump the config\n",
    "    with open(str(filepath), \"r\", encoding=\"utf-8\") as stream:\n",
    "        args_dict = yaml.safe_load(stream) or dict()\n",
    "\n",
    "    return args_dict"
   ]
  },
  {
   "cell_type": "code",
   "execution_count": 6,
   "metadata": {},
   "outputs": [
    {
     "name": "stderr",
     "output_type": "stream",
     "text": [
      "Global seed set to 21\n"
     ]
    },
    {
     "data": {
      "text/plain": [
       "21"
      ]
     },
     "execution_count": 6,
     "metadata": {},
     "output_type": "execute_result"
    }
   ],
   "source": [
    "# %%\n",
    "args_dict = yaml_dump_for_notebook(\"emp-gcn-nci-grid001.yml\")\n",
    "\n",
    "pl.seed_everything(args_dict[\"random_seed\"], workers=True)\n"
   ]
  },
  {
   "cell_type": "code",
   "execution_count": 7,
   "metadata": {},
   "outputs": [],
   "source": [
    "# %%\n",
    "# Load the dataset\n",
    "dataset = TUDataset(\n",
    "    Path.cwd().joinpath(\"datasets\"),\n",
    "    name=args_dict[\"dataset\"],\n",
    "    use_node_attr=True,\n",
    ")\n",
    "args_dict[\"num_classes\"] = dataset.num_classes\n",
    "args_dict[\"num_features\"] = dataset.num_features"
   ]
  },
  {
   "cell_type": "code",
   "execution_count": 8,
   "metadata": {},
   "outputs": [
    {
     "name": "stdout",
     "output_type": "stream",
     "text": [
      "Hole: 4110, Train: 2055, Val: 1027, Test: 1028\n"
     ]
    }
   ],
   "source": [
    "split_train = int(dataset.len() * args_dict[\"split_ratio\"])\n",
    "split_val = int((dataset.len() - split_train) * args_dict[\"test_ratio\"])\n",
    "split_test = dataset.len() - split_val - split_train\n",
    "\n",
    "print(\n",
    "    f\"Hole: {dataset.len()}, Train: {split_train}, Val: {split_val}, Test: {split_test}\"\n",
    ")\n",
    "# %%\n",
    "train_data, eval_data, test_data = random_split(\n",
    "    dataset,\n",
    "    [split_train, split_val, split_test],\n",
    "    generator=torch.Generator().manual_seed(777),\n",
    ")"
   ]
  },
  {
   "cell_type": "markdown",
   "id": "e285d022",
   "metadata": {
    "lines_to_next_cell": 2
   },
   "source": [
    "train_data, eval_data, test_data = random_split(\n",
    "    dataset,\n",
    "    [split_train, split_val, split_test],\n",
    "    generator=torch.Generator().manual_seed(42),\n",
    ")"
   ]
  },
  {
   "cell_type": "code",
   "execution_count": 9,
   "metadata": {},
   "outputs": [],
   "source": [
    "# %%\n",
    "train_loader = DataLoader(\n",
    "    train_data,\n",
    "    batch_size=args_dict[\"batch_size\"],\n",
    "    shuffle=False,\n",
    "    num_workers=args_dict[\"num_workers\"],\n",
    ")\n",
    "val_loader = DataLoader(\n",
    "    eval_data,\n",
    "    batch_size=args_dict[\"batch_size\"],\n",
    "    shuffle=False,\n",
    "    num_workers=args_dict[\"num_workers\"],\n",
    ")\n",
    "test_loader = DataLoader(\n",
    "    test_data,\n",
    "    batch_size= 1 ,# dataset.len() - split_test,\n",
    "    shuffle=False,\n",
    "    num_workers=args_dict[\"num_workers\"],\n",
    ")"
   ]
  },
  {
   "cell_type": "code",
   "execution_count": 10,
   "metadata": {},
   "outputs": [],
   "source": [
    "# Define the model\n",
    "from HGP.models import LightModel\n",
    "\n",
    "\n",
    "model = LightModel(args_dict).to(args_dict[\"device\"])\n",
    "# load a saved model\n",
    "weights = torch.load(\"gcn_model_0.pt\")\n",
    "# set the weights\n",
    "model.load_state_dict(weights)\n",
    "\n",
    "\n",
    "model.eval()\n",
    "\n",
    "loss = nn.CrossEntropyLoss(reduction=\"none\")\n",
    "softmax = nn.Softmax(dim=1)"
   ]
  },
  {
   "cell_type": "code",
   "execution_count": 12,
   "metadata": {},
   "outputs": [],
   "source": [
    "\n",
    "right_y = []\n",
    "wrong_y = []\n",
    "\n",
    "right_graphs = []\n",
    "wrong_graphs = []\n",
    "\n",
    "for batch in test_loader:\n",
    "    data = batch.to(args_dict[\"device\"])\n",
    "    out = model(data)\n",
    "    prediction_truth = np.argmax(\n",
    "        softmax(out).detach().cpu().numpy()) == data.y.detach().cpu().numpy()\n",
    "    break\n",
    "    if prediction_truth[0]:\n",
    "        g = nx.from_edgelist(data.edge_index.detach().cpu().numpy().T)\n",
    "        right_graphs.append(g)\n",
    "        right_y.append(data.y.detach().cpu().numpy()[0])\n",
    "    else:\n",
    "        g = nx.from_edgelist(data.edge_index.detach().cpu().numpy().T)\n",
    "        wrong_graphs.append(g)\n",
    "        wrong_y.append(data.y.detach().cpu().numpy()[0])\n",
    "\n",
    "np_right_graphs = np.array(right_graphs, dtype=object)\n",
    "np_wrong_graphs = np.array(wrong_graphs, dtype=object)\n",
    "np_right_y = np.array(right_y)\n",
    "np_wrong_y = np.array(wrong_y)"
   ]
  },
  {
   "cell_type": "code",
   "execution_count": 13,
   "metadata": {},
   "outputs": [
    {
     "data": {
      "text/plain": [
       "array([False])"
      ]
     },
     "execution_count": 13,
     "metadata": {},
     "output_type": "execute_result"
    }
   ],
   "source": [
    "prediction_truth"
   ]
  },
  {
   "cell_type": "code",
   "execution_count": null,
   "metadata": {},
   "outputs": [],
   "source": [
    "# save numpy arrays to folder analysis\n",
    "np.save(f\"Error_Analysis/graphs/GCN/{args_dict['dataset']}_{model_name}_right_graphs.npy\", np_right_graphs)\n",
    "np.save(\n",
    "    f\"Error_Analysis/graphs/GCN/{args_dict['dataset']}_{model_name}_wrong_graphs.npy\", np_wrong_graphs)\n",
    "np.save(\n",
    "    f\"Error_Analysis/graphs/GCN/{args_dict['dataset']}_{model_name}_right_y.npy\", np_right_y)\n",
    "np.save(\n",
    "    f\"Error_Analysis/graphs/GCN/{args_dict['dataset']}_{model_name}_wrong_y.npy\", np_wrong_y)\n"
   ]
  },
  {
   "cell_type": "code",
   "execution_count": null,
   "metadata": {},
   "outputs": [],
   "source": []
  }
 ],
 "metadata": {
  "jupytext": {
   "formats": "ipynb,py"
  },
  "kernelspec": {
   "display_name": "Python 3.8.13 ('HGL')",
   "language": "python",
   "name": "python3"
  },
  "language_info": {
   "codemirror_mode": {
    "name": "ipython",
    "version": 3
   },
   "file_extension": ".py",
   "mimetype": "text/x-python",
   "name": "python",
   "nbconvert_exporter": "python",
   "pygments_lexer": "ipython3",
   "version": "3.8.13"
  },
  "vscode": {
   "interpreter": {
    "hash": "20a035c567a38bd1f2940572b24bf1d024cc8b525cc5570f51a8ddddcc88cb9a"
   }
  }
 },
 "nbformat": 4,
 "nbformat_minor": 2
}
