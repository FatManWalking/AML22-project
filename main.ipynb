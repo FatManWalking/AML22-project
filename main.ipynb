{
 "cells": [
  {
   "cell_type": "markdown",
   "id": "f65acf48",
   "metadata": {
    "lines_to_next_cell": 0
   },
   "source": [
    "# AML - Final Prtoject - 2022\n",
    "\n",
    "It is possible to use this as notebook or directly as a script\n",
    "\n",
    "This notebook is organized in\n",
    "* [Configuration for Model and Logging](#config)\n",
    "* [Loading Dataset](#dataset)\n",
    "* [Model Definition](#model)\n",
    "* [Train Model](#train)"
   ]
  },
  {
   "cell_type": "markdown",
   "id": "b9092ed6",
   "metadata": {
    "lines_to_next_cell": 0
   },
   "source": [
    "## Imports"
   ]
  },
  {
   "cell_type": "code",
   "execution_count": null,
   "id": "8fa936a9",
   "metadata": {},
   "outputs": [],
   "source": [
    "%load_ext autoreload\n",
    "%autoreload 2"
   ]
  },
  {
   "cell_type": "code",
   "execution_count": null,
   "id": "25b8e4d5",
   "metadata": {},
   "outputs": [],
   "source": [
    "from utils.imports import *\n",
    "import pytorch_lightning as pl\n",
    "from pytorch_lightning.callbacks import ModelCheckpoint\n",
    "from pytorch_lightning.loggers import TensorBoardLogger\n",
    "from pytorch_lightning.profilers import SimpleProfiler"
   ]
  },
  {
   "cell_type": "code",
   "execution_count": null,
   "id": "794805c8",
   "metadata": {
    "lines_to_next_cell": 0
   },
   "outputs": [],
   "source": [
    "args_dict = take_hp(\"configs/baseline.yml\")\n",
    "\n",
    "pl.seed_everything(args_dict[\"random_seed\"], workers=True)"
   ]
  },
  {
   "cell_type": "code",
   "execution_count": null,
   "id": "8e201560",
   "metadata": {},
   "outputs": [],
   "source": [
    "# Load the dataset\n",
    "dataset = TUDataset(\n",
    "    Path.cwd().joinpath(\"data\", args_dict[\"dataset\"]),\n",
    "    name=args_dict[\"dataset\"],\n",
    "    use_node_attr=True,\n",
    ")\n",
    "args_dict[\"num_classes\"] = dataset.num_classes\n",
    "args_dict[\"num_features\"] = dataset.num_features"
   ]
  },
  {
   "cell_type": "code",
   "execution_count": null,
   "id": "07102423",
   "metadata": {
    "lines_to_next_cell": 0
   },
   "outputs": [],
   "source": [
    "filename, filepath = save_config(args_dict)"
   ]
  },
  {
   "cell_type": "code",
   "execution_count": null,
   "id": "c5da882a",
   "metadata": {
    "lines_to_next_cell": 0
   },
   "outputs": [],
   "source": [
    "split_train = int(dataset.len() * args_dict[\"split_ratio\"])\n",
    "split_val = int((dataset.len() - split_train) * args_dict[\"test_ratio\"])\n",
    "split_test = dataset.len() - split_val - split_train\n",
    "\n",
    "print(\n",
    "    f\"Hole: {dataset.len()}, Train: {split_train}, Val: {split_val}, Test: {split_test}\"\n",
    ")"
   ]
  },
  {
   "cell_type": "code",
   "execution_count": null,
   "id": "78f9e0a1",
   "metadata": {},
   "outputs": [],
   "source": [
    "train_data, eval_data, test_data = random_split(\n",
    "    dataset,\n",
    "    [split_train, split_val, split_test],\n",
    "    generator=torch.Generator().manual_seed(42),\n",
    ")"
   ]
  },
  {
   "cell_type": "code",
   "execution_count": null,
   "id": "b3b84e6e",
   "metadata": {},
   "outputs": [],
   "source": [
    "train_loader = DataLoader(\n",
    "    train_data,\n",
    "    batch_size=args_dict[\"batch_size\"],\n",
    "    shuffle=True,\n",
    "    num_workers=args_dict[\"num_workers\"],\n",
    ")\n",
    "val_loader = DataLoader(\n",
    "    eval_data,\n",
    "    batch_size=args_dict[\"batch_size\"],\n",
    "    shuffle=False,\n",
    "    num_workers=args_dict[\"num_workers\"],\n",
    ")\n",
    "test_loader = DataLoader(\n",
    "    test_data,\n",
    "    batch_size=args_dict[\"batch_size\"],\n",
    "    shuffle=False,\n",
    "    num_workers=args_dict[\"num_workers\"],\n",
    ")"
   ]
  },
  {
   "cell_type": "code",
   "execution_count": null,
   "id": "52e1ab10",
   "metadata": {
    "lines_to_next_cell": 0
   },
   "outputs": [],
   "source": [
    "# Define the model\n",
    "model = LightModel(args_dict).to(args_dict[\"device\"])"
   ]
  },
  {
   "cell_type": "code",
   "execution_count": null,
   "id": "b1f60c25",
   "metadata": {},
   "outputs": [],
   "source": [
    "checkpoint_callback = get_model_checkpoint(args_dict)\n",
    "callbacks = []\n",
    "if checkpoint_callback:\n",
    "    callbacks.append(checkpoint_callback)\n",
    "if args_dict[\"resume_from_checkpoint\"]:\n",
    "    print(f\"loading checkpoint: {args_dict['output_path']}...\")\n",
    "    model.load_from_checkpoint(checkpoint_path=args_dict[\"output_path\"])\n",
    "\n",
    "if args_dict[\"logging\"]:\n",
    "    logger = TensorBoardLogger(\n",
    "        save_dir=args_dict[\"log_path\"], name=args_dict[\"experiment_name\"]\n",
    "    )\n",
    "else:\n",
    "    assert False, \"No logger defined\""
   ]
  },
  {
   "cell_type": "code",
   "execution_count": null,
   "id": "3f75d59e",
   "metadata": {},
   "outputs": [],
   "source": [
    "trainer = pl.Trainer(\n",
    "    num_nodes=int(os.environ.get(\"GROUP_WORLD_SIZE\", 1)),\n",
    "    accelerator=\"cuda\",\n",
    "    devices=int(os.environ.get(\"LOCAL_WORLD_SIZE\", 1)),\n",
    "    logger=logger,\n",
    "    max_epochs=args_dict[\"epochs\"],\n",
    "    callbacks=callbacks,\n",
    "    profiler=SimpleProfiler(logger),\n",
    "    log_every_n_steps=args_dict[\"log_steps\"],\n",
    ")"
   ]
  },
  {
   "cell_type": "code",
   "execution_count": null,
   "id": "70609a10",
   "metadata": {},
   "outputs": [],
   "source": [
    "# Train the model ⚡\n",
    "trainer.fit(model, train_dataloaders=train_loader, val_dataloaders=val_loader)"
   ]
  },
  {
   "cell_type": "code",
   "execution_count": null,
   "id": "592f3b98",
   "metadata": {},
   "outputs": [],
   "source": [
    "# Test the model [ONLY USE AFTER HPT SEARCH IS DONE]\n",
    "trainer.test(model, dataloaders=test_loader)\n",
    "\n",
    "torch.save(model.state_dict(), f\"{args_dict['output_path']}/model.pt\")"
   ]
  }
 ],
 "metadata": {
  "jupytext": {
   "cell_metadata_filter": "-all",
   "encoding": "# -*- coding: utf-8 -*-",
   "main_language": "python",
   "notebook_metadata_filter": "-all"
  }
 },
 "nbformat": 4,
 "nbformat_minor": 5
}
