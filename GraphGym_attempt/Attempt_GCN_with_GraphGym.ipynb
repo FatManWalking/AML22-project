{
  "cells": [
    {
      "cell_type": "code",
      "execution_count": 1,
      "metadata": {
        "colab": {
          "base_uri": "https://localhost:8080/"
        },
        "id": "6byJlVYSr9gt",
        "outputId": "be8737ea-ae01-48fc-a5ce-d90cccff4a0d"
      },
      "outputs": [
        {
          "name": "stdout",
          "output_type": "stream",
          "text": [
            "1.11.0+cpu\n"
          ]
        }
      ],
      "source": [
        "!python -c \"import torch; print(torch.__version__)\""
      ]
    },
    {
      "cell_type": "code",
      "execution_count": 2,
      "metadata": {
        "colab": {
          "base_uri": "https://localhost:8080/"
        },
        "id": "4_XgHg87tP4T",
        "outputId": "a989ee49-dc72-4031-f009-ef6ee63d4f42"
      },
      "outputs": [
        {
          "name": "stdout",
          "output_type": "stream",
          "text": [
            "None\n"
          ]
        }
      ],
      "source": [
        "!python -c \"import torch; print(torch.version.cuda)\"\n"
      ]
    },
    {
      "cell_type": "code",
      "execution_count": 1,
      "metadata": {
        "colab": {
          "base_uri": "https://localhost:8080/"
        },
        "id": "7GRMQwIstRhD",
        "outputId": "7b300e95-0d64-4c33-9580-8365321e4453"
      },
      "outputs": [
        {
          "name": "stdout",
          "output_type": "stream",
          "text": [
            "Looking in links: https://data.pyg.org/whl/torch-1.12.0+cu113.html\n",
            "Requirement already satisfied: torch-scatter in c:\\users\\gerbk\\anaconda3\\lib\\site-packages (2.0.9)\n",
            "Looking in links: https://data.pyg.org/whl/torch-1.12.0+cu113.html\n",
            "Requirement already satisfied: torch-sparse in c:\\users\\gerbk\\anaconda3\\lib\\site-packages (0.6.13)\n",
            "Requirement already satisfied: scipy in c:\\users\\gerbk\\anaconda3\\lib\\site-packages (from torch-sparse) (1.7.3)\n",
            "Requirement already satisfied: numpy<1.23.0,>=1.16.5 in c:\\users\\gerbk\\anaconda3\\lib\\site-packages (from scipy->torch-sparse) (1.21.5)\n",
            "Requirement already satisfied: torch-geometric in c:\\users\\gerbk\\anaconda3\\lib\\site-packages (2.1.0.post1)\n",
            "Requirement already satisfied: pyparsing in c:\\users\\gerbk\\anaconda3\\lib\\site-packages (from torch-geometric) (3.0.4)\n",
            "Requirement already satisfied: requests in c:\\users\\gerbk\\anaconda3\\lib\\site-packages (from torch-geometric) (2.27.1)\n",
            "Requirement already satisfied: numpy in c:\\users\\gerbk\\anaconda3\\lib\\site-packages (from torch-geometric) (1.21.5)\n",
            "Requirement already satisfied: scikit-learn in c:\\users\\gerbk\\anaconda3\\lib\\site-packages (from torch-geometric) (1.0.2)\n",
            "Requirement already satisfied: scipy in c:\\users\\gerbk\\anaconda3\\lib\\site-packages (from torch-geometric) (1.7.3)\n",
            "Requirement already satisfied: tqdm in c:\\users\\gerbk\\anaconda3\\lib\\site-packages (from torch-geometric) (4.64.0)\n",
            "Requirement already satisfied: jinja2 in c:\\users\\gerbk\\anaconda3\\lib\\site-packages (from torch-geometric) (2.11.3)\n",
            "Requirement already satisfied: MarkupSafe>=0.23 in c:\\users\\gerbk\\anaconda3\\lib\\site-packages (from jinja2->torch-geometric) (2.0.1)\n",
            "Requirement already satisfied: urllib3<1.27,>=1.21.1 in c:\\users\\gerbk\\anaconda3\\lib\\site-packages (from requests->torch-geometric) (1.26.9)\n",
            "Requirement already satisfied: idna<4,>=2.5 in c:\\users\\gerbk\\anaconda3\\lib\\site-packages (from requests->torch-geometric) (3.3)\n",
            "Requirement already satisfied: certifi>=2017.4.17 in c:\\users\\gerbk\\anaconda3\\lib\\site-packages (from requests->torch-geometric) (2022.6.15)\n",
            "Requirement already satisfied: charset-normalizer~=2.0.0 in c:\\users\\gerbk\\anaconda3\\lib\\site-packages (from requests->torch-geometric) (2.0.4)\n",
            "Requirement already satisfied: threadpoolctl>=2.0.0 in c:\\users\\gerbk\\anaconda3\\lib\\site-packages (from scikit-learn->torch-geometric) (2.2.0)\n",
            "Requirement already satisfied: joblib>=0.11 in c:\\users\\gerbk\\anaconda3\\lib\\site-packages (from scikit-learn->torch-geometric) (1.1.0)\n",
            "Requirement already satisfied: colorama in c:\\users\\gerbk\\anaconda3\\lib\\site-packages (from tqdm->torch-geometric) (0.4.4)\n"
          ]
        }
      ],
      "source": [
        "!pip install torch-scatter -f https://data.pyg.org/whl/torch-1.12.0+cu113.html\n",
        "!pip install torch-sparse -f https://data.pyg.org/whl/torch-1.12.0+cu113.html\n",
        "!pip install torch-geometric"
      ]
    },
    {
      "cell_type": "code",
      "execution_count": 14,
      "metadata": {
        "id": "fplGIuw6thL9"
      },
      "outputs": [],
      "source": [
        "from torch_geometric.nn import GCN\n",
        "from torch_geometric.loader import DataLoader\n",
        "from torch_geometric.datasets import TUDataset\n",
        "import torch"
      ]
    },
    {
      "cell_type": "code",
      "execution_count": 15,
      "metadata": {
        "colab": {
          "base_uri": "https://localhost:8080/"
        },
        "id": "QNYiP-Vvv5Qu",
        "outputId": "d04f2a6c-00c9-4c9c-80b7-d91e22a834d9"
      },
      "outputs": [
        {
          "name": "stdout",
          "output_type": "stream",
          "text": [
            "\n",
            "Dataset: ENZYMES(600):\n",
            "====================\n",
            "Number of graphs: 600\n",
            "Number of features: 3\n",
            "Number of classes: 6\n",
            "\n",
            "Data(edge_index=[2, 168], x=[37, 3], y=[1])\n",
            "=============================================================\n",
            "Number of nodes: 37\n",
            "Number of edges: 168\n",
            "Average node degree: 4.54\n",
            "Has isolated nodes: False\n",
            "Has self-loops: False\n",
            "Is undirected: True\n"
          ]
        }
      ],
      "source": [
        "dataset = TUDataset(root='tmp/ENZYMES', name='ENZYMES')\n",
        "\n",
        "print()\n",
        "print(f'Dataset: {dataset}:')\n",
        "print('====================')\n",
        "print(f'Number of graphs: {len(dataset)}')\n",
        "print(f'Number of features: {dataset.num_features}')\n",
        "print(f'Number of classes: {dataset.num_classes}')\n",
        "\n",
        "data = dataset[0]  # Get the first graph object.\n",
        "\n",
        "print()\n",
        "print(data)\n",
        "print('=============================================================')\n",
        "\n",
        "# Gather some statistics about the first graph.\n",
        "print(f'Number of nodes: {data.num_nodes}')\n",
        "print(f'Number of edges: {data.num_edges}')\n",
        "print(f'Average node degree: {data.num_edges / data.num_nodes:.2f}')\n",
        "print(f'Has isolated nodes: {data.has_isolated_nodes()}')\n",
        "print(f'Has self-loops: {data.has_self_loops()}')\n",
        "print(f'Is undirected: {data.is_undirected()}')"
      ]
    },
    {
      "cell_type": "code",
      "execution_count": 16,
      "metadata": {
        "colab": {
          "base_uri": "https://localhost:8080/"
        },
        "id": "X9uUZ8AO1cK6",
        "outputId": "03166ad5-216c-416e-d8db-99477eb5878d"
      },
      "outputs": [
        {
          "name": "stdout",
          "output_type": "stream",
          "text": [
            "Step 1:\n",
            "===========\n",
            "Number of graphs in current batch: 64\n",
            "DataBatch(edge_index=[2, 8694], x=[2269, 3], y=[64], batch=[2269], ptr=[65])\n",
            "\n",
            "Step 2:\n",
            "===========\n",
            "Number of graphs in current batch: 64\n",
            "DataBatch(edge_index=[2, 8002], x=[2099, 3], y=[64], batch=[2099], ptr=[65])\n",
            "\n",
            "Step 3:\n",
            "===========\n",
            "Number of graphs in current batch: 64\n",
            "DataBatch(edge_index=[2, 7342], x=[1891, 3], y=[64], batch=[1891], ptr=[65])\n",
            "\n",
            "Step 4:\n",
            "===========\n",
            "Number of graphs in current batch: 64\n",
            "DataBatch(edge_index=[2, 8446], x=[2227, 3], y=[64], batch=[2227], ptr=[65])\n",
            "\n",
            "Step 5:\n",
            "===========\n",
            "Number of graphs in current batch: 64\n",
            "DataBatch(edge_index=[2, 8530], x=[2235, 3], y=[64], batch=[2235], ptr=[65])\n",
            "\n",
            "Step 6:\n",
            "===========\n",
            "Number of graphs in current batch: 64\n",
            "DataBatch(edge_index=[2, 8048], x=[2155, 3], y=[64], batch=[2155], ptr=[65])\n",
            "\n",
            "Step 7:\n",
            "===========\n",
            "Number of graphs in current batch: 16\n",
            "DataBatch(edge_index=[2, 2058], x=[509, 3], y=[16], batch=[509], ptr=[17])\n",
            "\n"
          ]
        }
      ],
      "source": [
        "dataset = dataset.shuffle()\n",
        "\n",
        "train_dataset = dataset[:400]\n",
        "test_dataset = dataset[:200]\n",
        "\n",
        "train_loader = DataLoader(train_dataset, batch_size=64, shuffle=True)\n",
        "test_loader = DataLoader(test_dataset, batch_size=64, shuffle=False)\n",
        "\n",
        "for step, data in enumerate(train_loader):\n",
        "  print(f\"Step {step +1}:\")\n",
        "  print('===========')\n",
        "  print(f'Number of graphs in current batch: {data.num_graphs}')\n",
        "  print(data)\n",
        "  print()"
      ]
    },
    {
      "cell_type": "markdown",
      "metadata": {
        "id": "RBp9kJPn1pHh"
      },
      "source": [
        "some other attempts with gym"
      ]
    },
    {
      "cell_type": "code",
      "execution_count": 20,
      "metadata": {
        "colab": {
          "base_uri": "https://localhost:8080/"
        },
        "id": "rLMKkiOpwcOy",
        "outputId": "5b484627-9761-4de2-da64-58447a463d15"
      },
      "outputs": [
        {
          "name": "stderr",
          "output_type": "stream",
          "text": [
            "fatal: destination path 'pytorch_geometric' already exists and is not an empty directory.\n"
          ]
        }
      ],
      "source": [
        "!git clone https://github.com/pyg-team/pytorch_geometric.git\n",
        "!cd pytorch_geometric/graphgym"
      ]
    },
    {
      "cell_type": "code",
      "execution_count": 17,
      "metadata": {
        "colab": {
          "base_uri": "https://localhost:8080/"
        },
        "id": "RFIeyDXbxxDx",
        "outputId": "405b8037-f634-4a4c-9044-92d4ff6bbb15"
      },
      "outputs": [
        {
          "name": "stdout",
          "output_type": "stream",
          "text": [
            " Datentr�ger in Laufwerk D: ist Daten\n",
            " Volumeseriennummer: 8623-1727\n",
            "\n",
            " Verzeichnis von d:\\Uni Heidelberg\\2. Semester\\AML22-project\\GraphGym_attempt\n",
            "\n",
            "23.08.2022  16:21    <DIR>          .\n",
            "23.08.2022  16:21    <DIR>          ..\n",
            "23.08.2022  16:21             6.148 .DS_Store\n",
            "23.08.2022  16:21            27.218 Attempt_GCN_with_GraphGym.ipynb\n",
            "23.08.2022  15:18    <DIR>          pytorch_geometric\n",
            "23.08.2022  15:18    <DIR>          tmp\n",
            "               2 Datei(en),         33.366 Bytes\n",
            "               4 Verzeichnis(se), 74.437.926.912 Bytes frei\n"
          ]
        }
      ],
      "source": [
        "%ls"
      ]
    },
    {
      "cell_type": "code",
      "execution_count": 13,
      "metadata": {
        "colab": {
          "base_uri": "https://localhost:8080/",
          "height": 470
        },
        "id": "6VV0Csznw4so",
        "outputId": "6a06b106-bcf4-416e-ae56-0985722ee103"
      },
      "outputs": [
        {
          "ename": "NameError",
          "evalue": "name 'pytorch_geometric' is not defined",
          "output_type": "error",
          "traceback": [
            "\u001b[1;31m---------------------------------------------------------------------------\u001b[0m",
            "\u001b[1;31mNameError\u001b[0m                                 Traceback (most recent call last)",
            "\u001b[1;32m~\\AppData\\Local\\Temp/ipykernel_14932/1030280041.py\u001b[0m in \u001b[0;36m<module>\u001b[1;34m\u001b[0m\n\u001b[1;32m----> 1\u001b[1;33m \u001b[0mpytorch_geometric\u001b[0m\u001b[1;33m/\u001b[0m\u001b[0mgraphgym\u001b[0m\u001b[1;33m/\u001b[0m\u001b[0mrun_batch\u001b[0m\u001b[1;33m.\u001b[0m\u001b[0msh\u001b[0m\u001b[1;33m\u001b[0m\u001b[1;33m\u001b[0m\u001b[0m\n\u001b[0m",
            "\u001b[1;31mNameError\u001b[0m: name 'pytorch_geometric' is not defined"
          ]
        }
      ],
      "source": []
    },
    {
      "cell_type": "markdown",
      "metadata": {
        "id": "mf8Exntlyrdn"
      },
      "source": [
        "attempt to manually load gcn and train it. it failed"
      ]
    },
    {
      "cell_type": "code",
      "execution_count": 19,
      "metadata": {
        "colab": {
          "base_uri": "https://localhost:8080/",
          "height": 437
        },
        "id": "kNA2Xbcrt0ne",
        "outputId": "95f9e9a6-b993-4e81-a8f3-3b161d959f77"
      },
      "outputs": [
        {
          "ename": "ModuleNotFoundError",
          "evalue": "No module named 'class_resolver'",
          "output_type": "error",
          "traceback": [
            "\u001b[1;31m---------------------------------------------------------------------------\u001b[0m",
            "\u001b[1;31mModuleNotFoundError\u001b[0m                       Traceback (most recent call last)",
            "\u001b[1;32m~\\AppData\\Local\\Temp/ipykernel_14932/1387131082.py\u001b[0m in \u001b[0;36m<module>\u001b[1;34m\u001b[0m\n\u001b[1;32m----> 1\u001b[1;33m \u001b[0mmodel\u001b[0m \u001b[1;33m=\u001b[0m \u001b[0mGCN\u001b[0m\u001b[1;33m(\u001b[0m\u001b[0min_channels\u001b[0m\u001b[1;33m=\u001b[0m\u001b[1;33m-\u001b[0m\u001b[1;36m1\u001b[0m\u001b[1;33m,\u001b[0m \u001b[0mhidden_channels\u001b[0m\u001b[1;33m=\u001b[0m\u001b[1;36m64\u001b[0m\u001b[1;33m,\u001b[0m \u001b[0mnum_layers\u001b[0m\u001b[1;33m=\u001b[0m\u001b[1;36m6\u001b[0m\u001b[1;33m)\u001b[0m\u001b[1;33m\u001b[0m\u001b[1;33m\u001b[0m\u001b[0m\n\u001b[0m\u001b[0;32m      2\u001b[0m \u001b[1;33m\u001b[0m\u001b[0m\n\u001b[0;32m      3\u001b[0m \u001b[0mprint\u001b[0m\u001b[1;33m(\u001b[0m\u001b[0mmodel\u001b[0m\u001b[1;33m)\u001b[0m\u001b[1;33m\u001b[0m\u001b[1;33m\u001b[0m\u001b[0m\n\u001b[0;32m      4\u001b[0m \u001b[0mcriterion\u001b[0m \u001b[1;33m=\u001b[0m \u001b[0mtorch\u001b[0m\u001b[1;33m.\u001b[0m\u001b[0mnn\u001b[0m\u001b[1;33m.\u001b[0m\u001b[0mCrossEntropyLoss\u001b[0m\u001b[1;33m(\u001b[0m\u001b[1;33m)\u001b[0m\u001b[1;33m\u001b[0m\u001b[1;33m\u001b[0m\u001b[0m\n\u001b[0;32m      5\u001b[0m \u001b[1;33m\u001b[0m\u001b[0m\n",
            "\u001b[1;32mc:\\Users\\gerbk\\AppData\\Local\\Programs\\Python\\Python310\\lib\\site-packages\\torch_geometric\\nn\\models\\basic_gnn.py\u001b[0m in \u001b[0;36m__init__\u001b[1;34m(self, in_channels, hidden_channels, num_layers, out_channels, dropout, act, norm, jk, act_first, act_kwargs, **kwargs)\u001b[0m\n\u001b[0;32m     58\u001b[0m         \u001b[0msuper\u001b[0m\u001b[1;33m(\u001b[0m\u001b[1;33m)\u001b[0m\u001b[1;33m.\u001b[0m\u001b[0m__init__\u001b[0m\u001b[1;33m(\u001b[0m\u001b[1;33m)\u001b[0m\u001b[1;33m\u001b[0m\u001b[1;33m\u001b[0m\u001b[0m\n\u001b[0;32m     59\u001b[0m \u001b[1;33m\u001b[0m\u001b[0m\n\u001b[1;32m---> 60\u001b[1;33m         \u001b[1;32mfrom\u001b[0m \u001b[0mclass_resolver\u001b[0m\u001b[1;33m.\u001b[0m\u001b[0mcontrib\u001b[0m\u001b[1;33m.\u001b[0m\u001b[0mtorch\u001b[0m \u001b[1;32mimport\u001b[0m \u001b[0mactivation_resolver\u001b[0m\u001b[1;33m\u001b[0m\u001b[1;33m\u001b[0m\u001b[0m\n\u001b[0m\u001b[0;32m     61\u001b[0m \u001b[1;33m\u001b[0m\u001b[0m\n\u001b[0;32m     62\u001b[0m         \u001b[0mself\u001b[0m\u001b[1;33m.\u001b[0m\u001b[0min_channels\u001b[0m \u001b[1;33m=\u001b[0m \u001b[0min_channels\u001b[0m\u001b[1;33m\u001b[0m\u001b[1;33m\u001b[0m\u001b[0m\n",
            "\u001b[1;31mModuleNotFoundError\u001b[0m: No module named 'class_resolver'"
          ]
        }
      ],
      "source": [
        "model = GCN(in_channels=-1, hidden_channels=64, num_layers=6)\n",
        "\n",
        "print(model)\n",
        "criterion = torch.nn.CrossEntropyLoss()\n",
        "\n",
        "\n",
        "def train():\n",
        "    model.train()\n",
        "\n",
        "    for data in train_loader:  # Iterate in batches over the training dataset.\n",
        "         out = model(data.x, data.edge_index)  # Perform a single forward pass.\n",
        "         loss = criterion(out, data.y)  # Compute the loss.\n",
        "         loss.backward()  # Derive gradients.\n",
        "         optimizer.step()  # Update parameters based on gradients.\n",
        "         optimizer.zero_grad()  # Clear gradients.\n",
        "    \n",
        "\n",
        "\n",
        "def test(loader):\n",
        "     model.eval()\n",
        "\n",
        "     correct = 0\n",
        "     for data in loader:  # Iterate in batches over the training/test dataset.\n",
        "         out = model(data.x, data.edge_index, data.batch)  \n",
        "         pred = out.argmax(dim=1)  # Use the class with highest probability.\n",
        "         correct += int((pred == data.y).sum())  # Check against ground-truth labels.\n",
        "     return correct / len(loader.dataset)  # Derive ratio of correct predictions.\n",
        "\n",
        "\n",
        "for epoch in range(1, 171):\n",
        "    train()\n",
        "    train_acc = test(train_loader)\n",
        "    test_acc = test(test_loader)\n",
        "    print(f'Epoch: {epoch:03d}, Train Acc: {train_acc:.4f}, Test Acc: {test_acc:.4f}')"
      ]
    },
    {
      "cell_type": "code",
      "execution_count": null,
      "metadata": {
        "id": "jMXYen244M7g"
      },
      "outputs": [],
      "source": []
    }
  ],
  "metadata": {
    "accelerator": "GPU",
    "colab": {
      "collapsed_sections": [],
      "name": "Attempt_GCN with GraphGym.ipynb",
      "provenance": []
    },
    "gpuClass": "standard",
    "kernelspec": {
      "display_name": "Python 3.10.4 64-bit",
      "language": "python",
      "name": "python3"
    },
    "language_info": {
      "codemirror_mode": {
        "name": "ipython",
        "version": 3
      },
      "file_extension": ".py",
      "mimetype": "text/x-python",
      "name": "python",
      "nbconvert_exporter": "python",
      "pygments_lexer": "ipython3",
      "version": "3.10.4"
    },
    "vscode": {
      "interpreter": {
        "hash": "e2acad2d318e78a00a44646627195d999ce444529836353b37cf256bc45b04b9"
      }
    }
  },
  "nbformat": 4,
  "nbformat_minor": 0
}
