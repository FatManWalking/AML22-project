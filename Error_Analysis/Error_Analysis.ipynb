{
 "cells": [
  {
   "cell_type": "code",
   "execution_count": 78,
   "metadata": {},
   "outputs": [],
   "source": [
    "import numpy as np\n",
    "import igraph as ig \n",
    "import matplotlib.pyplot as plt\n",
    "import pandas as pd\n",
    "from os import listdir\n",
    "import math\n",
    "import networkx as nx"
   ]
  },
  {
   "cell_type": "markdown",
   "metadata": {},
   "source": [
    "Helper Methods"
   ]
  },
  {
   "cell_type": "code",
   "execution_count": 3,
   "metadata": {},
   "outputs": [],
   "source": [
    "# load all dataset names and graph data from \"graphs\" directory\n",
    "def get_data(dir=\"graphs/HGP/\"):\n",
    "    files = sorted(listdir(dir))\n",
    "\n",
    "    dataset_names = []\n",
    "    wrong_graphs, correct_graphs = [], []\n",
    "\n",
    "    for file in files:\n",
    "        if file.endswith(\"wrong_graphs.npy\"):\n",
    "            dataset_names.append(file.replace(\"_HGP_wrong_graphs.npy\", \"\"))\n",
    "\n",
    "            data_wrong_graphs = np.load(dir+file, allow_pickle=True)\n",
    "            wrong_graphs.append(data_wrong_graphs)\n",
    "\n",
    "        if file.endswith(\"right_graphs.npy\"):\n",
    "            data_right_graphs = np.load(dir+file, allow_pickle=True)\n",
    "            correct_graphs.append(data_right_graphs)\n",
    "\n",
    "    return dataset_names, wrong_graphs, correct_graphs"
   ]
  },
  {
   "cell_type": "code",
   "execution_count": 106,
   "metadata": {},
   "outputs": [],
   "source": [
    "def get_cna_metrics(datasets: list):\n",
    "    # maps the index of graph_metrics to the metric name (needed to label automatically in visualization)\n",
    "    index_to_metric = {0: 'Number of Vertices',\n",
    "                       1: 'Number of Cliques',\n",
    "                       2: 'Maximum Degree',\n",
    "                       3: 'Minimum Degree',\n",
    "                       4: 'Average Degree',\n",
    "                       5: 'Correlation Coefficient',\n",
    "                       6: 'Density',\n",
    "                       7: 'Average Neighbor Degree',\n",
    "                       8: 'Clustering Coefficient',\n",
    "                       9: 'Edge Connectivity'}\n",
    "\n",
    "    # list of graph metrics for each dataset\n",
    "    all_graph_metrics = []\n",
    "\n",
    "    for i, dataset in enumerate(datasets):\n",
    "        graph_metrics = np.zeros((len(dataset), len(index_to_metric.keys())))\n",
    "\n",
    "        for j, graph_data in enumerate(dataset):\n",
    "            graph = ig.Graph.from_networkx(graph_data)\n",
    "\n",
    "            vcount = graph.vcount()\n",
    "            cliques = graph.clique_number()\n",
    "            max_deg = graph.maxdegree()\n",
    "            min_degree = min(graph.degree(), default=0)\n",
    "            avg_deg = np.average(graph.degree())\n",
    "            assortativity = graph.assortativity_degree(directed=False)\n",
    "\n",
    "            density = graph.density(loops=True)\n",
    "            avg_neighbor_deg = np.average(np.array(graph.knn()[0]))\n",
    "            # graph.knn()[1] knn for each node degree.  The zeroth element of this list corresponds to vertices of degree 1.\n",
    "\n",
    "            clustering_coef = graph.transitivity_undirected()\n",
    "            connectivity = graph.edge_connectivity(checks=False)\n",
    "\n",
    "            graph_metrics[j] = np.array([vcount, cliques, max_deg,\n",
    "                                         min_degree,  avg_deg, assortativity, density, avg_neighbor_deg, clustering_coef, connectivity])\n",
    "\n",
    "        all_graph_metrics.append(graph_metrics)\n",
    "    return all_graph_metrics, index_to_metric\n"
   ]
  },
  {
   "cell_type": "code",
   "execution_count": 107,
   "metadata": {},
   "outputs": [],
   "source": [
    "def set_box_color(bp, color):\n",
    "    plt.setp(bp['boxes'], color=color)\n",
    "    plt.setp(bp['whiskers'], color=color)\n",
    "    plt.setp(bp['caps'], color=color)\n",
    "    plt.setp(bp['medians'], color=color)\n",
    "\n",
    "\n",
    "def get_box_plot_data(labels, bp):\n",
    "    rows_list = []\n",
    "\n",
    "    for i in range(len(labels)):\n",
    "        dict1 = {}\n",
    "        dict1['label'] = labels[i]\n",
    "        dict1['lower_whisker'] = bp['whiskers'][i*2].get_ydata()[1]\n",
    "        dict1['lower_quartile'] = bp['boxes'][i].get_ydata()[1]\n",
    "        dict1['median'] = bp['medians'][i].get_ydata()[1]\n",
    "        dict1['upper_quartile'] = bp['boxes'][i].get_ydata()[2]\n",
    "        dict1['upper_whisker'] = bp['whiskers'][(i*2)+1].get_ydata()[1]\n",
    "        rows_list.append(dict1)\n",
    "\n",
    "    return print(pd.DataFrame(rows_list))\n"
   ]
  },
  {
   "cell_type": "code",
   "execution_count": 120,
   "metadata": {},
   "outputs": [],
   "source": [
    "def plot_boxplot(wrong_class_metrics: list, correct_class_metrics: list, index: int, index_to_metric: dict, dataset_names: list):\n",
    "    data_wrong_class = [dataset[:, index]\n",
    "                        for dataset in wrong_class_metrics]\n",
    "    \n",
    "    data_right_class = [dataset[:, index]\n",
    "                        for dataset in correct_class_metrics]\n",
    "\n",
    "    #filter out nan values\n",
    "    data_wrong_class = [[value for value in dataset if not math.isnan(value)]\n",
    "                        for dataset in data_wrong_class]\n",
    "    data_right_class = [[value for value in dataset if not math.isnan(value)]\n",
    "                        for dataset in data_right_class]\n",
    "\n",
    "    x = np.arange(len(dataset_names))\n",
    "    width = 0.4\n",
    "    distance = 0.22\n",
    "\n",
    "    plt.rcParams.update({'font.size': 20})\n",
    "\n",
    "    fig, ax = plt.subplots(figsize=(17,6))\n",
    "    meanpointprops = dict(marker='D', markerfacecolor='b',\n",
    "                          markeredgecolor='b')\n",
    "   \n",
    "    medianprops = dict(linestyle='-', linewidth=2.5, color='firebrick')\n",
    "    medianprops_2 = dict(linestyle='-', linewidth=2.5, color='dodgerblue')\n",
    "\n",
    "    boxplot_wrong = ax.boxplot(data_wrong_class,\n",
    "                               positions=x-distance, widths=width, meanprops=meanpointprops, meanline=False,\n",
    "                               showmeans=True, medianprops=medianprops)\n",
    "    boxplot_right = ax.boxplot(data_right_class,\n",
    "                               positions=x+distance, widths=width, meanprops=meanpointprops, meanline=False,\n",
    "                               showmeans=True, medianprops=medianprops_2)\n",
    "\n",
    "    set_box_color(boxplot_wrong, '#D7191C')\n",
    "    set_box_color(boxplot_right, 'g')\n",
    "\n",
    "    metric = index_to_metric[index]\n",
    "    ax.set_title(f\"{metric} of Classified Graphs\")\n",
    "    ax.set_ybound(lower=0)\n",
    "    ax.set_xticks(x, dataset_names)\n",
    "    ax.set_ylabel(metric)\n",
    "    ax.set_xlabel('Dataset')\n",
    "    fig.tight_layout()\n",
    "\n",
    "    #get_box_plot_data(dataset_names, boxplot_wrong)\n",
    "    print()\n",
    "    #get_box_plot_data(dataset_names, boxplot_right)\n",
    "\n",
    "\n",
    "    # helpful operations to create labels that are visible in the legend\n",
    "    plt.plot([], c='#D7191C', label='Wrongly Classified Graphs')\n",
    "    plt.plot([], c='g', label='Correctly Classified Graphs')\n",
    "    plt.plot([], marker='D', linestyle='None', label='Mean', color='b')\n",
    "    plt.legend()\n",
    "    plt.show()\n"
   ]
  },
  {
   "cell_type": "code",
   "execution_count": 127,
   "metadata": {},
   "outputs": [
    {
     "name": "stderr",
     "output_type": "stream",
     "text": [
      "/Library/Frameworks/Python.framework/Versions/3.9/lib/python3.9/site-packages/numpy/lib/function_base.py:380: RuntimeWarning: Mean of empty slice.\n",
      "  avg = a.mean(axis)\n",
      "/Library/Frameworks/Python.framework/Versions/3.9/lib/python3.9/site-packages/numpy/core/_methods.py:189: RuntimeWarning: invalid value encountered in double_scalars\n",
      "  ret = ret.dtype.type(ret / rcount)\n"
     ]
    },
    {
     "name": "stdout",
     "output_type": "stream",
     "text": [
      "\n"
     ]
    },
    {
     "data": {
      "image/png": "[encoded data removed]",
      "text/plain": [
       "<Figure size 1224x432 with 1 Axes>"
      ]
     },
     "metadata": {
      "needs_background": "light"
     },
     "output_type": "display_data"
    }
   ],
   "source": [
    "dataset_names, wrong_graphs, correct_graphs = get_data()\n",
    "\n",
    "all_graph_metrics_wrong, index_to_metric = get_cna_metrics(wrong_graphs)\n",
    "all_graph_metrics_right, index_to_metric = get_cna_metrics(correct_graphs)\n",
    "\n",
    "plot_boxplot(all_graph_metrics_wrong, all_graph_metrics_right,\n",
    "             9, index_to_metric, dataset_names)\n"
   ]
  },
  {
   "cell_type": "code",
   "execution_count": 137,
   "metadata": {},
   "outputs": [
    {
     "data": {
      "text/html": [
       "<div>\n",
       "<style scoped>\n",
       "    .dataframe tbody tr th:only-of-type {\n",
       "        vertical-align: middle;\n",
       "    }\n",
       "\n",
       "    .dataframe tbody tr th {\n",
       "        vertical-align: top;\n",
       "    }\n",
       "\n",
       "    .dataframe thead th {\n",
       "        text-align: right;\n",
       "    }\n",
       "</style>\n",
       "<table border=\"1\" class=\"dataframe\">\n",
       "  <thead>\n",
       "    <tr style=\"text-align: right;\">\n",
       "      <th></th>\n",
       "      <th>0</th>\n",
       "      <th>1</th>\n",
       "      <th>2</th>\n",
       "    </tr>\n",
       "  </thead>\n",
       "  <tbody>\n",
       "    <tr>\n",
       "      <th>AIDS</th>\n",
       "      <td>3</td>\n",
       "      <td>297</td>\n",
       "      <td>0.010</td>\n",
       "    </tr>\n",
       "    <tr>\n",
       "      <th>COIL-RAG</th>\n",
       "      <td>51</td>\n",
       "      <td>534</td>\n",
       "      <td>0.087</td>\n",
       "    </tr>\n",
       "    <tr>\n",
       "      <th>ENZYMES</th>\n",
       "      <td>62</td>\n",
       "      <td>28</td>\n",
       "      <td>0.689</td>\n",
       "    </tr>\n",
       "    <tr>\n",
       "      <th>FRANKENSTEIN</th>\n",
       "      <td>291</td>\n",
       "      <td>360</td>\n",
       "      <td>0.447</td>\n",
       "    </tr>\n",
       "    <tr>\n",
       "      <th>NCI1</th>\n",
       "      <td>173</td>\n",
       "      <td>444</td>\n",
       "      <td>0.280</td>\n",
       "    </tr>\n",
       "    <tr>\n",
       "      <th>PROTEINS</th>\n",
       "      <td>47</td>\n",
       "      <td>120</td>\n",
       "      <td>0.281</td>\n",
       "    </tr>\n",
       "  </tbody>\n",
       "</table>\n",
       "</div>"
      ],
      "text/plain": [
       "                0    1      2\n",
       "AIDS            3  297  0.010\n",
       "COIL-RAG       51  534  0.087\n",
       "ENZYMES        62   28  0.689\n",
       "FRANKENSTEIN  291  360  0.447\n",
       "NCI1          173  444  0.280\n",
       "PROTEINS       47  120  0.281"
      ]
     },
     "execution_count": 137,
     "metadata": {},
     "output_type": "execute_result"
    }
   ],
   "source": [
    "dataset_names, wrong_graphs, correct_graphs\n",
    "\n",
    "wrong = [len(dt) for dt in wrong_graphs]\n",
    "correct = [len(dt) for dt in correct_graphs]\n",
    "error_rate = [\"{:,.3f}\".format((wrong[i] / (wrong[i]+correct[i]))) for i in range(len(dataset_names))]\n",
    "\n",
    "df = pd.DataFrame(index=dataset_names, data=zip(wrong,  correct, error_rate))\n",
    "df"
   ]
  },
  {
   "cell_type": "code",
   "execution_count": 144,
   "metadata": {},
   "outputs": [
    {
     "name": "stdout",
     "output_type": "stream",
     "text": [
      "& 3 & 297 & 0.010 &\n",
      "& 51 & 534 & 0.087 &\n",
      "& 62 & 28 & 0.689 &\n",
      "& 291 & 360 & 0.447 &\n",
      "& 173 & 444 & 0.280 &\n",
      "& 47 & 120 & 0.281 &\n"
     ]
    }
   ],
   "source": [
    "z = zip(wrong,  correct, error_rate)\n",
    "for i in range(len(dataset_names)):\n",
    "    print(f\"& {wrong[i]} & {correct[i]} & {error_rate[i]} &\")"
   ]
  },
  {
   "cell_type": "code",
   "execution_count": null,
   "metadata": {},
   "outputs": [],
   "source": []
  }
 ],
 "metadata": {
  "kernelspec": {
   "display_name": "Python 3.9.0 64-bit",
   "language": "python",
   "name": "python3"
  },
  "language_info": {
   "codemirror_mode": {
    "name": "ipython",
    "version": 3
   },
   "file_extension": ".py",
   "mimetype": "text/x-python",
   "name": "python",
   "nbconvert_exporter": "python",
   "pygments_lexer": "ipython3",
   "version": "3.9.0"
  },
  "orig_nbformat": 4,
  "vscode": {
   "interpreter": {
    "hash": "949777d72b0d2535278d3dc13498b2535136f6dfe0678499012e853ee9abcab1"
   }
  }
 },
 "nbformat": 4,
 "nbformat_minor": 2
}
