{
 "cells": [
  {
   "cell_type": "code",
   "execution_count": 1,
   "metadata": {},
   "outputs": [],
   "source": [
    "import numpy as np\n",
    "import igraph as ig \n",
    "import matplotlib.pyplot as plt\n",
    "from pandas import DataFrame\n",
    "from os import listdir"
   ]
  },
  {
   "cell_type": "markdown",
   "metadata": {},
   "source": [
    "Helper Methods"
   ]
  },
  {
   "cell_type": "code",
   "execution_count": 2,
   "metadata": {},
   "outputs": [],
   "source": [
    "# load all dataset names and graph data from \"graphs\" directory\n",
    "def get_data(dir=\"graphs/\"):\n",
    "    files = sorted(listdir(dir))\n",
    "\n",
    "    dataset_names = []\n",
    "    wrong_graphs, correct_graphs = [], []\n",
    "\n",
    "    for file in files:\n",
    "        if file.endswith(\"wrong_graphs.npy\"):\n",
    "            dataset_names.append(file.replace(\"_wrong_graphs.npy\", \"\"))\n",
    "\n",
    "            data_wrong_graphs = np.load(dir+file, allow_pickle=True)\n",
    "            wrong_graphs.append(data_wrong_graphs)\n",
    "\n",
    "        if file.endswith(\"right_graphs.npy\"):\n",
    "            data_right_graphs = np.load(dir+file, allow_pickle=True)\n",
    "            correct_graphs.append(data_right_graphs)\n",
    "\n",
    "    return dataset_names, wrong_graphs, correct_graphs"
   ]
  },
  {
   "cell_type": "code",
   "execution_count": 3,
   "metadata": {},
   "outputs": [],
   "source": [
    "def get_cna_metrics(datasets: list):\n",
    "    # maps the index of graph_metrics to the metric name (needed to label automatically in visualization)\n",
    "    index_to_metric = {0: 'Number of Vertices',\n",
    "                       1: 'Number of Cliques',\n",
    "                       2: 'Maximum Degree',\n",
    "                       3: 'Minimum Degree',\n",
    "                       4: 'Average Degree',\n",
    "                       5: 'assortativity',\n",
    "                       6: 'Density',\n",
    "                       7: 'Average Neighbor Degree'}\n",
    "\n",
    "    # list of graph metrics for each dataset\n",
    "    all_graph_metrics = []\n",
    "\n",
    "    for i, dataset in enumerate(datasets):\n",
    "        graph_metrics = np.zeros((len(dataset), len(index_to_metric.keys())))\n",
    "\n",
    "        for j, graph_data in enumerate(dataset):\n",
    "            graph = ig.Graph.Adjacency(graph_data, mode='undirected')\n",
    "\n",
    "            vcount = graph.vcount()\n",
    "            cliques = graph.clique_number()\n",
    "            max_deg = graph.maxdegree()\n",
    "            min_degree = min(graph.degree())\n",
    "            avg_deg = np.average(graph.degree())\n",
    "            assortativity = graph.assortativity_degree()\n",
    "\n",
    "            density = graph.density(loops=True)\n",
    "            avg_neighbor_deg = np.average(np.array(graph.knn()[0]))\n",
    "            # graph.knn()[1] knn for each node degree.  The zeroth element of this list corresponds to vertices of degree 1.\n",
    "\n",
    "            graph_metrics[j] = np.array([vcount, cliques, max_deg,\n",
    "                                min_degree,  avg_deg, assortativity, density, avg_neighbor_deg])\n",
    "\n",
    "        all_graph_metrics.append(graph_metrics)\n",
    "    return all_graph_metrics, index_to_metric\n"
   ]
  },
  {
   "cell_type": "code",
   "execution_count": 4,
   "metadata": {},
   "outputs": [],
   "source": [
    "# get the cna metrics from the correctly and wrong classified data, including the index of the metric of interest\n",
    "def plot_value_range(wrong_class_metrics: list, correct_class_metrics: list, index: int, index_to_metric: dict, dataset_names: list):\n",
    "    y_top_wrong_class = [max(dataset[:, index]) for dataset in wrong_class_metrics]\n",
    "    y_top_right_class = [max(dataset[:, index]) for dataset in correct_class_metrics]\n",
    "\n",
    "    #set lower border of bar to visualize value range\n",
    "    y_bottom_wrong = [min(dataset[:, index]) for dataset in wrong_class_metrics]\n",
    "    y_bottom_right = [min(dataset[:, index]) for dataset in correct_class_metrics]\n",
    "\n",
    "    labels = [\"ENZYMES\"]\n",
    "    x = np.arange(len(dataset_names))\n",
    "    width = 0.35\n",
    "\n",
    "    fig, ax = plt.subplots()\n",
    "    rect1 = ax.bar(x-width/2, y_top_wrong_class, width,\n",
    "                   label='Wrong classified graphs', bottom=y_bottom_wrong)\n",
    "    rect2 = ax.bar(x+width/2, y_top_right_class, width,\n",
    "                   label='Right classified graphs', bottom=y_bottom_right)\n",
    "\n",
    "    metric = index_to_metric[index]\n",
    "    ax.set_title(f\"Value range of {metric} for classified graphs\")\n",
    "    ax.set_ybound(lower=0)\n",
    "    ax.set_xticks(x, dataset_names)\n",
    "    ax.set_ylabel(metric)\n",
    "    plt.legend()\n",
    "    fig.tight_layout()\n",
    "    plt.show()"
   ]
  },
  {
   "cell_type": "markdown",
   "metadata": {},
   "source": [
    "Execute above functions to visualize results of CNA metric for all datasets "
   ]
  },
  {
   "cell_type": "code",
   "execution_count": 5,
   "metadata": {},
   "outputs": [
    {
     "data": {
      "image/png": "[encoded data removed]",
      "text/plain": [
       "<Figure size 432x288 with 1 Axes>"
      ]
     },
     "metadata": {
      "needs_background": "light"
     },
     "output_type": "display_data"
    }
   ],
   "source": [
    "dataset_names, wrong_graphs, correct_graphs = get_data()\n",
    "\n",
    "all_graph_metrics_wrong, index_to_metric = get_cna_metrics(wrong_graphs)\n",
    "all_graph_metrics_right, index_to_metric = get_cna_metrics(correct_graphs)\n",
    "\n",
    "plot_value_range(all_graph_metrics_wrong, all_graph_metrics_right, 1, index_to_metric,dataset_names)\n"
   ]
  },
  {
   "cell_type": "markdown",
   "metadata": {},
   "source": [
    "Wrong Classified Graphs"
   ]
  },
  {
   "cell_type": "code",
   "execution_count": 6,
   "metadata": {},
   "outputs": [
    {
     "ename": "FileNotFoundError",
     "evalue": "[Errno 2] No such file or directory: 'wrong_graphs.npy'",
     "output_type": "error",
     "traceback": [
      "\u001b[0;31m---------------------------------------------------------------------------\u001b[0m",
      "\u001b[0;31mFileNotFoundError\u001b[0m                         Traceback (most recent call last)",
      "\u001b[1;32m/Users/angelinabasova/Projekts - Programming/AML22-project/Error_Analysis/Error_Analysis.ipynb Zelle 9\u001b[0m in \u001b[0;36m<module>\u001b[0;34m\u001b[0m\n\u001b[0;32m----> <a href='vscode-notebook-cell:/Users/angelinabasova/Projekts%20-%20Programming/AML22-project/Error_Analysis/Error_Analysis.ipynb#X11sZmlsZQ%3D%3D?line=0'>1</a>\u001b[0m dt \u001b[39m=\u001b[39m np\u001b[39m.\u001b[39;49mload(\u001b[39m\"\u001b[39;49m\u001b[39mwrong_graphs.npy\u001b[39;49m\u001b[39m\"\u001b[39;49m, allow_pickle\u001b[39m=\u001b[39;49m\u001b[39mTrue\u001b[39;49;00m)\n\u001b[1;32m      <a href='vscode-notebook-cell:/Users/angelinabasova/Projekts%20-%20Programming/AML22-project/Error_Analysis/Error_Analysis.ipynb#X11sZmlsZQ%3D%3D?line=1'>2</a>\u001b[0m \u001b[39mtype\u001b[39m(dt)\n\u001b[1;32m      <a href='vscode-notebook-cell:/Users/angelinabasova/Projekts%20-%20Programming/AML22-project/Error_Analysis/Error_Analysis.ipynb#X11sZmlsZQ%3D%3D?line=3'>4</a>\u001b[0m graph \u001b[39m=\u001b[39m ig\u001b[39m.\u001b[39mGraph\u001b[39m.\u001b[39mAdjacency(dt[\u001b[39m2\u001b[39m], mode\u001b[39m=\u001b[39m\u001b[39m'\u001b[39m\u001b[39mundirected\u001b[39m\u001b[39m'\u001b[39m)\n",
      "File \u001b[0;32m/Library/Frameworks/Python.framework/Versions/3.9/lib/python3.9/site-packages/numpy/lib/npyio.py:407\u001b[0m, in \u001b[0;36mload\u001b[0;34m(file, mmap_mode, allow_pickle, fix_imports, encoding)\u001b[0m\n\u001b[1;32m    405\u001b[0m     own_fid \u001b[39m=\u001b[39m \u001b[39mFalse\u001b[39;00m\n\u001b[1;32m    406\u001b[0m \u001b[39melse\u001b[39;00m:\n\u001b[0;32m--> 407\u001b[0m     fid \u001b[39m=\u001b[39m stack\u001b[39m.\u001b[39menter_context(\u001b[39mopen\u001b[39;49m(os_fspath(file), \u001b[39m\"\u001b[39;49m\u001b[39mrb\u001b[39;49m\u001b[39m\"\u001b[39;49m))\n\u001b[1;32m    408\u001b[0m     own_fid \u001b[39m=\u001b[39m \u001b[39mTrue\u001b[39;00m\n\u001b[1;32m    410\u001b[0m \u001b[39m# Code to distinguish from NumPy binary files and pickles.\u001b[39;00m\n",
      "\u001b[0;31mFileNotFoundError\u001b[0m: [Errno 2] No such file or directory: 'wrong_graphs.npy'"
     ]
    }
   ],
   "source": [
    "dt = np.load(\"wrong_graphs.npy\", allow_pickle=True)\n",
    "type(dt)\n",
    "\n",
    "graph = ig.Graph.Adjacency(dt[2], mode='undirected')\n",
    "ig.plot(graph)"
   ]
  },
  {
   "cell_type": "code",
   "execution_count": null,
   "metadata": {},
   "outputs": [
    {
     "data": {
      "image/png": "[encoded data removed]",
      "text/plain": [
       "<Figure size 432x288 with 1 Axes>"
      ]
     },
     "metadata": {
      "needs_background": "light"
     },
     "output_type": "display_data"
    }
   ],
   "source": [
    "# plot degree distribution\n",
    "bins = graph.maxdegree()\n",
    "plt.hist(graph.degree(), bins)\n",
    "plt.title(\"Degree Distribution\")\n",
    "plt.xlabel(\"Degree\")\n",
    "plt.ylabel(\"Number of Nodes\")\n",
    "plt.show()\n"
   ]
  },
  {
   "cell_type": "code",
   "execution_count": null,
   "metadata": {},
   "outputs": [],
   "source": [
    "vcount = graph.vcount()\n",
    "\n",
    "cliques = graph.clique_number()\n",
    "max_deg = graph.maxdegree()\n",
    "min_degree = min(graph.degree())\n",
    "avg_deg = np.average(graph.degree())\n",
    "assortativity = graph.assortativity_degree()\n",
    "\n",
    "graph.density(loops=True)\n",
    "avg_neighbor_deg = np.average(np.array(graph.knn()[0]))\n",
    "# graph.knn()[1] knn for each node degree.  The zeroth element of this list corresponds to vertices of degree 1.\n"
   ]
  },
  {
   "cell_type": "code",
   "execution_count": null,
   "metadata": {},
   "outputs": [
    {
     "name": "stdout",
     "output_type": "stream",
     "text": [
      "62\n",
      "28\n"
     ]
    },
    {
     "data": {
      "image/png": "[encoded data removed]",
      "text/plain": [
       "<Figure size 432x288 with 1 Axes>"
      ]
     },
     "metadata": {
      "needs_background": "light"
     },
     "output_type": "display_data"
    }
   ],
   "source": [
    "data_wrong_class = np.load(\"wrong_graphs.npy\", allow_pickle=True)\n",
    "wrong_class_array = get_cna_metrics(data_wrong_class)\n",
    "print(len(wrong_class_array))\n",
    "\n",
    "data_right_class = np.load(\"right_graphs.npy\", allow_pickle=True)\n",
    "correct_class_array = get_cna_metrics(data_right_class)\n",
    "print(len(correct_class_array))\n",
    "\n",
    "plot_value_range(wrong_class_array, correct_class_array, 5)\n"
   ]
  },
  {
   "cell_type": "code",
   "execution_count": null,
   "metadata": {},
   "outputs": [],
   "source": []
  }
 ],
 "metadata": {
  "kernelspec": {
   "display_name": "Python 3.8.13 ('HGL')",
   "language": "python",
   "name": "python3"
  },
  "language_info": {
   "codemirror_mode": {
    "name": "ipython",
    "version": 3
   },
   "file_extension": ".py",
   "mimetype": "text/x-python",
   "name": "python",
   "nbconvert_exporter": "python",
   "pygments_lexer": "ipython3",
   "version": "3.8.13"
  },
  "orig_nbformat": 4,
  "vscode": {
   "interpreter": {
    "hash": "20a035c567a38bd1f2940572b24bf1d024cc8b525cc5570f51a8ddddcc88cb9a"
   }
  }
 },
 "nbformat": 4,
 "nbformat_minor": 2
}
