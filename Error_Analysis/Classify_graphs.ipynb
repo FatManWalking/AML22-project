{
 "cells": [
  {
   "cell_type": "code",
   "execution_count": 1,
   "metadata": {},
   "outputs": [],
   "source": [
    "import torch\n",
    "import torch.nn as nn\n",
    "import pandas as pd\n",
    "\n",
    "import sys\n",
    "sys.path.append('../')\n",
    "from HGP.models import LightModel\n",
    "import pickle"
   ]
  },
  {
   "cell_type": "code",
   "execution_count": 2,
   "metadata": {},
   "outputs": [],
   "source": [
    "import networkx as nx"
   ]
  },
  {
   "cell_type": "code",
   "execution_count": 3,
   "metadata": {
    "lines_to_next_cell": 2
   },
   "outputs": [],
   "source": [
    "from utils.imports import *\n",
    "import pytorch_lightning as pl\n",
    "from pytorch_lightning.callbacks import ModelCheckpoint\n",
    "from pytorch_lightning.loggers import TensorBoardLogger\n",
    "from pytorch_lightning.profilers import SimpleProfiler"
   ]
  },
  {
   "cell_type": "markdown",
   "metadata": {},
   "source": [
    "# BITTE EINMAL DEN MODELL NAMEN HIER EINMAL EINTRAGEN (HGP-SL o.ä.)\n",
    "\n",
    "Damit die Datei unter dem Namen gespeichert wird"
   ]
  },
  {
   "cell_type": "code",
   "execution_count": null,
   "metadata": {},
   "outputs": [],
   "source": [
    "model_name = \"HGPSL_Enzymes\""
   ]
  },
  {
   "cell_type": "code",
   "execution_count": 7,
   "metadata": {},
   "outputs": [
    {
     "name": "stderr",
     "output_type": "stream",
     "text": [
      "Global seed set to 42\n"
     ]
    },
    {
     "data": {
      "text/plain": [
       "42"
      ]
     },
     "execution_count": 7,
     "metadata": {},
     "output_type": "execute_result"
    }
   ],
   "source": [
    "# %%\n",
    "args_dict = take_hp(\"../configs/emp-enzym-equal.yml\")\n",
    "\n",
    "pl.seed_everything(args_dict[\"random_seed\"], workers=True)\n"
   ]
  },
  {
   "cell_type": "code",
   "execution_count": 8,
   "metadata": {},
   "outputs": [],
   "source": [
    "# %%\n",
    "# Load the dataset\n",
    "dataset = TUDataset(\n",
    "    Path.cwd().joinpath(\"../data\"),\n",
    "    name=args_dict[\"dataset\"],\n",
    "    use_node_attr=True,\n",
    ")\n",
    "args_dict[\"num_classes\"] = dataset.num_classes\n",
    "args_dict[\"num_features\"] = dataset.num_features"
   ]
  },
  {
   "cell_type": "code",
   "execution_count": 9,
   "metadata": {},
   "outputs": [
    {
     "name": "stdout",
     "output_type": "stream",
     "text": [
      "Hole: 600, Train: 420, Val: 90, Test: 90\n"
     ]
    }
   ],
   "source": [
    "split_train = int(dataset.len() * args_dict[\"split_ratio\"])\n",
    "split_val = int((dataset.len() - split_train) * args_dict[\"test_ratio\"])\n",
    "split_test = dataset.len() - split_val - split_train\n",
    "\n",
    "print(\n",
    "    f\"Hole: {dataset.len()}, Train: {split_train}, Val: {split_val}, Test: {split_test}\"\n",
    ")\n",
    "# %%\n",
    "train_data, eval_data, test_data = random_split(\n",
    "    dataset,\n",
    "    [split_train, split_val, split_test],\n",
    "    generator=torch.Generator().manual_seed(42),\n",
    ")"
   ]
  },
  {
   "cell_type": "markdown",
   "id": "e285d022",
   "metadata": {
    "lines_to_next_cell": 2
   },
   "source": [
    "train_data, eval_data, test_data = random_split(\n",
    "    dataset,\n",
    "    [split_train, split_val, split_test],\n",
    "    generator=torch.Generator().manual_seed(42),\n",
    ")"
   ]
  },
  {
   "cell_type": "code",
   "execution_count": 10,
   "metadata": {},
   "outputs": [],
   "source": [
    "# %%\n",
    "train_loader = DataLoader(\n",
    "    train_data,\n",
    "    batch_size=args_dict[\"batch_size\"],\n",
    "    shuffle=False,\n",
    "    num_workers=args_dict[\"num_workers\"],\n",
    ")\n",
    "val_loader = DataLoader(\n",
    "    eval_data,\n",
    "    batch_size=args_dict[\"batch_size\"],\n",
    "    shuffle=False,\n",
    "    num_workers=args_dict[\"num_workers\"],\n",
    ")\n",
    "test_loader = DataLoader(\n",
    "    test_data,\n",
    "    batch_size= 1 ,# dataset.len() - split_test,\n",
    "    shuffle=False,\n",
    "    num_workers=args_dict[\"num_workers\"],\n",
    ")"
   ]
  },
  {
   "cell_type": "code",
   "execution_count": 71,
   "metadata": {},
   "outputs": [],
   "source": [
    "# Loop over all models in the model/emp-enzym-equal folder\n",
    "# and classify the graphs\n",
    "loss = nn.CrossEntropyLoss(reduction=\"none\")\n",
    "softmax = nn.Softmax(dim=1)\n",
    "Path(f\"../analysis/{args_dict['architecture']}/{args_dict['dataset']}\").mkdir(parents=True, exist_ok=True)\n",
    "\n",
    "\n",
    "for i in range(5):\n",
    "    model = LightModel(args_dict).to(args_dict[\"device\"])\n",
    "    model.eval()\n",
    "    model.freeze()\n",
    "    model.load_state_dict(torch.load(f\"../model/emp-enzyme_equal/model_{i}.pt\"))\n",
    "    graph_ids = []\n",
    "\n",
    "    graphs = []\n",
    "    counter = 0\n",
    "    for batch in test_loader:\n",
    "        data = batch.to(args_dict[\"device\"])\n",
    "        out = model(data)\n",
    "        prediction_truth = np.argmax(softmax(out).detach().cpu().numpy()) == data.y.detach().cpu().numpy()\n",
    "        \n",
    "        graph_dict = {\n",
    "\n",
    "            \"replication\": f\"{i+1}\",\t\n",
    "            \"graph_id\": f\"{counter}\",\n",
    "            \"prediction\": f\"{np.argmax(softmax(out).detach().cpu().numpy())}\",\n",
    "            \"label\": f\"{data.y.detach().cpu().numpy()[0]}\",\n",
    "            \"correct\": f\"{prediction_truth[0]}\",\n",
    "            \"confidence\": softmax(out).detach().cpu().numpy()[0][np.argmax(softmax(out).detach().cpu().numpy())],\n",
    "            \"loss\": loss(out, data.y).detach().cpu().numpy()[0]\n",
    "        }\n",
    "        \n",
    "        g = nx.from_edgelist(data.edge_index.cpu().numpy().T)\n",
    "        g.graph.update(graph_dict)\n",
    "        graphs.append(g)\n",
    "        \n",
    "        counter += 1\n",
    "\n",
    "    np_graphs = np.array(graphs, dtype=object)\n",
    "    np.save(f\"../analysis/{args_dict['architecture']}/{args_dict['dataset']}/graphs_{i}.npy\", np_graphs)"
   ]
  },
  {
   "cell_type": "code",
   "execution_count": 72,
   "metadata": {},
   "outputs": [
    {
     "data": {
      "text/plain": [
       "{'replication': '5',\n",
       " 'graph_id': '89',\n",
       " 'prediction': '2',\n",
       " 'label': '5',\n",
       " 'correct': 'False',\n",
       " 'confidence': 0.29514322,\n",
       " 'loss': 3.2211344}"
      ]
     },
     "execution_count": 72,
     "metadata": {},
     "output_type": "execute_result"
    }
   ],
   "source": [
    "graph_dict"
   ]
  },
  {
   "cell_type": "code",
   "execution_count": null,
   "metadata": {},
   "outputs": [],
   "source": []
  }
 ],
 "metadata": {
  "jupytext": {
   "formats": "ipynb,py"
  },
  "kernelspec": {
   "display_name": "Python 3.8.13 ('EMP')",
   "language": "python",
   "name": "python3"
  },
  "language_info": {
   "codemirror_mode": {
    "name": "ipython",
    "version": 3
   },
   "file_extension": ".py",
   "mimetype": "text/x-python",
   "name": "python",
   "nbconvert_exporter": "python",
   "pygments_lexer": "ipython3",
   "version": "3.8.13"
  },
  "vscode": {
   "interpreter": {
    "hash": "3785288c4bd39f11732564ea751a41c4ef3038a5ae94579e6b2041026b47ee3a"
   }
  }
 },
 "nbformat": 4,
 "nbformat_minor": 2
}
