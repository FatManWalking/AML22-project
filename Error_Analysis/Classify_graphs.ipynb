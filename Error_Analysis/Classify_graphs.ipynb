{
 "cells": [
  {
   "cell_type": "code",
   "execution_count": 12,
   "metadata": {},
   "outputs": [],
   "source": [
    "import torch\n",
    "import torch.nn as nn\n",
    "# import pandas as pd\n",
    "\n",
    "import sys\n",
    "sys.path.append('../')\n",
    "from HGP.models import LightModel\n",
    "from GCN.models import LightModel as LightModel_GCN\n",
    "import pickle"
   ]
  },
  {
   "cell_type": "code",
   "execution_count": 13,
   "metadata": {},
   "outputs": [],
   "source": [
    "import networkx as nx"
   ]
  },
  {
   "cell_type": "code",
   "execution_count": 14,
   "metadata": {
    "lines_to_next_cell": 2
   },
   "outputs": [],
   "source": [
    "from utils.imports import *\n",
    "import pytorch_lightning as pl\n",
    "from pytorch_lightning.callbacks import ModelCheckpoint\n",
    "from pytorch_lightning.loggers import TensorBoardLogger\n",
    "from pytorch_lightning.profilers import SimpleProfiler"
   ]
  },
  {
   "cell_type": "markdown",
   "metadata": {},
   "source": [
    "# BITTE EINMAL DEN MODELL NAMEN HIER EINMAL EINTRAGEN (HGP-SL o.ä.)\n",
    "\n",
    "Damit die Datei unter dem Namen gespeichert wird"
   ]
  },
  {
   "cell_type": "code",
   "execution_count": 16,
   "metadata": {},
   "outputs": [],
   "source": [
    "# %%\n",
    "args_dict = take_hp(\"../log/emp-hgp-nci/emp-gcn-nci-grid001.yml\")\n",
    "\n",
    "# pl.seed_everything(args_dict[\"random_seed\"], workers=True)\n"
   ]
  },
  {
   "cell_type": "code",
   "execution_count": 17,
   "metadata": {},
   "outputs": [],
   "source": [
    "# %%\n",
    "# Load the dataset\n",
    "dataset = TUDataset(\n",
    "    Path.cwd().joinpath(\"../data\"),\n",
    "    name=args_dict[\"dataset\"],\n",
    "    use_node_attr=True,\n",
    ")\n",
    "args_dict[\"num_classes\"] = dataset.num_classes\n",
    "args_dict[\"num_features\"] = dataset.num_features"
   ]
  },
  {
   "cell_type": "code",
   "execution_count": 18,
   "metadata": {},
   "outputs": [
    {
     "name": "stdout",
     "output_type": "stream",
     "text": [
      "Hole: 4110, Train: 2055, Val: 1027, Test: 1028\n"
     ]
    }
   ],
   "source": [
    "split_train = int(dataset.len() * args_dict[\"split_ratio\"])\n",
    "split_val = int((dataset.len() - split_train) * args_dict[\"test_ratio\"])\n",
    "split_test = dataset.len() - split_val - split_train\n",
    "\n",
    "print(\n",
    "    f\"Hole: {dataset.len()}, Train: {split_train}, Val: {split_val}, Test: {split_test}\"\n",
    ")\n",
    "# %%\n",
    "train_data, eval_data, test_data = random_split(\n",
    "    dataset,\n",
    "    [split_train, split_val, split_test],\n",
    "    generator=torch.Generator().manual_seed(42),\n",
    ")"
   ]
  },
  {
   "cell_type": "code",
   "execution_count": 19,
   "metadata": {},
   "outputs": [],
   "source": [
    "# %%\n",
    "train_loader = DataLoader(\n",
    "    train_data,\n",
    "    batch_size=args_dict[\"batch_size\"],\n",
    "    shuffle=False,\n",
    "    num_workers=args_dict[\"num_workers\"],\n",
    ")\n",
    "val_loader = DataLoader(\n",
    "    eval_data,\n",
    "    batch_size=args_dict[\"batch_size\"],\n",
    "    shuffle=False,\n",
    "    num_workers=args_dict[\"num_workers\"],\n",
    ")\n",
    "test_loader = DataLoader(\n",
    "    test_data,\n",
    "    batch_size= 1 ,# dataset.len() - split_test,\n",
    "    shuffle=False,\n",
    "    num_workers=args_dict[\"num_workers\"],\n",
    ")"
   ]
  },
  {
   "cell_type": "code",
   "execution_count": 24,
   "metadata": {},
   "outputs": [
    {
     "name": "stderr",
     "output_type": "stream",
     "text": [
      "Global seed set to 21\n",
      "Global seed set to 21\n",
      "Global seed set to 1337\n",
      "Global seed set to 1337\n",
      "Global seed set to 2021\n",
      "Global seed set to 2021\n",
      "Global seed set to 21\n",
      "Global seed set to 21\n",
      "Global seed set to 1337\n",
      "Global seed set to 1337\n",
      "Global seed set to 2021\n",
      "Global seed set to 2021\n",
      "Global seed set to 21\n",
      "Global seed set to 21\n",
      "Global seed set to 1337\n",
      "Global seed set to 1337\n",
      "Global seed set to 2021\n",
      "Global seed set to 2021\n",
      "Global seed set to 21\n",
      "Global seed set to 21\n",
      "Global seed set to 1337\n",
      "Global seed set to 1337\n",
      "Global seed set to 2021\n",
      "Global seed set to 2021\n",
      "Global seed set to 21\n",
      "Global seed set to 21\n",
      "Global seed set to 1337\n",
      "Global seed set to 1337\n",
      "Global seed set to 2021\n",
      "Global seed set to 2021\n",
      "Global seed set to 21\n",
      "Global seed set to 21\n",
      "Global seed set to 1337\n",
      "Global seed set to 1337\n",
      "Global seed set to 2021\n",
      "Global seed set to 2021\n",
      "Global seed set to 21\n",
      "Global seed set to 21\n",
      "Global seed set to 1337\n",
      "Global seed set to 1337\n",
      "Global seed set to 2021\n",
      "Global seed set to 2021\n",
      "Global seed set to 21\n",
      "Global seed set to 21\n",
      "Global seed set to 1337\n",
      "Global seed set to 1337\n",
      "Global seed set to 2021\n",
      "Global seed set to 2021\n",
      "Global seed set to 21\n",
      "Global seed set to 21\n",
      "Global seed set to 1337\n",
      "Global seed set to 1337\n",
      "Global seed set to 2021\n",
      "Global seed set to 2021\n"
     ]
    }
   ],
   "source": [
    "# Loop over all models in the model/emp-enzym-equal folder\n",
    "# and classify the graphs\n",
    "loss = nn.CrossEntropyLoss(reduction=\"none\")\n",
    "softmax = nn.Softmax(dim=1)\n",
    "Path(f\"../analysis/{args_dict['architecture']}/{args_dict['dataset']}\").mkdir(parents=True, exist_ok=True)\n",
    "\n",
    "# Get model and config paths\n",
    "model_paths = Path.cwd().joinpath(\"../model/emp-gcn-grid\").iterdir()\n",
    "log_paths = Path.cwd().joinpath(\"../log/emp-gcn\").iterdir()\n",
    "\n",
    "for i in range(54):\n",
    "    # Load the config file\n",
    "    args_dict = take_hp(f\"../log/emp-gcn-nci/emp-gcn-nci-grid{i+1:03d}.yml\")\n",
    "    pl.seed_everything(args_dict[\"random_seed\"], workers=True)\n",
    "\n",
    "    # Load the model \n",
    "    model = LightModel_GCN(args_dict).to(args_dict[\"device\"])\n",
    "    model.eval()\n",
    "    model.freeze()\n",
    "    model.load_state_dict(torch.load(f\"../model/emp-gcn-nci-grid/model_{i}.pt\"))\n",
    "\n",
    "    # Reset Variables\n",
    "    graph_ids = []\n",
    "    graphs = []\n",
    "    counter = 0\n",
    "\n",
    "    for batch in test_loader:\n",
    "        data = batch.to(args_dict[\"device\"])\n",
    "        out = model(data)\n",
    "        prediction_truth = np.argmax(softmax(out).detach().cpu().numpy()) == data.y.detach().cpu().numpy()\n",
    "        \n",
    "        graph_dict = {\n",
    "            \"model_id\": f\"{i}\",\n",
    "            \"random_seed\": f\"{args_dict['random_seed']}\",\n",
    "            \"dropout_ratio\": f\"{args_dict['dropout_ratio']}\",\n",
    "            \"pooling_ratio\": f\"{args_dict['pooling_ratio']}\",\n",
    "            \"structure_learning\": f\"{args_dict['structure_learning']}\",\t\n",
    "            \"graph_id\": f\"{counter}\",\n",
    "            \"prediction\": f\"{np.argmax(softmax(out).detach().cpu().numpy())}\",\n",
    "            \"label\": f\"{data.y.detach().cpu().numpy()[0]}\",\n",
    "            \"correct\": f\"{prediction_truth[0]}\",\n",
    "            \"softmax\": nn.Softmax(dim=1)(out).detach().cpu().numpy()[0][data.y.detach().cpu().numpy()[0]],\n",
    "            \"sigmod\": nn.Sigmoid()(out).detach().cpu().numpy()[0][data.y.detach().cpu().numpy()[0]],\n",
    "            \"loss\": loss(out, data.y).detach().cpu().numpy()[0]\n",
    "        }\n",
    "        \n",
    "        g = nx.from_edgelist(data.edge_index.cpu().numpy().T)\n",
    "        g.graph.update(graph_dict)\n",
    "        graphs.append(g)\n",
    "        \n",
    "        counter += 1\n",
    "    \n",
    "    np_graphs = np.array(graphs, dtype=object)\n",
    "    np.save(f\"../analysis/{args_dict['architecture']}/{args_dict['dataset']}/graphs_{i}.npy\", np_graphs)"
   ]
  },
  {
   "cell_type": "code",
   "execution_count": 25,
   "metadata": {},
   "outputs": [
    {
     "data": {
      "text/plain": [
       "LightModel(\n",
       "  (model): Model(\n",
       "    (conv1): GCNConv(37, 128)\n",
       "    (conv2): GCN(128, 128)\n",
       "    (conv3): GCN(128, 128)\n",
       "    (pool1): SAGPool(GraphConv, 128, ratio=0.5, multiplier=1.0)\n",
       "    (pool2): SAGPool(GraphConv, 128, ratio=0.5, multiplier=1.0)\n",
       "    (lin1): Linear(in_features=256, out_features=128, bias=True)\n",
       "    (lin2): Linear(in_features=128, out_features=64, bias=True)\n",
       "    (lin3): Linear(in_features=64, out_features=2, bias=True)\n",
       "  )\n",
       "  (loss_fn): NLLLoss()\n",
       "  (mcc): MatthewsCorrCoef()\n",
       "  (f1): F1Score()\n",
       "  (acc): Accuracy()\n",
       "  (mcc_single): MatthewsCorrCoef()\n",
       "  (f1_single): F1Score()\n",
       "  (acc_single): Accuracy()\n",
       ")"
      ]
     },
     "execution_count": 25,
     "metadata": {},
     "output_type": "execute_result"
    }
   ],
   "source": []
  },
  {
   "cell_type": "code",
   "execution_count": 26,
   "metadata": {},
   "outputs": [
    {
     "data": {
      "text/plain": [
       "1028"
      ]
     },
     "execution_count": 26,
     "metadata": {},
     "output_type": "execute_result"
    }
   ],
   "source": [
    "split_test"
   ]
  },
  {
   "cell_type": "code",
   "execution_count": 27,
   "metadata": {},
   "outputs": [],
   "source": [
    "test_loader = DataLoader(\n",
    "    test_data,\n",
    "    batch_size= 1028 ,# dataset.len() - split_test,\n",
    "    shuffle=False,\n",
    "    num_workers=args_dict[\"num_workers\"],\n",
    ")"
   ]
  },
  {
   "cell_type": "code",
   "execution_count": 35,
   "metadata": {},
   "outputs": [],
   "source": [
    "from torchmetrics import F1Score, Precision, Recall, Accuracy"
   ]
  },
  {
   "cell_type": "code",
   "execution_count": 37,
   "metadata": {},
   "outputs": [
    {
     "name": "stdout",
     "output_type": "stream",
     "text": [
      "tensor(0.6479, device='cuda:0') tensor(0.6479, device='cuda:0') tensor(0.6479, device='cuda:0') tensor(0.6479, device='cuda:0')\n"
     ]
    }
   ],
   "source": [
    "for batch in test_loader:\n",
    "    data = batch.to(args_dict[\"device\"])\n",
    "    out = model(data)\n",
    "    f1 = F1Score(num_classes=dataset.num_classes).to(args_dict[\"device\"])(out, data.y)\n",
    "    pr = Precision(num_classes=dataset.num_classes).to(args_dict[\"device\"])(out, data.y)\n",
    "    re = Recall(num_classes=dataset.num_classes).to(args_dict[\"device\"])(out, data.y)\n",
    "    ac = Accuracy(num_classes=dataset.num_classes).to(args_dict[\"device\"])(out, data.y)\n",
    "    print(f1, pr, re, ac)\n",
    "    "
   ]
  },
  {
   "cell_type": "code",
   "execution_count": 38,
   "metadata": {},
   "outputs": [
    {
     "data": {
      "text/plain": [
       "2"
      ]
     },
     "execution_count": 38,
     "metadata": {},
     "output_type": "execute_result"
    }
   ],
   "source": [
    "dataset.num_classes"
   ]
  },
  {
   "cell_type": "code",
   "execution_count": 51,
   "metadata": {},
   "outputs": [
    {
     "name": "stderr",
     "output_type": "stream",
     "text": [
      "Global seed set to 21\n",
      "Global seed set to 21\n",
      "Global seed set to 1337\n",
      "Global seed set to 1337\n",
      "Global seed set to 2021\n",
      "Global seed set to 2021\n",
      "Global seed set to 21\n",
      "Global seed set to 21\n",
      "Global seed set to 1337\n",
      "Global seed set to 1337\n",
      "Global seed set to 2021\n",
      "Global seed set to 2021\n",
      "Global seed set to 21\n",
      "Global seed set to 21\n",
      "Global seed set to 1337\n",
      "Global seed set to 1337\n",
      "Global seed set to 2021\n",
      "Global seed set to 2021\n",
      "Global seed set to 21\n",
      "Global seed set to 21\n",
      "Global seed set to 1337\n",
      "Global seed set to 1337\n",
      "Global seed set to 2021\n",
      "Global seed set to 2021\n",
      "Global seed set to 21\n",
      "Global seed set to 21\n",
      "Global seed set to 1337\n",
      "Global seed set to 1337\n",
      "Global seed set to 2021\n",
      "Global seed set to 2021\n",
      "Global seed set to 21\n",
      "Global seed set to 21\n",
      "Global seed set to 1337\n",
      "Global seed set to 1337\n",
      "Global seed set to 2021\n",
      "Global seed set to 2021\n",
      "Global seed set to 21\n",
      "Global seed set to 21\n",
      "Global seed set to 1337\n",
      "Global seed set to 1337\n",
      "Global seed set to 2021\n",
      "Global seed set to 2021\n",
      "Global seed set to 21\n",
      "Global seed set to 21\n",
      "Global seed set to 1337\n",
      "Global seed set to 1337\n",
      "Global seed set to 2021\n",
      "Global seed set to 2021\n",
      "Global seed set to 21\n",
      "Global seed set to 21\n",
      "Global seed set to 1337\n",
      "Global seed set to 1337\n",
      "Global seed set to 2021\n",
      "Global seed set to 2021\n"
     ]
    }
   ],
   "source": [
    "# Loop over all models in the model/emp-enzym-equal folder\n",
    "# and classify the graphs\n",
    "Path(f\"../analysis/{args_dict['architecture']}/{args_dict['dataset']}\").mkdir(parents=True, exist_ok=True)\n",
    "\n",
    "# Get model and config paths\n",
    "model_paths = Path.cwd().joinpath(\"../model/emp-hgp-grid\").iterdir()\n",
    "log_paths = Path.cwd().joinpath(\"../log/emp-hgp\").iterdir()\n",
    "\n",
    "# numpy array to store the results\n",
    "results = np.zeros((54, 5))\n",
    "\n",
    "for i in range(54):\n",
    "    # Load the config file\n",
    "    args_dict = take_hp(f\"../log/emp-hgp-nci/emp-hgp-nci-grid{i+1:03d}.yml\")\n",
    "    pl.seed_everything(args_dict[\"random_seed\"], workers=True)\n",
    "\n",
    "    # Load the model \n",
    "    model = LightModel(args_dict).to(args_dict[\"device\"])\n",
    "    model.eval()\n",
    "    model.freeze()\n",
    "    model.load_state_dict(torch.load(f\"../model/emp-hgp-nci-grid/model_{i}.pt\"))\n",
    "\n",
    "    for batch in test_loader:\n",
    "\n",
    "        data = batch.to(args_dict[\"device\"])\n",
    "        out = model(data)\n",
    "        micro = F1Score(num_classes=dataset.num_classes, average=\"micro\").to(args_dict[\"device\"])(out, data.y)\n",
    "        f1 = F1Score(num_classes=dataset.num_classes, average='macro').to(args_dict[\"device\"])(out, data.y)\n",
    "        pr = Precision(num_classes=dataset.num_classes, average='macro').to(args_dict[\"device\"])(out, data.y)\n",
    "        re = Recall(num_classes=dataset.num_classes, average='macro').to(args_dict[\"device\"])(out, data.y)\n",
    "        ac = Accuracy(num_classes=dataset.num_classes, average='macro').to(args_dict[\"device\"])(out, data.y)\n",
    "\n",
    "        results[i, 0] = f1\n",
    "        results[i, 1] = pr\n",
    "        results[i, 2] = re\n",
    "        results[i, 3] = ac\n",
    "        results[i, 4] = micro\n",
    "    \n",
    "np.save(f\"../analysis/hgp_metrics.npy\", results)"
   ]
  },
  {
   "cell_type": "code",
   "execution_count": 52,
   "metadata": {},
   "outputs": [
    {
     "data": {
      "text/plain": [
       "array([0.69339848, 0.65948665, 0.70427006])"
      ]
     },
     "execution_count": 52,
     "metadata": {},
     "output_type": "execute_result"
    }
   ],
   "source": [
    "np.random.choice(results[:,0], 3, replace=False)"
   ]
  },
  {
   "cell_type": "code",
   "execution_count": 53,
   "metadata": {},
   "outputs": [
    {
     "data": {
      "text/plain": [
       "array([0.64486605, 0.64844429, 0.64782709, 0.64782709, 0.64494163])"
      ]
     },
     "execution_count": 53,
     "metadata": {},
     "output_type": "execute_result"
    }
   ],
   "source": [
    "results[3,:]"
   ]
  },
  {
   "cell_type": "code",
   "execution_count": 57,
   "metadata": {},
   "outputs": [
    {
     "data": {
      "text/plain": [
       "0.008678673818158468"
      ]
     },
     "execution_count": 57,
     "metadata": {},
     "output_type": "execute_result"
    }
   ],
   "source": [
    "np.std(np.random.choice(results[:,0], 3, replace=False))"
   ]
  },
  {
   "cell_type": "code",
   "execution_count": 60,
   "metadata": {},
   "outputs": [],
   "source": [
    "import matplotlib.pyplot as plt"
   ]
  },
  {
   "cell_type": "code",
   "execution_count": 66,
   "metadata": {},
   "outputs": [
    {
     "data": {
      "text/plain": [
       "0.02069637636505519"
      ]
     },
     "execution_count": 66,
     "metadata": {},
     "output_type": "execute_result"
    }
   ],
   "source": [
    "\n"
   ]
  },
  {
   "cell_type": "code",
   "execution_count": 68,
   "metadata": {},
   "outputs": [],
   "source": [
    "#fig, ax = plt.subplots(1, 1, figsize=(10, 10))\n",
    "plot_data = np.zeros((54, 5, 2))\n",
    "for i, point in enumerate(plot_data):\n",
    "\n",
    "    sample_f1 = np.random.choice(results[:,0], i, replace=False)\n",
    "    sample_pr = np.random.choice(results[:,1], i, replace=False)\n",
    "    sample_re = np.random.choice(results[:,2], i, replace=False)\n",
    "    sample_ac = np.random.choice(results[:,3], i, replace=False)\n",
    "    sample_mi = np.random.choice(results[:,4], i, replace=False)\n",
    "\n",
    "    plot_data[i, 0, 0] = np.mean(sample_f1)\n",
    "    plot_data[i, 0, 1] = np.std(sample_f1)\n",
    "    plot_data[i, 1, 0] = np.mean(sample_pr)\n",
    "    plot_data[i, 1, 1] = np.std(sample_pr)\n",
    "    plot_data[i, 2, 0] = np.mean(sample_re)\n",
    "    plot_data[i, 2, 1] = np.std(sample_re)\n",
    "    plot_data[i, 3, 0] = np.mean(sample_ac)\n",
    "    plot_data[i, 3, 1] = np.std(sample_ac)\n",
    "    plot_data[i, 4, 0] = np.mean(sample_mi)\n",
    "    plot_data[i, 4, 1] = np.std(sample_mi)"
   ]
  },
  {
   "cell_type": "code",
   "execution_count": 69,
   "metadata": {},
   "outputs": [
    {
     "data": {
      "image/png": "[encoded data removed]",
      "text/plain": [
       "<Figure size 640x480 with 4 Axes>"
      ]
     },
     "metadata": {},
     "output_type": "display_data"
    }
   ],
   "source": [
    "fig, (ax1, ax2, ax3, ax4) = plt.subplots(5, sharex=True, sharey=True)\n",
    "fig.suptitle('Sharing x per column, y per row')\n",
    "ax1.errorbar(np.arange(54), plot_data[:,0,0], yerr=plot_data[:,0,1])\n",
    "ax2.errorbar(np.arange(54), plot_data[:,1,0], yerr=plot_data[:,1,1])\n",
    "ax3.errorbar(np.arange(54), plot_data[:,2,0], yerr=plot_data[:,2,1])\n",
    "ax4.errorbar(np.arange(54), plot_data[:,3,0], yerr=plot_data[:,3,1])\n",
    "ax5.errorbar(np.arange(54), plot_data[:,4,0], yerr=plot_data[:,4,1])\n",
    "\n",
    "for ax in fig.get_axes():\n",
    "    ax.label_outer()"
   ]
  },
  {
   "cell_type": "code",
   "execution_count": 59,
   "metadata": {},
   "outputs": [
    {
     "data": {
      "text/plain": [
       "Text(0.5, 1.0, 'variable, symmetric error')"
      ]
     },
     "execution_count": 59,
     "metadata": {},
     "output_type": "execute_result"
    },
    {
     "data": {
      "image/png": "[encoded data removed]",
      "text/plain": [
       "<Figure size 640x480 with 1 Axes>"
      ]
     },
     "metadata": {},
     "output_type": "display_data"
    }
   ],
   "source": [
    "import numpy as np\n",
    "import matplotlib.pyplot as plt\n",
    "\n",
    "# example data\n",
    "x = np.arange(0.1, 4, 0.5)\n",
    "y = np.exp(-x)\n",
    "# example error bar values that vary with x-position\n",
    "error = 0.1 + 0.2 * x\n",
    "\n",
    "fig, (ax0) = plt.subplots(nrows=1, sharex=True)\n",
    "ax0.errorbar(x, y, yerr=error, fmt='-o')\n",
    "ax0.set_title('variable, symmetric error')"
   ]
  },
  {
   "cell_type": "code",
   "execution_count": 56,
   "metadata": {},
   "outputs": [
    {
     "data": {
      "image/png": "[encoded data removed]",
      "text/plain": [
       "<Figure size 640x480 with 1 Axes>"
      ]
     },
     "metadata": {},
     "output_type": "display_data"
    }
   ],
   "source": [
    "import matplotlib.pyplot as plt\n",
    "import numpy as np\n",
    "\n",
    "\n",
    "x1 = [x * 0.01 for x in range(0, 628)]\n",
    "y1 = [np.sin(x * 0.01) + np.random.normal(0.0, 0.1) for x in range(0, 628)]\n",
    "\n",
    "x2 = [x * 0.5 for x in range(0, round(63 / 5))]\n",
    "y2 = [np.cos(x * 0.5) for x in range(0, round(63 / 5))]\n",
    "\n",
    "plt.plot(x1, y1)\n",
    "plt.plot(x2, y2, 'o-')\n",
    "\n",
    "plt.show()  # doctest: +SKIP"
   ]
  },
  {
   "cell_type": "code",
   "execution_count": null,
   "metadata": {},
   "outputs": [],
   "source": []
  }
 ],
 "metadata": {
  "jupytext": {
   "formats": "ipynb,py"
  },
  "kernelspec": {
   "display_name": "Python 3.8.13 ('HGL')",
   "language": "python",
   "name": "python3"
  },
  "language_info": {
   "codemirror_mode": {
    "name": "ipython",
    "version": 3
   },
   "file_extension": ".py",
   "mimetype": "text/x-python",
   "name": "python",
   "nbconvert_exporter": "python",
   "pygments_lexer": "ipython3",
   "version": "3.8.13"
  },
  "vscode": {
   "interpreter": {
    "hash": "20a035c567a38bd1f2940572b24bf1d024cc8b525cc5570f51a8ddddcc88cb9a"
   }
  }
 },
 "nbformat": 4,
 "nbformat_minor": 2
}
