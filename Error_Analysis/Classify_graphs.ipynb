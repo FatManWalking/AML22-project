{
 "cells": [
  {
   "cell_type": "code",
   "execution_count": 1,
   "metadata": {},
   "outputs": [],
   "source": [
    "import torch\n",
    "import torch.nn as nn\n",
    "import pandas as pd\n",
    "from HGP.models import LightModel\n",
    "import pickle"
   ]
  },
  {
   "cell_type": "code",
   "execution_count": 2,
   "metadata": {},
   "outputs": [],
   "source": [
    "import networkx as nx"
   ]
  },
  {
   "cell_type": "code",
   "execution_count": 3,
   "metadata": {
    "lines_to_next_cell": 2
   },
   "outputs": [],
   "source": [
    "from utils.imports import *\n",
    "import pytorch_lightning as pl\n",
    "from pytorch_lightning.callbacks import ModelCheckpoint\n",
    "from pytorch_lightning.loggers import TensorBoardLogger\n",
    "from pytorch_lightning.profilers import SimpleProfiler"
   ]
  },
  {
   "cell_type": "markdown",
   "metadata": {},
   "source": [
    "# BITTE EINMAL DEN MODELL NAMEN HIER EINMAL EINTRAGEN (HGP-SL o.ä.)\n",
    "\n",
    "Damit die Datei unter dem Namen gespeichert wird"
   ]
  },
  {
   "cell_type": "code",
   "execution_count": null,
   "metadata": {},
   "outputs": [],
   "source": [
    "model_name = \"HGP\""
   ]
  },
  {
   "cell_type": "code",
   "execution_count": 6,
   "metadata": {},
   "outputs": [
    {
     "name": "stderr",
     "output_type": "stream",
     "text": [
      "Global seed set to 42\n"
     ]
    },
    {
     "data": {
      "text/plain": [
       "42"
      ]
     },
     "execution_count": 6,
     "metadata": {},
     "output_type": "execute_result"
    }
   ],
   "source": [
    "# %%\n",
    "args_dict = take_hp(\"configs/hpt-nci1001.yml\")\n",
    "\n",
    "pl.seed_everything(args_dict[\"random_seed\"], workers=True)\n"
   ]
  },
  {
   "cell_type": "code",
   "execution_count": 7,
   "metadata": {},
   "outputs": [
    {
     "name": "stderr",
     "output_type": "stream",
     "text": [
      "Downloading https://www.chrsmrrs.com/graphkerneldatasets/NCI1.zip\n",
      "Extracting /home/bjoern/AML22-project/datasets/NCI1/NCI1.zip\n",
      "Processing...\n",
      "Done!\n"
     ]
    }
   ],
   "source": [
    "# %%\n",
    "# Load the dataset\n",
    "dataset = TUDataset(\n",
    "    Path.cwd().joinpath(\"datasets\"),\n",
    "    name=args_dict[\"dataset\"],\n",
    "    use_node_attr=True,\n",
    ")\n",
    "args_dict[\"num_classes\"] = dataset.num_classes\n",
    "args_dict[\"num_features\"] = dataset.num_features"
   ]
  },
  {
   "cell_type": "code",
   "execution_count": 8,
   "metadata": {},
   "outputs": [
    {
     "name": "stdout",
     "output_type": "stream",
     "text": [
      "Hole: 4110, Train: 2877, Val: 616, Test: 617\n"
     ]
    }
   ],
   "source": [
    "split_train = int(dataset.len() * args_dict[\"split_ratio\"])\n",
    "split_val = int((dataset.len() - split_train) * args_dict[\"test_ratio\"])\n",
    "split_test = dataset.len() - split_val - split_train\n",
    "\n",
    "print(\n",
    "    f\"Hole: {dataset.len()}, Train: {split_train}, Val: {split_val}, Test: {split_test}\"\n",
    ")\n",
    "# %%\n",
    "train_data, eval_data, test_data = random_split(\n",
    "    dataset,\n",
    "    [split_train, split_val, split_test],\n",
    "    generator=torch.Generator().manual_seed(42),\n",
    ")"
   ]
  },
  {
   "cell_type": "markdown",
   "id": "e285d022",
   "metadata": {
    "lines_to_next_cell": 2
   },
   "source": [
    "train_data, eval_data, test_data = random_split(\n",
    "    dataset,\n",
    "    [split_train, split_val, split_test],\n",
    "    generator=torch.Generator().manual_seed(42),\n",
    ")"
   ]
  },
  {
   "cell_type": "code",
   "execution_count": 9,
   "metadata": {},
   "outputs": [],
   "source": [
    "# %%\n",
    "train_loader = DataLoader(\n",
    "    train_data,\n",
    "    batch_size=args_dict[\"batch_size\"],\n",
    "    shuffle=False,\n",
    "    num_workers=args_dict[\"num_workers\"],\n",
    ")\n",
    "val_loader = DataLoader(\n",
    "    eval_data,\n",
    "    batch_size=args_dict[\"batch_size\"],\n",
    "    shuffle=False,\n",
    "    num_workers=args_dict[\"num_workers\"],\n",
    ")\n",
    "test_loader = DataLoader(\n",
    "    test_data,\n",
    "    batch_size= 1 ,# dataset.len() - split_test,\n",
    "    shuffle=False,\n",
    "    num_workers=args_dict[\"num_workers\"],\n",
    ")"
   ]
  },
  {
   "cell_type": "code",
   "execution_count": 12,
   "metadata": {},
   "outputs": [],
   "source": [
    "# Define the model\n",
    "model = LightModel(args_dict).to(args_dict[\"device\"])\n",
    "# load a saved model\n",
    "weights = torch.load(\"model/hpt-nci1/hpt-nci1/model.pt\")\n",
    "# set the weights\n",
    "model.load_state_dict(weights)\n",
    "\n",
    "model.eval()\n",
    "\n",
    "loss = nn.CrossEntropyLoss(reduction=\"none\")\n",
    "softmax = nn.Softmax(dim=1)"
   ]
  },
  {
   "cell_type": "code",
   "execution_count": 34,
   "metadata": {},
   "outputs": [],
   "source": [
    "\n",
    "right_y = []\n",
    "wrong_y = []\n",
    "\n",
    "right_graphs = []\n",
    "wrong_graphs = []\n",
    "\n",
    "for batch in test_loader:\n",
    "    data = batch.to(args_dict[\"device\"])\n",
    "    out = model(data)\n",
    "    prediction_truth = np.argmax(softmax(out).detach().cpu().numpy()) == data.y.detach().cpu().numpy()\n",
    "    \n",
    "    if prediction_truth[0]:\n",
    "        g = nx.from_edgelist(data.edge_index.cpu().numpy().T)\n",
    "        right_graphs.append(g)\n",
    "        right_y.append(data.y.detach().cpu().numpy()[0])\n",
    "    else:\n",
    "        g = nx.from_edgelist(data.edge_index.cpu().numpy().T)\n",
    "        wrong_graphs.append(g)\n",
    "        wrong_y.append(data.y.detach().cpu().numpy()[0])\n",
    "\n",
    "np_right_graphs = np.array(right_graphs)\n",
    "np_wrong_graphs = np.array(wrong_graphs)\n",
    "np_right_y = np.array(right_y)\n",
    "np_wrong_y = np.array(wrong_y)"
   ]
  },
  {
   "cell_type": "code",
   "execution_count": null,
   "metadata": {},
   "outputs": [],
   "source": [
    "# save numpy arrays to folder analysis\n",
    "np.save(f\"analysis/{args_dict['dataset']}_{model_name}_right_graphs.npy\", np_right_graphs)\n",
    "np.save(f\"analysis/{args_dict['dataset']}_{model_name}_wrong_graphs.npy\", np_wrong_graphs)\n",
    "np.save(f\"analysis/{args_dict['dataset']}_{model_name}_right_y.npy\", np_right_y)\n",
    "np.save(f\"analysis/{args_dict['dataset']}_{model_name}_wrong_y.npy\", np_wrong_y)"
   ]
  }
 ],
 "metadata": {
  "jupytext": {
   "formats": "ipynb,py"
  },
  "kernelspec": {
   "display_name": "Python 3.8.13 ('EMP')",
   "language": "python",
   "name": "python3"
  },
  "language_info": {
   "codemirror_mode": {
    "name": "ipython",
    "version": 3
   },
   "file_extension": ".py",
   "mimetype": "text/x-python",
   "name": "python",
   "nbconvert_exporter": "python",
   "pygments_lexer": "ipython3",
   "version": "3.8.13"
  },
  "vscode": {
   "interpreter": {
    "hash": "3785288c4bd39f11732564ea751a41c4ef3038a5ae94579e6b2041026b47ee3a"
   }
  }
 },
 "nbformat": 4,
 "nbformat_minor": 2
}
