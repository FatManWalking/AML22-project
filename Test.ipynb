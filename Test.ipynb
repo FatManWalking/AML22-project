{
 "cells": [
  {
   "cell_type": "code",
   "execution_count": 1,
   "metadata": {},
   "outputs": [],
   "source": [
    "import torch\n",
    "import torch.nn as nn\n",
    "import pandas as pd\n",
    "from HGP.models import LightModel\n",
    "import pickle"
   ]
  },
  {
   "cell_type": "code",
   "execution_count": 2,
   "metadata": {},
   "outputs": [],
   "source": [
    "import networkx as nx"
   ]
  },
  {
   "cell_type": "code",
   "execution_count": 3,
   "metadata": {
    "lines_to_next_cell": 2
   },
   "outputs": [],
   "source": [
    "from utils.imports import *\n",
    "import pytorch_lightning as pl\n",
    "from pytorch_lightning.callbacks import ModelCheckpoint\n",
    "from pytorch_lightning.loggers import TensorBoardLogger\n",
    "from pytorch_lightning.profilers import SimpleProfiler"
   ]
  },
  {
   "cell_type": "code",
   "execution_count": 6,
   "metadata": {},
   "outputs": [
    {
     "name": "stderr",
     "output_type": "stream",
     "text": [
      "Global seed set to 42\n"
     ]
    },
    {
     "data": {
      "text/plain": [
       "42"
      ]
     },
     "execution_count": 6,
     "metadata": {},
     "output_type": "execute_result"
    }
   ],
   "source": [
    "# %%\n",
    "args_dict = take_hp(\"log/hgp/hpt-75002.yml\")\n",
    "\n",
    "pl.seed_everything(args_dict[\"random_seed\"], workers=True)\n"
   ]
  },
  {
   "cell_type": "code",
   "execution_count": 7,
   "metadata": {},
   "outputs": [
    {
     "name": "stderr",
     "output_type": "stream",
     "text": [
      "Downloading https://www.chrsmrrs.com/graphkerneldatasets/ENZYMES.zip\n",
      "Extracting /home/bjoern/AML22-project/datasets/ENZYMES/ENZYMES.zip\n",
      "Processing...\n",
      "Done!\n"
     ]
    }
   ],
   "source": [
    "# %%\n",
    "# Load the dataset\n",
    "dataset = TUDataset(\n",
    "    Path.cwd().joinpath(\"datasets\"),\n",
    "    name=args_dict[\"dataset\"],\n",
    "    use_node_attr=True,\n",
    ")\n",
    "args_dict[\"num_classes\"] = dataset.num_classes\n",
    "args_dict[\"num_features\"] = dataset.num_features"
   ]
  },
  {
   "cell_type": "code",
   "execution_count": 8,
   "id": "827ff95b",
   "metadata": {
    "lines_to_next_cell": 2
   },
   "outputs": [],
   "source": [
    "# %%\n",
    "# filename, filepath = save_config(args_dict)"
   ]
  },
  {
   "cell_type": "code",
   "execution_count": 12,
   "metadata": {},
   "outputs": [],
   "source": [
    "# %%\n",
    "# split_train = int(dataset.len() * args_dict[\"split_ratio\"])\n",
    "# split_val = int((dataset.len() - split_train) * args_dict[\"test_ratio\"])\n",
    "# split_val = int(dataset.len() * args_dict[\"split_ratio\"])\n",
    "# split_test = split_val + int(\n",
    "#     (dataset.len() - split_val) * args_dict[\"test_ratio\"]\n",
    "# )  # - split_val - split_train\n",
    "\n",
    "# print(\n",
    "#     f\"Hole: {dataset.len()}, Train: {split_val}, Val: {dataset.len() - split_test}, Test: {dataset.len() - split_test}\"\n",
    "# )"
   ]
  },
  {
   "cell_type": "code",
   "execution_count": 13,
   "metadata": {},
   "outputs": [],
   "source": [
    "# train_data = dataset[0:split_val]\n",
    "# eval_data = dataset[split_val:split_test]\n",
    "# test_data = dataset[split_test:]"
   ]
  },
  {
   "cell_type": "code",
   "execution_count": 14,
   "metadata": {},
   "outputs": [
    {
     "name": "stdout",
     "output_type": "stream",
     "text": [
      "Hole: 600, Train: 420, Val: 90, Test: 90\n"
     ]
    }
   ],
   "source": [
    "split_train = int(dataset.len() * args_dict[\"split_ratio\"])\n",
    "split_val = int((dataset.len() - split_train) * args_dict[\"test_ratio\"])\n",
    "split_test = dataset.len() - split_val - split_train\n",
    "\n",
    "print(\n",
    "    f\"Hole: {dataset.len()}, Train: {split_train}, Val: {split_val}, Test: {split_test}\"\n",
    ")\n",
    "# %%\n",
    "train_data, eval_data, test_data = random_split(\n",
    "    dataset,\n",
    "    [split_train, split_val, split_test],\n",
    "    generator=torch.Generator().manual_seed(42),\n",
    ")"
   ]
  },
  {
   "cell_type": "markdown",
   "id": "e285d022",
   "metadata": {
    "lines_to_next_cell": 2
   },
   "source": [
    "train_data, eval_data, test_data = random_split(\n",
    "    dataset,\n",
    "    [split_train, split_val, split_test],\n",
    "    generator=torch.Generator().manual_seed(42),\n",
    ")"
   ]
  },
  {
   "cell_type": "code",
   "execution_count": 15,
   "metadata": {},
   "outputs": [],
   "source": [
    "# %%\n",
    "train_loader = DataLoader(\n",
    "    train_data,\n",
    "    batch_size=args_dict[\"batch_size\"],\n",
    "    shuffle=False,\n",
    "    num_workers=args_dict[\"num_workers\"],\n",
    ")\n",
    "val_loader = DataLoader(\n",
    "    eval_data,\n",
    "    batch_size=args_dict[\"batch_size\"],\n",
    "    shuffle=False,\n",
    "    num_workers=args_dict[\"num_workers\"],\n",
    ")\n",
    "test_loader = DataLoader(\n",
    "    test_data,\n",
    "    batch_size= 1 ,# dataset.len() - split_test,\n",
    "    shuffle=False,\n",
    "    num_workers=args_dict[\"num_workers\"],\n",
    ")"
   ]
  },
  {
   "cell_type": "code",
   "execution_count": 34,
   "metadata": {},
   "outputs": [],
   "source": [
    "# p_list = []\n",
    "\n",
    "# for batch in test_loader:\n",
    "\n",
    "#     data = batch.to(args_dict[\"device\"])\n",
    "#     e, X, y, b, p = data\n",
    "#     p_list.append(b[1])\n",
    "\n",
    "# # -\n",
    "# liste = torch.cat(p_list).cpu().numpy()\n",
    "# Define the model\n",
    "model = LightModel(args_dict).to(args_dict[\"device\"])\n",
    "# load a saved model\n",
    "weights = torch.load(\"model/hpt-75/hpt-75/model.pt\")\n",
    "# set the weights\n",
    "model.load_state_dict(weights)\n",
    "\n",
    "model.eval()\n",
    "\n",
    "loss = nn.CrossEntropyLoss(reduction=\"none\")\n",
    "softmax = nn.Softmax(dim=1)"
   ]
  },
  {
   "cell_type": "code",
   "execution_count": 36,
   "metadata": {},
   "outputs": [
    {
     "name": "stdout",
     "output_type": "stream",
     "text": [
      "tensor([[False,  True, False, False, False, False]], device='cuda:0')\n",
      "tensor([[1.2080e-30, 1.0000e+00, 0.0000e+00, 0.0000e+00, 0.0000e+00, 1.0991e-33]],\n",
      "       device='cuda:0', grad_fn=<SoftmaxBackward0>)\n"
     ]
    },
    {
     "ename": "RuntimeError",
     "evalue": "torch.cat(): expected a non-empty list of Tensors",
     "output_type": "error",
     "traceback": [
      "\u001b[0;31m---------------------------------------------------------------------------\u001b[0m",
      "\u001b[0;31mRuntimeError\u001b[0m                              Traceback (most recent call last)",
      "\u001b[1;32m/home/bjoern/AML22-project/Test.ipynb Cell 13\u001b[0m in \u001b[0;36m<cell line: 15>\u001b[0;34m()\u001b[0m\n\u001b[1;32m     <a href='vscode-notebook-cell://wsl%2Bubuntu-20.04/home/bjoern/AML22-project/Test.ipynb#X15sdnNjb2RlLXJlbW90ZQ%3D%3D?line=11'>12</a>\u001b[0m     \u001b[39mprint\u001b[39m(softmax(out))\n\u001b[1;32m     <a href='vscode-notebook-cell://wsl%2Bubuntu-20.04/home/bjoern/AML22-project/Test.ipynb#X15sdnNjb2RlLXJlbW90ZQ%3D%3D?line=12'>13</a>\u001b[0m     \u001b[39mbreak\u001b[39;00m\n\u001b[0;32m---> <a href='vscode-notebook-cell://wsl%2Bubuntu-20.04/home/bjoern/AML22-project/Test.ipynb#X15sdnNjb2RlLXJlbW90ZQ%3D%3D?line=14'>15</a>\u001b[0m all_loss \u001b[39m=\u001b[39m torch\u001b[39m.\u001b[39;49mcat(all_loss)\u001b[39m.\u001b[39mdetach()\u001b[39m.\u001b[39mcpu()\u001b[39m.\u001b[39mnumpy()\n",
      "\u001b[0;31mRuntimeError\u001b[0m: torch.cat(): expected a non-empty list of Tensors"
     ]
    }
   ],
   "source": [
    "all_b = []\n",
    "all_y = []\n",
    "all_loss = []\n",
    "all_graphs = []\n",
    "\n",
    "for batch in test_loader:\n",
    "    data = batch.to(args_dict[\"device\"])\n",
    "    out = model(data)\n",
    "    \n",
    "    print(softmax(out) == data.y)\n",
    "\n",
    "    print(softmax(out), data.y)\n",
    "    break\n",
    "\n",
    "all_loss = torch.cat(all_loss).detach().cpu().numpy()"
   ]
  },
  {
   "cell_type": "code",
   "execution_count": 26,
   "metadata": {},
   "outputs": [
    {
     "data": {
      "text/plain": [
       "array([-0.], dtype=float32)"
      ]
     },
     "execution_count": 26,
     "metadata": {},
     "output_type": "execute_result"
    }
   ],
   "source": [
    "all_loss"
   ]
  },
  {
   "cell_type": "code",
   "execution_count": 32,
   "metadata": {},
   "outputs": [
    {
     "data": {
      "image/png": "[encoded data removed]",
      "text/plain": [
       "<Figure size 640x480 with 1 Axes>"
      ]
     },
     "metadata": {},
     "output_type": "display_data"
    }
   ],
   "source": [
    "nx.draw(all_graphs[5])"
   ]
  },
  {
   "cell_type": "code",
   "execution_count": 19,
   "metadata": {},
   "outputs": [],
   "source": [
    "g = nx.Graph(e[1].cpu().numpy().T.tolist())"
   ]
  },
  {
   "cell_type": "code",
   "execution_count": 20,
   "metadata": {},
   "outputs": [
    {
     "name": "stderr",
     "output_type": "stream",
     "text": [
      "/tmp/ipykernel_22810/3034883828.py:1: DeprecationWarning: info is deprecated and will be removed in version 3.0.\n",
      "\n",
      "  nx.info(g)\n"
     ]
    },
    {
     "data": {
      "text/plain": [
       "'Graph with 10 nodes and 20 edges'"
      ]
     },
     "execution_count": 20,
     "metadata": {},
     "output_type": "execute_result"
    }
   ],
   "source": [
    "nx.info(g)"
   ]
  },
  {
   "cell_type": "code",
   "execution_count": 22,
   "metadata": {},
   "outputs": [
    {
     "data": {
      "text/plain": [
       "('y', tensor([1], device='cuda:0'))"
      ]
     },
     "execution_count": 22,
     "metadata": {},
     "output_type": "execute_result"
    }
   ],
   "source": [
    "y"
   ]
  },
  {
   "cell_type": "code",
   "execution_count": 21,
   "metadata": {},
   "outputs": [
    {
     "data": {
      "image/png": "[encoded data removed]",
      "text/plain": [
       "<Figure size 640x480 with 1 Axes>"
      ]
     },
     "metadata": {},
     "output_type": "display_data"
    }
   ],
   "source": [
    "nx.draw(g)"
   ]
  },
  {
   "cell_type": "code",
   "execution_count": 10,
   "metadata": {},
   "outputs": [
    {
     "name": "stdout",
     "output_type": "stream",
     "text": [
      "(90,)\n",
      "(90,)\n",
      "(90,)\n"
     ]
    }
   ],
   "source": [
    "print(np.shape(all_loss))\n",
    "print(np.shape(all_b))\n",
    "print(np.shape(all_y))"
   ]
  },
  {
   "cell_type": "code",
   "execution_count": 15,
   "metadata": {},
   "outputs": [],
   "source": [
    "#os.mkdir(\"df\")"
   ]
  },
  {
   "cell_type": "code",
   "execution_count": 11,
   "metadata": {},
   "outputs": [],
   "source": [
    "two = pd.DataFrame({\"b\": all_b, \"y\": all_y, \"loss\": all_loss})"
   ]
  },
  {
   "cell_type": "code",
   "execution_count": 17,
   "metadata": {},
   "outputs": [],
   "source": [
    "# load dataframe from csv first column is index\n",
    "df = pd.read_csv(f\"df/{args_dict['dataset']}.csv\", index_col=0)"
   ]
  },
  {
   "cell_type": "code",
   "execution_count": 12,
   "metadata": {},
   "outputs": [
    {
     "data": {
      "text/html": [
       "<div>\n",
       "<style scoped>\n",
       "    .dataframe tbody tr th:only-of-type {\n",
       "        vertical-align: middle;\n",
       "    }\n",
       "\n",
       "    .dataframe tbody tr th {\n",
       "        vertical-align: top;\n",
       "    }\n",
       "\n",
       "    .dataframe thead th {\n",
       "        text-align: right;\n",
       "    }\n",
       "</style>\n",
       "<table border=\"1\" class=\"dataframe\">\n",
       "  <thead>\n",
       "    <tr style=\"text-align: right;\">\n",
       "      <th></th>\n",
       "      <th>b</th>\n",
       "      <th>y</th>\n",
       "      <th>loss</th>\n",
       "    </tr>\n",
       "  </thead>\n",
       "  <tbody>\n",
       "    <tr>\n",
       "      <th>0</th>\n",
       "      <td>0</td>\n",
       "      <td>1</td>\n",
       "      <td>0.004571</td>\n",
       "    </tr>\n",
       "    <tr>\n",
       "      <th>1</th>\n",
       "      <td>1</td>\n",
       "      <td>3</td>\n",
       "      <td>1.066132</td>\n",
       "    </tr>\n",
       "    <tr>\n",
       "      <th>2</th>\n",
       "      <td>2</td>\n",
       "      <td>0</td>\n",
       "      <td>1.288731</td>\n",
       "    </tr>\n",
       "    <tr>\n",
       "      <th>3</th>\n",
       "      <td>3</td>\n",
       "      <td>0</td>\n",
       "      <td>1.274440</td>\n",
       "    </tr>\n",
       "    <tr>\n",
       "      <th>4</th>\n",
       "      <td>4</td>\n",
       "      <td>4</td>\n",
       "      <td>2.752469</td>\n",
       "    </tr>\n",
       "    <tr>\n",
       "      <th>...</th>\n",
       "      <td>...</td>\n",
       "      <td>...</td>\n",
       "      <td>...</td>\n",
       "    </tr>\n",
       "    <tr>\n",
       "      <th>85</th>\n",
       "      <td>85</td>\n",
       "      <td>4</td>\n",
       "      <td>0.019770</td>\n",
       "    </tr>\n",
       "    <tr>\n",
       "      <th>86</th>\n",
       "      <td>86</td>\n",
       "      <td>5</td>\n",
       "      <td>2.679007</td>\n",
       "    </tr>\n",
       "    <tr>\n",
       "      <th>87</th>\n",
       "      <td>87</td>\n",
       "      <td>1</td>\n",
       "      <td>1.054355</td>\n",
       "    </tr>\n",
       "    <tr>\n",
       "      <th>88</th>\n",
       "      <td>88</td>\n",
       "      <td>3</td>\n",
       "      <td>1.120262</td>\n",
       "    </tr>\n",
       "    <tr>\n",
       "      <th>89</th>\n",
       "      <td>89</td>\n",
       "      <td>5</td>\n",
       "      <td>7.840681</td>\n",
       "    </tr>\n",
       "  </tbody>\n",
       "</table>\n",
       "<p>90 rows × 3 columns</p>\n",
       "</div>"
      ],
      "text/plain": [
       "     b  y      loss\n",
       "0    0  1  0.004571\n",
       "1    1  3  1.066132\n",
       "2    2  0  1.288731\n",
       "3    3  0  1.274440\n",
       "4    4  4  2.752469\n",
       "..  .. ..       ...\n",
       "85  85  4  0.019770\n",
       "86  86  5  2.679007\n",
       "87  87  1  1.054355\n",
       "88  88  3  1.120262\n",
       "89  89  5  7.840681\n",
       "\n",
       "[90 rows x 3 columns]"
      ]
     },
     "execution_count": 12,
     "metadata": {},
     "output_type": "execute_result"
    }
   ],
   "source": [
    "two"
   ]
  },
  {
   "cell_type": "code",
   "execution_count": 18,
   "metadata": {},
   "outputs": [
    {
     "data": {
      "text/html": [
       "<div>\n",
       "<style scoped>\n",
       "    .dataframe tbody tr th:only-of-type {\n",
       "        vertical-align: middle;\n",
       "    }\n",
       "\n",
       "    .dataframe tbody tr th {\n",
       "        vertical-align: top;\n",
       "    }\n",
       "\n",
       "    .dataframe thead th {\n",
       "        text-align: right;\n",
       "    }\n",
       "</style>\n",
       "<table border=\"1\" class=\"dataframe\">\n",
       "  <thead>\n",
       "    <tr style=\"text-align: right;\">\n",
       "      <th></th>\n",
       "      <th>b</th>\n",
       "      <th>y</th>\n",
       "      <th>loss</th>\n",
       "    </tr>\n",
       "  </thead>\n",
       "  <tbody>\n",
       "    <tr>\n",
       "      <th>0</th>\n",
       "      <td>0</td>\n",
       "      <td>1</td>\n",
       "      <td>0.004571</td>\n",
       "    </tr>\n",
       "    <tr>\n",
       "      <th>1</th>\n",
       "      <td>1</td>\n",
       "      <td>3</td>\n",
       "      <td>1.066132</td>\n",
       "    </tr>\n",
       "    <tr>\n",
       "      <th>2</th>\n",
       "      <td>2</td>\n",
       "      <td>0</td>\n",
       "      <td>1.288730</td>\n",
       "    </tr>\n",
       "    <tr>\n",
       "      <th>3</th>\n",
       "      <td>3</td>\n",
       "      <td>0</td>\n",
       "      <td>1.274439</td>\n",
       "    </tr>\n",
       "    <tr>\n",
       "      <th>4</th>\n",
       "      <td>4</td>\n",
       "      <td>4</td>\n",
       "      <td>2.752469</td>\n",
       "    </tr>\n",
       "    <tr>\n",
       "      <th>...</th>\n",
       "      <td>...</td>\n",
       "      <td>...</td>\n",
       "      <td>...</td>\n",
       "    </tr>\n",
       "    <tr>\n",
       "      <th>85</th>\n",
       "      <td>85</td>\n",
       "      <td>4</td>\n",
       "      <td>0.019770</td>\n",
       "    </tr>\n",
       "    <tr>\n",
       "      <th>86</th>\n",
       "      <td>86</td>\n",
       "      <td>5</td>\n",
       "      <td>2.679009</td>\n",
       "    </tr>\n",
       "    <tr>\n",
       "      <th>87</th>\n",
       "      <td>87</td>\n",
       "      <td>1</td>\n",
       "      <td>1.054355</td>\n",
       "    </tr>\n",
       "    <tr>\n",
       "      <th>88</th>\n",
       "      <td>88</td>\n",
       "      <td>3</td>\n",
       "      <td>1.120262</td>\n",
       "    </tr>\n",
       "    <tr>\n",
       "      <th>89</th>\n",
       "      <td>89</td>\n",
       "      <td>5</td>\n",
       "      <td>7.840731</td>\n",
       "    </tr>\n",
       "  </tbody>\n",
       "</table>\n",
       "<p>90 rows × 3 columns</p>\n",
       "</div>"
      ],
      "text/plain": [
       "     b  y      loss\n",
       "0    0  1  0.004571\n",
       "1    1  3  1.066132\n",
       "2    2  0  1.288730\n",
       "3    3  0  1.274439\n",
       "4    4  4  2.752469\n",
       "..  .. ..       ...\n",
       "85  85  4  0.019770\n",
       "86  86  5  2.679009\n",
       "87  87  1  1.054355\n",
       "88  88  3  1.120262\n",
       "89  89  5  7.840731\n",
       "\n",
       "[90 rows x 3 columns]"
      ]
     },
     "execution_count": 18,
     "metadata": {},
     "output_type": "execute_result"
    }
   ],
   "source": [
    "df"
   ]
  },
  {
   "cell_type": "code",
   "execution_count": 15,
   "metadata": {},
   "outputs": [],
   "source": [
    "from utils.to_graph import tud_to_networkx as to_nx\n"
   ]
  },
  {
   "cell_type": "code",
   "execution_count": 17,
   "metadata": {},
   "outputs": [
    {
     "ename": "FileNotFoundError",
     "evalue": "[Errno 2] No such file or directory: './datasets/PROTEINS/PROTEINS/raw/PROTEINS_graph_indicator.txt'",
     "output_type": "error",
     "traceback": [
      "\u001b[0;31m---------------------------------------------------------------------------\u001b[0m",
      "\u001b[0;31mFileNotFoundError\u001b[0m                         Traceback (most recent call last)",
      "\u001b[1;32m/home/bjoern/EMP/Test.ipynb Cell 19\u001b[0m in \u001b[0;36m<cell line: 1>\u001b[0;34m()\u001b[0m\n\u001b[0;32m----> <a href='vscode-notebook-cell://wsl%2Bubuntu-20.04/home/bjoern/EMP/Test.ipynb#Y104sdnNjb2RlLXJlbW90ZQ%3D%3D?line=0'>1</a>\u001b[0m graph_db \u001b[39m=\u001b[39m to_nx(\u001b[39m\"\u001b[39;49m\u001b[39mPROTEINS\u001b[39;49m\u001b[39m\"\u001b[39;49m)\n",
      "File \u001b[0;32m~/EMP/utils/to_graph.py:8\u001b[0m, in \u001b[0;36mtud_to_networkx\u001b[0;34m(ds_name)\u001b[0m\n\u001b[1;32m      5\u001b[0m \u001b[39mdef\u001b[39;00m \u001b[39mtud_to_networkx\u001b[39m(ds_name):\n\u001b[1;32m      6\u001b[0m     pre \u001b[39m=\u001b[39m ds_name \u001b[39m+\u001b[39m \u001b[39m\"\u001b[39m\u001b[39m/\u001b[39m\u001b[39m\"\u001b[39m\n\u001b[0;32m----> 8\u001b[0m     \u001b[39mwith\u001b[39;00m \u001b[39mopen\u001b[39;49m(\n\u001b[1;32m      9\u001b[0m         \u001b[39m\"\u001b[39;49m\u001b[39m./datasets/\u001b[39;49m\u001b[39m\"\u001b[39;49m \u001b[39m+\u001b[39;49m pre \u001b[39m+\u001b[39;49m ds_name \u001b[39m+\u001b[39;49m \u001b[39m\"\u001b[39;49m\u001b[39m/raw/\u001b[39;49m\u001b[39m\"\u001b[39;49m \u001b[39m+\u001b[39;49m ds_name \u001b[39m+\u001b[39;49m \u001b[39m\"\u001b[39;49m\u001b[39m_graph_indicator.txt\u001b[39;49m\u001b[39m\"\u001b[39;49m, \u001b[39m\"\u001b[39;49m\u001b[39mr\u001b[39;49m\u001b[39m\"\u001b[39;49m\n\u001b[1;32m     10\u001b[0m     ) \u001b[39mas\u001b[39;00m f:\n\u001b[1;32m     11\u001b[0m         graph_indicator \u001b[39m=\u001b[39m [\u001b[39mint\u001b[39m(i) \u001b[39m-\u001b[39m \u001b[39m1\u001b[39m \u001b[39mfor\u001b[39;00m i \u001b[39min\u001b[39;00m \u001b[39mlist\u001b[39m(f)]\n\u001b[1;32m     12\u001b[0m     f\u001b[39m.\u001b[39mclosed\n",
      "\u001b[0;31mFileNotFoundError\u001b[0m: [Errno 2] No such file or directory: './datasets/PROTEINS/PROTEINS/raw/PROTEINS_graph_indicator.txt'"
     ]
    }
   ],
   "source": [
    "graph_db = to_nx(\"PROTEINS\")"
   ]
  },
  {
   "cell_type": "code",
   "execution_count": null,
   "metadata": {},
   "outputs": [],
   "source": [
    "nx.draw(graph_db[0])"
   ]
  },
  {
   "cell_type": "code",
   "execution_count": null,
   "metadata": {},
   "outputs": [],
   "source": [
    "nx.info(graph_db[0])"
   ]
  }
 ],
 "metadata": {
  "jupytext": {
   "formats": "ipynb,py"
  },
  "kernelspec": {
   "display_name": "Python 3.8.13 ('EMP')",
   "language": "python",
   "name": "python3"
  },
  "language_info": {
   "codemirror_mode": {
    "name": "ipython",
    "version": 3
   },
   "file_extension": ".py",
   "mimetype": "text/x-python",
   "name": "python",
   "nbconvert_exporter": "python",
   "pygments_lexer": "ipython3",
   "version": "3.8.13"
  },
  "vscode": {
   "interpreter": {
    "hash": "3785288c4bd39f11732564ea751a41c4ef3038a5ae94579e6b2041026b47ee3a"
   }
  }
 },
 "nbformat": 4,
 "nbformat_minor": 2
}
