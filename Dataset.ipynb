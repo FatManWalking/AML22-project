{
  "cells": [
    {
      "cell_type": "code",
      "execution_count": 2,
      "metadata": {
        "id": "vkpZOokOwQxg"
      },
      "outputs": [],
      "source": [
        "#from IPython.display import *\n",
        "#import ipywidgets as widgets\n",
        "#from ipywidgets import *\n",
        "\n",
        "from torch_geometric.datasets import TUDataset\n",
        "import networkx as nx\n",
        "from networkx import *\n",
        "import pandas as pd\n",
        "import numpy as np\n",
        "import matplotlib.pyplot as plt\n",
        "# import cairocffi"
      ]
    },
    {
      "cell_type": "code",
      "execution_count": 4,
      "metadata": {
        "id": "nhYEwL3PwZS7"
      },
      "outputs": [],
      "source": [
        "# load six datasets used in the paper\n",
        "dataset_Enzymes = TUDataset(root='data', name='ENZYMES')\n",
        "dataset_Proteins = TUDataset(root='data', name='PROTEINS')\n",
        "dataset_DD = TUDataset(root='data', name='DD') # note to check whether it equals to D&D in paper\n",
        "dataset_NCI1 = TUDataset(root='data', name='NCI1')\n",
        "dataset_NCI109 = TUDataset(root='data', name='NCI109')\n",
        "dataset_Mutagenicity = TUDataset(root='data', name='Mutagenicity')"
      ]
    },
    {
      "cell_type": "markdown",
      "metadata": {
        "id": "C7AIG48Zechs"
      },
      "source": [
        "SELECT WHICH OF THE ABOVE DATASETS YOU WANT TO LOOK AT"
      ]
    },
    {
      "cell_type": "code",
      "execution_count": 3,
      "metadata": {
        "id": "BULFjcG_dMSR"
      },
      "outputs": [],
      "source": [
        "dataset = dataset_Enzymes"
      ]
    },
    {
      "cell_type": "code",
      "execution_count": 5,
      "metadata": {
        "id": "z79fWSfRyJq8"
      },
      "outputs": [],
      "source": [
        "def info_dataset(dataset):\n",
        "  num_graphs = len(dataset)\n",
        "  num_classes = dataset.num_classes\n",
        "  num_node_features = dataset.num_node_features\n",
        "  print()\n",
        "  print(\"Number of graphs: \", num_graphs)\n",
        "  print(\"Number of classes: \", num_classes)\n",
        "  print(\"Number of node features: \", num_node_features)"
      ]
    },
    {
      "cell_type": "code",
      "execution_count": 6,
      "metadata": {
        "id": "WMO3bb1hKGIu"
      },
      "outputs": [],
      "source": [
        "def info_degree(g):\n",
        "  degree_total = np.sum(g.degree())\n",
        "  \n",
        "  print(\"Average degree:\", round((degree_total/g.vcount()),2))\n",
        "  print(\"Maximum degree:\", max(g.degree))"
      ]
    },
    {
      "cell_type": "code",
      "execution_count": 166,
      "metadata": {},
      "outputs": [],
      "source": [
        "np_enzymes = []\n",
        "np_proteins = []\n",
        "np_dd = []\n",
        "np_nci1 = []\n",
        "np_nci109 = []\n",
        "np_muta = []"
      ]
    },
    {
      "cell_type": "code",
      "execution_count": 167,
      "metadata": {},
      "outputs": [],
      "source": [
        "def get_infos(graph):\n",
        "    edges = number_of_edges(graph)\n",
        "    nodes = number_of_nodes(graph)\n",
        "    average_degree = np.mean(list(dict(graph.degree()).values()))\n",
        "    average_neighbor_degree = np.mean(list(nx.average_neighbor_degree(graph).values()))\n",
        "    correlation = nx.degree_pearson_correlation_coefficient(graph)\n",
        "\n",
        "    return [edges, nodes, average_neighbor_degree, average_neighbor_degree, correlation]"
      ]
    },
    {
      "cell_type": "code",
      "execution_count": 168,
      "metadata": {},
      "outputs": [
        {
          "name": "stderr",
          "output_type": "stream",
          "text": [
            "/home/bjoern/miniconda3/envs/HGL/lib/python3.8/site-packages/scipy/stats/_stats_py.py:4068: PearsonRConstantInputWarning: An input array is constant; the correlation coefficient is not defined.\n",
            "  warnings.warn(PearsonRConstantInputWarning())\n"
          ]
        }
      ],
      "source": [
        "\n",
        "for dataset, array in zip([dataset_Enzymes, dataset_Proteins, dataset_DD, dataset_NCI1, dataset_NCI109, dataset_Mutagenicity], [np_enzymes, np_proteins, np_dd, np_nci1, np_nci109, np_muta]):\n",
        "  # get average degree and maximum degree of each dataset\n",
        "    \n",
        "    for i in range(len(dataset)):\n",
        "\n",
        "        graph = nx.from_edgelist(dataset[i].edge_index.numpy().T)\n",
        "        array.append(get_infos(graph))\n",
        "        \n",
        "        \n",
        "    "
      ]
    },
    {
      "cell_type": "code",
      "execution_count": 169,
      "metadata": {},
      "outputs": [],
      "source": [
        "np_enzymes = np.array(np_enzymes)\n",
        "np_proteins = np.array(np_proteins)\n",
        "np_dd = np.array(np_dd)\n",
        "np_nci1 = np.array(np_nci1)\n",
        "np_nci109 = np.array(np_nci109)\n",
        "np_muta = np.array(np_muta)"
      ]
    },
    {
      "cell_type": "code",
      "execution_count": 170,
      "metadata": {},
      "outputs": [
        {
          "data": {
            "text/plain": [
              "array([16.82005721, 15.88641155,  0.24927632,  0.24927632,  0.16115823])"
            ]
          },
          "execution_count": 170,
          "metadata": {},
          "output_type": "execute_result"
        }
      ],
      "source": [
        "np.nanmean(np_enzymes, axis=0)\n",
        "np.nanstd(np_enzymes, axis=0)\n",
        "\n",
        "np.nanmean(np_proteins, axis=0)\n",
        "np.nanstd(np_proteins, axis=0)\n",
        "\n",
        "np.nanmean(np_dd, axis=0)\n",
        "np.nanstd(np_dd, axis=0)\n",
        "\n",
        "np.nanmean(np_nci1, axis=0)\n",
        "np.nanstd(np_nci1, axis=0)\n",
        "\n",
        "np.nanmean(np_nci109, axis=0)\n",
        "np.nanstd(np_nci109, axis=0)\n",
        "\n",
        "np.nanmean(np_muta, axis=0)\n",
        "np.nanstd(np_muta, axis=0)"
      ]
    },
    {
      "cell_type": "code",
      "execution_count": 171,
      "metadata": {},
      "outputs": [],
      "source": [
        "mean_edges = [np.nanmean(np_enzymes, axis=0)[0], np.nanmean(np_proteins, axis=0)[0], np.nanmean(np_dd, axis=0)[0], np.nanmean(np_nci1, axis=0)[0], np.nanmean(np_nci109, axis=0)[0], np.nanmean(np_muta, axis=0)[0]]\n",
        "mean_nodes = [np.nanmean(np_enzymes, axis=0)[1], np.nanmean(np_proteins, axis=0)[1], np.nanmean(np_dd, axis=0)[1], np.nanmean(np_nci1, axis=0)[1], np.nanmean(np_nci109, axis=0)[1], np.nanmean(np_muta, axis=0)[1]]\n",
        "mean_degree = [np.nanmean(np_enzymes, axis=0)[2], np.nanmean(np_proteins, axis=0)[2], np.nanmean(np_dd, axis=0)[2], np.nanmean(np_nci1, axis=0)[2], np.nanmean(np_nci109, axis=0)[2], np.nanmean(np_muta, axis=0)[2]]\n",
        "mean_neighbor_degree = [np.nanmean(np_enzymes, axis=0)[3], np.nanmean(np_proteins, axis=0)[3], np.nanmean(np_dd, axis=0)[3], np.nanmean(np_nci1, axis=0)[3], np.nanmean(np_nci109, axis=0)[3], np.nanmean(np_muta, axis=0)[3]]\n",
        "mean_correlation = [np.nanmean(np_enzymes, axis=0)[4], np.nanmean(np_proteins, axis=0)[4], np.nanmean(np_dd, axis=0)[4], np.nanmean(np_nci1, axis=0)[4], np.nanmean(np_nci109, axis=0)[4], np.nanmean(np_muta, axis=0)[4]]"
      ]
    },
    {
      "cell_type": "code",
      "execution_count": 172,
      "metadata": {},
      "outputs": [],
      "source": [
        "std_edges = [np.nanstd(np_enzymes, axis=0)[0], np.nanstd(np_proteins, axis=0)[0], np.nanstd(np_dd, axis=0)[0], np.nanstd(np_nci1, axis=0)[0], np.nanstd(np_nci109, axis=0)[0], np.nanstd(np_muta, axis=0)[0]]\n",
        "std_nodes = [np.nanstd(np_enzymes, axis=0)[1], np.nanstd(np_proteins, axis=0)[1], np.nanstd(np_dd, axis=0)[1], np.nanstd(np_nci1, axis=0)[1], np.nanstd(np_nci109, axis=0)[1], np.nanstd(np_muta, axis=0)[1]]\n",
        "std_degree = [np.nanstd(np_enzymes, axis=0)[2], np.nanstd(np_proteins, axis=0)[2], np.nanstd(np_dd, axis=0)[2], np.nanstd(np_nci1, axis=0)[2], np.nanstd(np_nci109, axis=0)[2], np.nanstd(np_muta, axis=0)[2]]\n",
        "std_neighbor_degree = [np.nanstd(np_enzymes, axis=0)[3], np.nanstd(np_proteins, axis=0)[3], np.nanstd(np_dd, axis=0)[3], np.nanstd(np_nci1, axis=0)[3], np.nanstd(np_nci109, axis=0)[3], np.nanstd(np_muta, axis=0)[3]]\n",
        "std_correlation = [np.nanstd(np_enzymes, axis=0)[4], np.nanstd(np_proteins, axis=0)[4], np.nanstd(np_dd, axis=0)[4], np.nanstd(np_nci1, axis=0)[4], np.nanstd(np_nci109, axis=0)[4], np.nanstd(np_muta, axis=0)[4]]"
      ]
    },
    {
      "cell_type": "code",
      "execution_count": null,
      "metadata": {},
      "outputs": [
        {
          "name": "stderr",
          "output_type": "stream",
          "text": [
            "/tmp/ipykernel_29922/1400725672.py:7: UserWarning: FixedFormatter should only be used together with FixedLocator\n",
            "  xtickNames = plt.setp(ax1, xticklabels=names)\n"
          ]
        },
        {
          "data": {
            "image/png": "[encoded data removed]",
            "text/plain": [
              "<Figure size 1000x1200 with 4 Axes>"
            ]
          },
          "metadata": {},
          "output_type": "display_data"
        }
      ],
      "source": [
        "names = [\"Enzymes\", \"Proteins\", \"DD\", \"NCI1\", \"NCI109\", \"Mutagenicity\"]\n",
        "\n",
        "fig, (ax1, ax2, ax3, ax4, ax5) = plt.subplots(5, sharex=True)\n",
        "fig.suptitle('GCN vs HGP modelperformance mean on NCI1')\n",
        "# make fig bigger\n",
        "fig.set_size_inches(10, 12)\n",
        "xtickNames = plt.setp(ax1, xticklabels=names)\n",
        "plt.setp(xtickNames, rotation=45, fontsize=8)\n",
        "fig.tight_layout(pad=3.0)\n",
        "# make a boxplot in ax1 with all the data\n",
        "ax1.boxplot(np_enzymes[:,0], positions=[1], widths=0.6, showfliers=False)\n",
        "ax1.boxplot(np_proteins[:,0], positions=[2], widths=0.6, showfliers=False)\n",
        "ax1.boxplot(np_dd[:,0], positions=[3], widths=0.6, showfliers=False)\n",
        "ax1.boxplot(np_nci1[:,0], positions=[4], widths=0.6, showfliers=False)\n",
        "ax1.boxplot(np_nci109[:,0], positions=[5], widths=0.6, showfliers=False)\n",
        "ax1.boxplot(np_muta[:,0], positions=[6], widths=0.6, showfliers=False)\n",
        "ax1.set_title('Edges')\n",
        "\n",
        "ax2.boxplot(np_enzymes[:,1], positions=[1], widths=0.6, showfliers=False)\n",
        "ax2.boxplot(np_proteins[:,1], positions=[2], widths=0.6,showfliers=False)\n",
        "ax2.boxplot(np_dd[:,1], positions=[3], widths=0.6, showfliers=False)\n",
        "ax2.boxplot(np_nci1[:,1], positions=[4], widths=0.6, showfliers=False)\n",
        "ax2.boxplot(np_nci109[:,1], positions=[5], widths=0.6, showfliers=False)\n",
        "ax2.boxplot(np_muta[:,1], positions=[6], widths=0.6, showfliers=False)\n",
        "ax2.set_title('Nodes')\n",
        "\n",
        "ax3.boxplot(np_enzymes[:,2], positions=[1], widths=0.6,showfliers=False)\n",
        "ax3.boxplot(np_proteins[:,2], positions=[2], widths=0.6,showfliers=False)\n",
        "ax3.boxplot(np_dd[:,2], positions=[3], widths=0.6,showfliers=False)\n",
        "ax3.boxplot(np_nci1[:,2], positions=[4], widths=0.6,showfliers=False)\n",
        "ax3.boxplot(np_nci109[:,2], positions=[5], widths=0.6,showfliers=False)\n",
        "ax3.boxplot(np_muta[:,2], positions=[6], widths=0.6,showfliers=False)\n",
        "ax3.set_title('Avg Degree')\n",
        "\n",
        "ax4.boxplot(np_enzymes[:,3], positions=[1], widths=0.6,showfliers=False)\n",
        "ax4.boxplot(np_proteins[:,3], positions=[2], widths=0.6,showfliers=False)\n",
        "ax4.boxplot(np_dd[:,3], positions=[3], widths=0.6,showfliers=False)\n",
        "ax4.boxplot(np_nci1[:,3], positions=[4], widths=0.6,showfliers=False)\n",
        "ax4.boxplot(np_nci109[:,3], positions=[5], widths=0.6,showfliers=False)\n",
        "ax4.boxplot(np_muta[:,3], positions=[6], widths=0.6,showfliers=False)\n",
        "ax4.set_title('Avg Neighbor Degree')\n",
        "\n",
        "ax5.boxplot(np_enzymes[:,4], positions=[1], widths=0.6,showfliers=False)\n",
        "ax5.boxplot(np_proteins[:,4], positions=[2], widths=0.6,showfliers=False)\n",
        "ax5.boxplot(np_dd[:,4], positions=[3], widths=0.6,showfliers=False)\n",
        "ax5.boxplot(np_nci1[:,4], positions=[4], widths=0.6,showfliers=False)\n",
        "ax5.boxplot(np_nci109[:,4], positions=[5], widths=0.6,showfliers=False)\n",
        "ax5.boxplot(np_muta[:,4], positions=[6], widths=0.6,showfliers=False)\n",
        "ax5.set_title('Correlation')\n",
        "\n",
        "for ax in fig.get_axes():\n",
        "    ax.label_outer()"
      ]
    },
    {
      "cell_type": "markdown",
      "metadata": {
        "id": "6HCQxy0Zy07i"
      },
      "source": [
        "Let's observe a single graph from the data\n",
        "\n",
        "IN THE FIRST LINE YOU CAN SELECT A SPECIFIC GRAPH (e.g. 10th) OR LEAVE THE DEFAULT VALUE"
      ]
    },
    {
      "cell_type": "code",
      "execution_count": 9,
      "metadata": {
        "colab": {
          "base_uri": "https://localhost:8080/",
          "height": 637
        },
        "id": "mY5YeCNKyzxk",
        "outputId": "78e5641d-da80-4965-e42d-3b86bb420172"
      },
      "outputs": [
        {
          "ename": "NameError",
          "evalue": "name 'dataset' is not defined",
          "output_type": "error",
          "traceback": [
            "\u001b[0;31m---------------------------------------------------------------------------\u001b[0m",
            "\u001b[0;31mNameError\u001b[0m                                 Traceback (most recent call last)",
            "\u001b[1;32m/home/bjoern/AML22-project/AML_CNA.ipynb Cell 8\u001b[0m in \u001b[0;36m<cell line: 4>\u001b[0;34m()\u001b[0m\n\u001b[1;32m      <a href='vscode-notebook-cell://wsl%2Bubuntu-20.04/home/bjoern/AML22-project/AML_CNA.ipynb#X14sdnNjb2RlLXJlbW90ZQ%3D%3D?line=0'>1</a>\u001b[0m graph_to_work_with \u001b[39m=\u001b[39m \u001b[39m400\u001b[39m\n\u001b[0;32m----> <a href='vscode-notebook-cell://wsl%2Bubuntu-20.04/home/bjoern/AML22-project/AML_CNA.ipynb#X14sdnNjb2RlLXJlbW90ZQ%3D%3D?line=3'>4</a>\u001b[0m data \u001b[39m=\u001b[39m dataset[graph_to_work_with]\n\u001b[1;32m      <a href='vscode-notebook-cell://wsl%2Bubuntu-20.04/home/bjoern/AML22-project/AML_CNA.ipynb#X14sdnNjb2RlLXJlbW90ZQ%3D%3D?line=4'>5</a>\u001b[0m \u001b[39mprint\u001b[39m(data)\n\u001b[1;32m      <a href='vscode-notebook-cell://wsl%2Bubuntu-20.04/home/bjoern/AML22-project/AML_CNA.ipynb#X14sdnNjb2RlLXJlbW90ZQ%3D%3D?line=8'>9</a>\u001b[0m \u001b[39m# create graph for igraph\u001b[39;00m\n",
            "\u001b[0;31mNameError\u001b[0m: name 'dataset' is not defined"
          ]
        }
      ],
      "source": [
        "graph_to_work_with = 400\n",
        "\n",
        "\n",
        "data = dataset[graph_to_work_with]\n",
        "print(data)\n",
        "\n",
        "\n",
        "\n",
        "# create graph for igraph\n",
        "edges_df = pd.DataFrame(data.edge_index.T.numpy())\n",
        "g = Graph.DataFrame(edges_df, directed=data.is_directed())\n",
        "\n",
        "info_dataset()\n",
        "\n",
        "print()\n",
        "print(\"Graph is directed: \", data.is_directed())\n",
        "print(\"Number of cliques: \", g.clique_number())\n",
        "\n",
        "info_degree()\n",
        "\n",
        "print()\n",
        "print(\"Number of nodes: \", g.vcount())\n",
        "print(\"Number of edges: \", g.ecount())\n",
        "\n",
        "\n",
        "# plot graph\n",
        "visual_style = {}\n",
        "layout = g.layout(layout='drl')\n",
        "# make the nodes with max. degrees blue (aka hubs)\n",
        "g.vs[\"color\"] = [\"blue\" if node.degree()==10 else \"green\" for node in g.vs]\n",
        "#visual_style[\"edge_curved\"] = False\n",
        "ig.plot(g, bbox=(300, 300), margin=20, vertex_size=10, **visual_style)"
      ]
    },
    {
      "cell_type": "markdown",
      "metadata": {
        "id": "xRZuFHT40M5-"
      },
      "source": [
        "Show degree distribution"
      ]
    },
    {
      "cell_type": "code",
      "execution_count": 8,
      "metadata": {
        "colab": {
          "base_uri": "https://localhost:8080/",
          "height": 346
        },
        "id": "4JAs2bN2KZkz",
        "outputId": "3fa3da9b-9394-475c-e9a9-2dd42bf8361b"
      },
      "outputs": [
        {
          "ename": "NameError",
          "evalue": "name 'degrees' is not defined",
          "output_type": "error",
          "traceback": [
            "\u001b[1;31m---------------------------------------------------------------------------\u001b[0m",
            "\u001b[1;31mNameError\u001b[0m                                 Traceback (most recent call last)",
            "\u001b[1;32m~\\AppData\\Local\\Temp/ipykernel_15956/4083461969.py\u001b[0m in \u001b[0;36m<module>\u001b[1;34m\u001b[0m\n\u001b[0;32m      2\u001b[0m \u001b[0mdegree_counts\u001b[0m \u001b[1;33m=\u001b[0m \u001b[1;33m[\u001b[0m\u001b[1;36m0\u001b[0m \u001b[1;32mfor\u001b[0m \u001b[0mx\u001b[0m \u001b[1;32min\u001b[0m \u001b[0mrange\u001b[0m\u001b[1;33m(\u001b[0m\u001b[0mg\u001b[0m\u001b[1;33m.\u001b[0m\u001b[0mmaxdegree\u001b[0m\u001b[1;33m(\u001b[0m\u001b[1;33m)\u001b[0m\u001b[1;33m+\u001b[0m\u001b[1;36m1\u001b[0m\u001b[1;33m)\u001b[0m\u001b[1;33m]\u001b[0m\u001b[1;33m\u001b[0m\u001b[1;33m\u001b[0m\u001b[0m\n\u001b[0;32m      3\u001b[0m \u001b[1;33m\u001b[0m\u001b[0m\n\u001b[1;32m----> 4\u001b[1;33m \u001b[1;32mfor\u001b[0m \u001b[0mi\u001b[0m \u001b[1;32min\u001b[0m \u001b[0mdegrees\u001b[0m\u001b[1;33m:\u001b[0m\u001b[1;33m\u001b[0m\u001b[1;33m\u001b[0m\u001b[0m\n\u001b[0m\u001b[0;32m      5\u001b[0m     \u001b[0mdegree_counts\u001b[0m\u001b[1;33m[\u001b[0m\u001b[0mi\u001b[0m\u001b[1;33m]\u001b[0m \u001b[1;33m+=\u001b[0m \u001b[1;36m1\u001b[0m\u001b[1;33m\u001b[0m\u001b[1;33m\u001b[0m\u001b[0m\n\u001b[0;32m      6\u001b[0m \u001b[1;33m\u001b[0m\u001b[0m\n",
            "\u001b[1;31mNameError\u001b[0m: name 'degrees' is not defined"
          ]
        }
      ],
      "source": [
        "x = [x for x in range(g.maxdegree()+1)]\n",
        "degree_counts = [0 for x in range(g.maxdegree()+1)]\n",
        "\n",
        "for i in degrees:\n",
        "    degree_counts[i] += 1\n",
        "\n",
        "print(len(x))\n",
        "print(len(degree_counts))\n",
        "\n",
        "plt.figure()\n",
        "plt.plot(x, degree_counts)\n",
        "plt.ylabel('Number of vertices with degree k')\n",
        "plt.xlabel('Degree k')\n",
        "plt.title('Degree Distribution of Vertices')\n",
        "\n",
        "plt.xticks(np.arange(min(x), max(x)+1, 2.0))\n",
        "plt.show()\n",
        "plt.draw()"
      ]
    },
    {
      "cell_type": "markdown",
      "metadata": {
        "id": "QrFUhUJ2RGVf"
      },
      "source": [
        "Methods needed for degree correlation"
      ]
    },
    {
      "cell_type": "code",
      "execution_count": 7,
      "metadata": {
        "id": "zs8Lz_TUDOcR"
      },
      "outputs": [],
      "source": [
        "def knn(vertex):\n",
        "  # print the average degree of neighbors of the vertex\n",
        "  neighb = g.neighbors(vertex)\n",
        "  degrees = [g.degree(n) for n in neighb]\n",
        "  return np.average(degrees)\n",
        "\n",
        "def print_deg_correlation(g):\n",
        "  deg_corr = round(g.assortativity_degree(directed=data.is_directed()),2)\n",
        "  \n",
        "  if deg_corr > 0:\n",
        "    print(f\"Assortative graph with Degree Correlation Coefficient = {deg_corr}\")\n",
        "\n",
        "  if deg_corr == 0:\n",
        "    print(f\"Neutral graph with Degree Correlation Coefficient = {deg_corr}\")\n",
        "\n",
        "  if deg_corr < 0:\n",
        "    print(f\"Disasortative graph with Degree Correlation Coefficient = {deg_corr}\")\n",
        "\n",
        "def info_degree_correlation(g):\n",
        "  deg = [x.degree() for x in g.vs]\n",
        "  avg_deg = [knn(x) for x in g.vs]\n",
        "\n",
        "  y_mean = [np.mean(avg_deg)]*len(deg)\n",
        "\n",
        "  plt.figure()\n",
        "  plt.scatter(deg, avg_deg, label='Data', marker='o')\n",
        "  plt.plot(deg, y_mean, label='Mean', linestyle='--')\n",
        "  plt.title(\"Degree Correlation\")\n",
        "  plt.xlabel(\"Degree\")\n",
        "  plt.ylabel(\"Average neighbors degree (knn)\")\n",
        "  plt.legend()\n",
        "  plt.show()\n",
        "\n",
        "  print_deg_correlation(g)"
      ]
    },
    {
      "cell_type": "code",
      "execution_count": 8,
      "metadata": {
        "colab": {
          "base_uri": "https://localhost:8080/",
          "height": 313
        },
        "id": "BHXgH1AfMZjj",
        "outputId": "06787d2f-39c6-42f0-bdab-148d43e29a88"
      },
      "outputs": [
        {
          "ename": "NameError",
          "evalue": "name 'g' is not defined",
          "output_type": "error",
          "traceback": [
            "\u001b[0;31m---------------------------------------------------------------------------\u001b[0m",
            "\u001b[0;31mNameError\u001b[0m                                 Traceback (most recent call last)",
            "\u001b[1;32m/home/bjoern/AML22-project/AML_CNA.ipynb Cell 13\u001b[0m in \u001b[0;36m<cell line: 1>\u001b[0;34m()\u001b[0m\n\u001b[0;32m----> <a href='vscode-notebook-cell://wsl%2Bubuntu-20.04/home/bjoern/AML22-project/AML_CNA.ipynb#X22sdnNjb2RlLXJlbW90ZQ%3D%3D?line=0'>1</a>\u001b[0m info_degree_correlation(g)\n",
            "\u001b[0;31mNameError\u001b[0m: name 'g' is not defined"
          ]
        }
      ],
      "source": [
        "info_degree_correlation(g)"
      ]
    },
    {
      "cell_type": "code",
      "execution_count": null,
      "metadata": {
        "id": "porJ5KUSgcln"
      },
      "outputs": [],
      "source": [
        "# take graphs and save in analysis folder with pickle\n",
        "# Code autogenerated by Github Copilot to showcase functionality\n",
        "import pickle\n",
        "from networkx import Graph\n",
        "\n",
        "def save_graphs(dataset, name):\n",
        "    graphs = []\n",
        "    for i in range(len(dataset)):\n",
        "        data = dataset[i]\n",
        "        edges_df = pd.DataFrame(data.edge_index.T.numpy())\n",
        "        g = Graph(edges_df, directed=data.is_directed())\n",
        "        graphs.append(g)\n",
        "    with open(f\"/content/drive/MyDrive/AML_CNA/analysis/{name}.pkl\", \"wb\") as f:\n",
        "        pickle.dump(graphs, f)\n",
        "\n",
        "\n",
        "def load_graphs(name):\n",
        "    with open(f\"/content/drive/MyDrive/AML_CNA/analysis/{name}.pkl\", \"rb\") as f:\n",
        "        graphs = pickle.load(f)\n",
        "    return graphs\n",
        "\n",
        "save_graphs(dataset_Enzymes, \"Enzymes\")\n",
        "save_graphs(dataset_Proteins, \"Proteins\")\n",
        "save_graphs(dataset_DD, \"DD\")\n",
        "save_graphs(dataset_NCI1, \"NCI1\")\n",
        "save_graphs(dataset_NCI109, \"NCI109\")\n",
        "save_graphs(dataset_Mutagenicity, \"Mutagenicity\")\n"
      ]
    }
  ],
  "metadata": {
    "accelerator": "GPU",
    "colab": {
      "collapsed_sections": [],
      "name": "AML- CNA.ipynb",
      "provenance": []
    },
    "gpuClass": "standard",
    "kernelspec": {
      "display_name": "Python 3.8.13 ('HGL')",
      "language": "python",
      "name": "python3"
    },
    "language_info": {
      "codemirror_mode": {
        "name": "ipython",
        "version": 3
      },
      "file_extension": ".py",
      "mimetype": "text/x-python",
      "name": "python",
      "nbconvert_exporter": "python",
      "pygments_lexer": "ipython3",
      "version": "3.8.13"
    },
    "vscode": {
      "interpreter": {
        "hash": "20a035c567a38bd1f2940572b24bf1d024cc8b525cc5570f51a8ddddcc88cb9a"
      }
    }
  },
  "nbformat": 4,
  "nbformat_minor": 0
}
