{
  "cells": [
    {
      "cell_type": "code",
      "execution_count": 1,
      "metadata": {
        "colab": {
          "base_uri": "https://localhost:8080/"
        },
        "id": "ssGDCivXvQ7c",
        "outputId": "fee049cc-29b2-4e77-82aa-d7f88118fc64"
      },
      "outputs": [
        {
          "name": "stdout",
          "output_type": "stream",
          "text": [
            "Requirement already satisfied: igraph in c:\\users\\gerbk\\anaconda3\\lib\\site-packages (0.9.11)\n",
            "Requirement already satisfied: texttable>=1.6.2 in c:\\users\\gerbk\\anaconda3\\lib\\site-packages (from igraph) (1.6.4)\n"
          ]
        }
      ],
      "source": [
        "!pip install igraph"
      ]
    },
    {
      "cell_type": "code",
      "execution_count": 2,
      "metadata": {
        "colab": {
          "base_uri": "https://localhost:8080/"
        },
        "id": "UJiH01Uh-stq",
        "outputId": "fe957fc9-efb1-4764-966a-4f9019bebd16"
      },
      "outputs": [
        {
          "name": "stdout",
          "output_type": "stream",
          "text": [
            "Requirement already satisfied: python-igraph==0.8.3 in c:\\users\\gerbk\\anaconda3\\lib\\site-packages (0.8.3)\n",
            "Requirement already satisfied: texttable>=1.6.2 in c:\\users\\gerbk\\anaconda3\\lib\\site-packages (from python-igraph==0.8.3) (1.6.4)\n"
          ]
        },
        {
          "name": "stderr",
          "output_type": "stream",
          "text": [
            "Der Befehl \"apt\" ist entweder falsch geschrieben oder\n",
            "konnte nicht gefunden werden.\n"
          ]
        },
        {
          "name": "stdout",
          "output_type": "stream",
          "text": [
            "Requirement already satisfied: python-igraph in c:\\users\\gerbk\\anaconda3\\lib\\site-packages (0.8.3)\n",
            "Requirement already satisfied: leidenalg in c:\\users\\gerbk\\anaconda3\\lib\\site-packages (0.8.10)\n",
            "Requirement already satisfied: cairocffi in c:\\users\\gerbk\\anaconda3\\lib\\site-packages (1.3.0)\n",
            "Requirement already satisfied: texttable>=1.6.2 in c:\\users\\gerbk\\anaconda3\\lib\\site-packages (from python-igraph) (1.6.4)\n",
            "Requirement already satisfied: igraph<0.10,>=0.9.0 in c:\\users\\gerbk\\anaconda3\\lib\\site-packages (from leidenalg) (0.9.11)\n",
            "Requirement already satisfied: cffi>=1.1.0 in c:\\users\\gerbk\\anaconda3\\lib\\site-packages (from cairocffi) (1.15.0)\n",
            "Requirement already satisfied: pycparser in c:\\users\\gerbk\\anaconda3\\lib\\site-packages (from cffi>=1.1.0->cairocffi) (2.21)\n"
          ]
        }
      ],
      "source": [
        "!pip install python-igraph==0.8.3\n",
        "!apt install libcairo2-dev pkg-config python3-dev\n",
        "!pip install python-igraph leidenalg cairocffi"
      ]
    },
    {
      "cell_type": "code",
      "execution_count": 2,
      "metadata": {
        "colab": {
          "base_uri": "https://localhost:8080/"
        },
        "id": "1qMVkc6_2hVS",
        "outputId": "c8e31a6f-a32d-4b04-90da-0640d55e8c53"
      },
      "outputs": [
        {
          "name": "stdout",
          "output_type": "stream",
          "text": [
            "1.10.2\n",
            "None\n",
            "Looking in links: https://data.pyg.org/whl/torch-1.12.0+cu116.html\n",
            "Requirement already satisfied: torch-scatter in c:\\users\\gerbk\\anaconda3\\lib\\site-packages (2.0.9)\n",
            "Looking in links: https://data.pyg.org/whl/torch-1.12.0+cu116.html\n",
            "Requirement already satisfied: torch-sparse in c:\\users\\gerbk\\anaconda3\\lib\\site-packages (0.6.13)\n",
            "Requirement already satisfied: scipy in c:\\users\\gerbk\\anaconda3\\lib\\site-packages (from torch-sparse) (1.7.3)\n",
            "Requirement already satisfied: numpy<1.23.0,>=1.16.5 in c:\\users\\gerbk\\anaconda3\\lib\\site-packages (from scipy->torch-sparse) (1.21.5)\n",
            "Requirement already satisfied: torch-geometric in c:\\users\\gerbk\\anaconda3\\lib\\site-packages (2.1.0.post1)\n",
            "Requirement already satisfied: pyparsing in c:\\users\\gerbk\\anaconda3\\lib\\site-packages (from torch-geometric) (3.0.4)\n",
            "Requirement already satisfied: numpy in c:\\users\\gerbk\\anaconda3\\lib\\site-packages (from torch-geometric) (1.21.5)\n",
            "Requirement already satisfied: scikit-learn in c:\\users\\gerbk\\anaconda3\\lib\\site-packages (from torch-geometric) (1.0.2)\n",
            "Requirement already satisfied: requests in c:\\users\\gerbk\\anaconda3\\lib\\site-packages (from torch-geometric) (2.27.1)\n",
            "Requirement already satisfied: jinja2 in c:\\users\\gerbk\\anaconda3\\lib\\site-packages (from torch-geometric) (2.11.3)\n",
            "Requirement already satisfied: scipy in c:\\users\\gerbk\\anaconda3\\lib\\site-packages (from torch-geometric) (1.7.3)\n",
            "Requirement already satisfied: tqdm in c:\\users\\gerbk\\anaconda3\\lib\\site-packages (from torch-geometric) (4.64.0)\n",
            "Requirement already satisfied: MarkupSafe>=0.23 in c:\\users\\gerbk\\anaconda3\\lib\\site-packages (from jinja2->torch-geometric) (2.0.1)\n",
            "Requirement already satisfied: charset-normalizer~=2.0.0 in c:\\users\\gerbk\\anaconda3\\lib\\site-packages (from requests->torch-geometric) (2.0.4)\n",
            "Requirement already satisfied: idna<4,>=2.5 in c:\\users\\gerbk\\anaconda3\\lib\\site-packages (from requests->torch-geometric) (3.3)\n",
            "Requirement already satisfied: certifi>=2017.4.17 in c:\\users\\gerbk\\anaconda3\\lib\\site-packages (from requests->torch-geometric) (2022.6.15)\n",
            "Requirement already satisfied: urllib3<1.27,>=1.21.1 in c:\\users\\gerbk\\anaconda3\\lib\\site-packages (from requests->torch-geometric) (1.26.9)\n",
            "Requirement already satisfied: joblib>=0.11 in c:\\users\\gerbk\\anaconda3\\lib\\site-packages (from scikit-learn->torch-geometric) (1.1.0)\n",
            "Requirement already satisfied: threadpoolctl>=2.0.0 in c:\\users\\gerbk\\anaconda3\\lib\\site-packages (from scikit-learn->torch-geometric) (2.2.0)\n",
            "Requirement already satisfied: colorama in c:\\users\\gerbk\\anaconda3\\lib\\site-packages (from tqdm->torch-geometric) (0.4.4)\n"
          ]
        }
      ],
      "source": [
        "!python -c \"import torch; print(torch.__version__)\"\n",
        "!python -c \"import torch; print(torch.version.cuda)\"\n",
        "!pip install torch-scatter -f https://data.pyg.org/whl/torch-1.12.0+cu116.html\n",
        "!pip install torch-sparse -f https://data.pyg.org/whl/torch-1.12.0+cu116.html\n",
        "!pip install torch-geometric"
      ]
    },
    {
      "cell_type": "code",
      "execution_count": 1,
      "metadata": {
        "id": "vkpZOokOwQxg"
      },
      "outputs": [
        {
          "ename": "OSError",
          "evalue": "no library called \"cairo-2\" was found\nno library called \"cairo\" was found\nno library called \"libcairo-2\" was found\ncannot load library 'libcairo.so.2': error 0x7e\ncannot load library 'libcairo.2.dylib': error 0x7e\ncannot load library 'libcairo-2.dll': error 0x7e",
          "output_type": "error",
          "traceback": [
            "\u001b[1;31m---------------------------------------------------------------------------\u001b[0m",
            "\u001b[1;31mOSError\u001b[0m                                   Traceback (most recent call last)",
            "\u001b[1;32m~\\AppData\\Local\\Temp/ipykernel_15956/295827663.py\u001b[0m in \u001b[0;36m<module>\u001b[1;34m\u001b[0m\n\u001b[0;32m      9\u001b[0m \u001b[1;32mimport\u001b[0m \u001b[0mnumpy\u001b[0m \u001b[1;32mas\u001b[0m \u001b[0mnp\u001b[0m\u001b[1;33m\u001b[0m\u001b[1;33m\u001b[0m\u001b[0m\n\u001b[0;32m     10\u001b[0m \u001b[1;32mimport\u001b[0m \u001b[0mmatplotlib\u001b[0m\u001b[1;33m.\u001b[0m\u001b[0mpyplot\u001b[0m \u001b[1;32mas\u001b[0m \u001b[0mplt\u001b[0m\u001b[1;33m\u001b[0m\u001b[1;33m\u001b[0m\u001b[0m\n\u001b[1;32m---> 11\u001b[1;33m \u001b[1;32mimport\u001b[0m \u001b[0mcairocffi\u001b[0m\u001b[1;33m\u001b[0m\u001b[1;33m\u001b[0m\u001b[0m\n\u001b[0m",
            "\u001b[1;32m~\\AppData\\Local\\Programs\\Python\\Python310\\lib\\site-packages\\cairocffi\\__init__.py\u001b[0m in \u001b[0;36m<module>\u001b[1;34m\u001b[0m\n\u001b[0;32m     46\u001b[0m \u001b[1;33m\u001b[0m\u001b[0m\n\u001b[0;32m     47\u001b[0m \u001b[1;33m\u001b[0m\u001b[0m\n\u001b[1;32m---> 48\u001b[1;33m cairo = dlopen(\n\u001b[0m\u001b[0;32m     49\u001b[0m     \u001b[0mffi\u001b[0m\u001b[1;33m,\u001b[0m \u001b[1;33m(\u001b[0m\u001b[1;34m'cairo-2'\u001b[0m\u001b[1;33m,\u001b[0m \u001b[1;34m'cairo'\u001b[0m\u001b[1;33m,\u001b[0m \u001b[1;34m'libcairo-2'\u001b[0m\u001b[1;33m)\u001b[0m\u001b[1;33m,\u001b[0m\u001b[1;33m\u001b[0m\u001b[1;33m\u001b[0m\u001b[0m\n\u001b[0;32m     50\u001b[0m     ('libcairo.so.2', 'libcairo.2.dylib', 'libcairo-2.dll'))\n",
            "\u001b[1;32m~\\AppData\\Local\\Programs\\Python\\Python310\\lib\\site-packages\\cairocffi\\__init__.py\u001b[0m in \u001b[0;36mdlopen\u001b[1;34m(ffi, library_names, filenames)\u001b[0m\n\u001b[0;32m     43\u001b[0m     error_message = '\\n'.join(  # pragma: no cover\n\u001b[0;32m     44\u001b[0m         str(exception) for exception in exceptions)\n\u001b[1;32m---> 45\u001b[1;33m     \u001b[1;32mraise\u001b[0m \u001b[0mOSError\u001b[0m\u001b[1;33m(\u001b[0m\u001b[0merror_message\u001b[0m\u001b[1;33m)\u001b[0m  \u001b[1;31m# pragma: no cover\u001b[0m\u001b[1;33m\u001b[0m\u001b[1;33m\u001b[0m\u001b[0m\n\u001b[0m\u001b[0;32m     46\u001b[0m \u001b[1;33m\u001b[0m\u001b[0m\n\u001b[0;32m     47\u001b[0m \u001b[1;33m\u001b[0m\u001b[0m\n",
            "\u001b[1;31mOSError\u001b[0m: no library called \"cairo-2\" was found\nno library called \"cairo\" was found\nno library called \"libcairo-2\" was found\ncannot load library 'libcairo.so.2': error 0x7e\ncannot load library 'libcairo.2.dylib': error 0x7e\ncannot load library 'libcairo-2.dll': error 0x7e"
          ]
        }
      ],
      "source": [
        "from IPython.display import *\n",
        "import ipywidgets as widgets\n",
        "from ipywidgets import *\n",
        "\n",
        "from torch_geometric.datasets import TUDataset\n",
        "import igraph as ig\n",
        "from igraph import *\n",
        "import pandas as pd\n",
        "import numpy as np\n",
        "import matplotlib.pyplot as plt\n",
        "import cairocffi"
      ]
    },
    {
      "cell_type": "code",
      "execution_count": null,
      "metadata": {},
      "outputs": [
        {
          "name": "stdout",
          "output_type": "stream",
          "text": [
            "Requirement already satisfied: pycairo in c:\\users\\gerbk\\appdata\\local\\programs\\python\\python310\\lib\\site-packages (1.21.0)\n",
            "Note: you may need to restart the kernel to use updated packages.\n"
          ]
        },
        {
          "name": "stderr",
          "output_type": "stream",
          "text": [
            "WARNING: You are using pip version 22.0.4; however, version 22.2.2 is available.\n",
            "You should consider upgrading via the 'C:\\Users\\gerbk\\AppData\\Local\\Programs\\Python\\Python310\\python.exe -m pip install --upgrade pip' command.\n"
          ]
        }
      ],
      "source": []
    },
    {
      "cell_type": "code",
      "execution_count": 2,
      "metadata": {
        "id": "nhYEwL3PwZS7"
      },
      "outputs": [],
      "source": [
        "# load six datasets used in the paper\n",
        "dataset_Enzymes = TUDataset(root='/tmp', name='ENZYMES')\n",
        "dataset_Proteins = TUDataset(root='/tmp', name='PROTEINS')\n",
        "\n",
        "dataset_DD = TUDataset(root='/tmp', name='DD') # note to check whether it equals to D&D in paper\n",
        "\n",
        "dataset_NCI1 = TUDataset(root='/tmp', name='NCI1')\n",
        "dataset_NCI109 = TUDataset(root='/tmp', name='NCI109')\n",
        "dataset_Mutagenicity = TUDataset(root='/tmp', name='Mutagenicity')"
      ]
    },
    {
      "cell_type": "markdown",
      "metadata": {
        "id": "C7AIG48Zechs"
      },
      "source": [
        "SELECT WHICH OF THE ABOVE DATASETS YOU WANT TO LOOK AT"
      ]
    },
    {
      "cell_type": "code",
      "execution_count": 3,
      "metadata": {
        "id": "BULFjcG_dMSR"
      },
      "outputs": [],
      "source": [
        "dataset = dataset_Enzymes"
      ]
    },
    {
      "cell_type": "code",
      "execution_count": 4,
      "metadata": {
        "id": "z79fWSfRyJq8"
      },
      "outputs": [],
      "source": [
        "def info_dataset():\n",
        "  num_graphs = len(dataset)\n",
        "  num_classes = dataset.num_classes\n",
        "  num_node_features = dataset.num_node_features\n",
        "  print()\n",
        "  print(\"Number of graphs: \", num_graphs)\n",
        "  print(\"Number of classes: \", num_classes)\n",
        "  print(\"Number of node features: \", num_node_features)"
      ]
    },
    {
      "cell_type": "code",
      "execution_count": 5,
      "metadata": {
        "id": "WMO3bb1hKGIu"
      },
      "outputs": [],
      "source": [
        "def info_degree():\n",
        "  degree_total = np.sum(g.degree())\n",
        "  \n",
        "  print(\"Average degree:\", round((degree_total/g.vcount()),2))\n",
        "  #print(\"Maximum degree:\", max(g.degree))"
      ]
    },
    {
      "cell_type": "markdown",
      "metadata": {
        "id": "6HCQxy0Zy07i"
      },
      "source": [
        "Let's observe a single graph from the data\n",
        "\n",
        "IN THE FIRST LINE YOU CAN SELECT A SPECIFIC GRAPH (e.g. 10th) OR LEAVE THE DEFAULT VALUE"
      ]
    },
    {
      "cell_type": "code",
      "execution_count": 7,
      "metadata": {
        "colab": {
          "base_uri": "https://localhost:8080/",
          "height": 637
        },
        "id": "mY5YeCNKyzxk",
        "outputId": "78e5641d-da80-4965-e42d-3b86bb420172"
      },
      "outputs": [
        {
          "name": "stdout",
          "output_type": "stream",
          "text": [
            "Data(edge_index=[2, 194], x=[48, 3], y=[1])\n",
            "\n",
            "Number of graphs:  600\n",
            "Number of classes:  6\n",
            "Number of node features:  3\n",
            "\n",
            "Graph is directed:  False\n",
            "Number of cliques:  4\n",
            "Average degree: 8.08\n",
            "\n",
            "Number of nodes:  48\n",
            "Number of edges:  194\n"
          ]
        },
        {
          "data": {
            "image/svg+xml": "<?xml version=\"1.0\" encoding=\"UTF-8\"?>\n<svg xmlns=\"http://www.w3.org/2000/svg\" xmlns:xlink=\"http://www.w3.org/1999/xlink\" width=\"300pt\" height=\"300pt\" viewBox=\"0 0 300 300\" version=\"1.1\">\n<g id=\"surface8\">\n<rect x=\"0\" y=\"0\" width=\"300\" height=\"300\" style=\"fill:rgb(100%,100%,100%);fill-opacity:1;stroke:none;\"/>\n<path style=\"fill:none;stroke-width:1;stroke-linecap:butt;stroke-linejoin:miter;stroke:rgb(26.666667%,26.666667%,26.666667%);stroke-opacity:1;stroke-miterlimit:10;\" d=\"M 99.863281 276.359375 C 115.453125 271.210938 122.960938 260.4375 122.382813 244.027344 \"/>\n<path style=\"fill:none;stroke-width:1;stroke-linecap:butt;stroke-linejoin:miter;stroke:rgb(26.666667%,26.666667%,26.666667%);stroke-opacity:1;stroke-miterlimit:10;\" d=\"M 124.550781 209.367188 C 141.351563 218.121094 156.308594 215.65625 169.417969 201.980469 \"/>\n<path style=\"fill:none;stroke-width:1;stroke-linecap:butt;stroke-linejoin:miter;stroke:rgb(26.666667%,26.666667%,26.666667%);stroke-opacity:1;stroke-miterlimit:10;\" d=\"M 124.550781 209.367188 C 120.960938 193.203125 110.902344 184.582031 94.382813 183.503906 \"/>\n<path style=\"fill:none;stroke-width:1;stroke-linecap:butt;stroke-linejoin:miter;stroke:rgb(26.666667%,26.666667%,26.666667%);stroke-opacity:1;stroke-miterlimit:10;\" d=\"M 212.425781 200.40625 C 221.128906 199.3125 226.171875 194.433594 227.554688 185.773438 \"/>\n<path style=\"fill:none;stroke-width:1;stroke-linecap:butt;stroke-linejoin:miter;stroke:rgb(26.666667%,26.666667%,26.666667%);stroke-opacity:1;stroke-miterlimit:10;\" d=\"M 212.425781 200.40625 C 221.199219 215.066406 233.851563 220.238281 250.378906 215.921875 \"/>\n<path style=\"fill:none;stroke-width:1;stroke-linecap:butt;stroke-linejoin:miter;stroke:rgb(26.666667%,26.666667%,26.666667%);stroke-opacity:1;stroke-miterlimit:10;\" d=\"M 212.425781 200.40625 C 197.699219 190.179688 183.359375 190.703125 169.417969 201.980469 \"/>\n<path style=\"fill:none;stroke-width:1;stroke-linecap:butt;stroke-linejoin:miter;stroke:rgb(26.666667%,26.666667%,26.666667%);stroke-opacity:1;stroke-miterlimit:10;\" d=\"M 212.425781 200.40625 C 213.8125 191.75 218.855469 186.871094 227.554688 185.773438 \"/>\n<path style=\"fill:none;stroke-width:1;stroke-linecap:butt;stroke-linejoin:miter;stroke:rgb(26.666667%,26.666667%,26.666667%);stroke-opacity:1;stroke-miterlimit:10;\" d=\"M 227.554688 185.773438 C 215.609375 199.054688 214.339844 213.289063 223.746094 228.476563 \"/>\n<path style=\"fill:none;stroke-width:1;stroke-linecap:butt;stroke-linejoin:miter;stroke:rgb(26.666667%,26.666667%,26.666667%);stroke-opacity:1;stroke-miterlimit:10;\" d=\"M 227.554688 185.773438 C 210.679688 187.070313 200.503906 196 197.023438 212.5625 \"/>\n<path style=\"fill:none;stroke-width:1;stroke-linecap:butt;stroke-linejoin:miter;stroke:rgb(26.666667%,26.666667%,26.666667%);stroke-opacity:1;stroke-miterlimit:10;\" d=\"M 227.554688 185.773438 C 230.695313 170.601563 225.421875 159.382813 211.734375 152.121094 \"/>\n<path style=\"fill:none;stroke-width:1;stroke-linecap:butt;stroke-linejoin:miter;stroke:rgb(26.666667%,26.666667%,26.666667%);stroke-opacity:1;stroke-miterlimit:10;\" d=\"M 227.554688 185.773438 C 242.863281 182.804688 251.234375 173.554688 252.671875 158.023438 \"/>\n<path style=\"fill:none;stroke-width:1;stroke-linecap:butt;stroke-linejoin:miter;stroke:rgb(26.666667%,26.666667%,26.666667%);stroke-opacity:1;stroke-miterlimit:10;\" d=\"M 227.554688 185.773438 C 227.625 201.53125 235.234375 211.582031 250.378906 215.921875 \"/>\n<path style=\"fill:none;stroke-width:1;stroke-linecap:butt;stroke-linejoin:miter;stroke:rgb(26.666667%,26.666667%,26.666667%);stroke-opacity:1;stroke-miterlimit:10;\" d=\"M 227.554688 185.773438 C 236.960938 200.960938 235.691406 215.195313 223.746094 228.476563 \"/>\n<path style=\"fill:none;stroke-width:1;stroke-linecap:butt;stroke-linejoin:miter;stroke:rgb(26.666667%,26.666667%,26.666667%);stroke-opacity:1;stroke-miterlimit:10;\" d=\"M 223.746094 228.476563 C 218.816406 216.492188 209.910156 211.1875 197.023438 212.5625 \"/>\n<path style=\"fill:none;stroke-width:1;stroke-linecap:butt;stroke-linejoin:miter;stroke:rgb(26.666667%,26.666667%,26.666667%);stroke-opacity:1;stroke-miterlimit:10;\" d=\"M 223.746094 228.476563 C 210.585938 228.933594 202.386719 235.542969 199.140625 248.300781 \"/>\n<path style=\"fill:none;stroke-width:1;stroke-linecap:butt;stroke-linejoin:miter;stroke:rgb(26.666667%,26.666667%,26.666667%);stroke-opacity:1;stroke-miterlimit:10;\" d=\"M 65.050781 20 C 61.480469 35.210938 66.496094 46.660156 80.097656 54.34375 \"/>\n<path style=\"fill:none;stroke-width:1;stroke-linecap:butt;stroke-linejoin:miter;stroke:rgb(26.666667%,26.666667%,26.666667%);stroke-opacity:1;stroke-miterlimit:10;\" d=\"M 99.863281 276.359375 C 99.289063 259.953125 106.792969 249.175781 122.382813 244.027344 \"/>\n<path style=\"fill:none;stroke-width:1;stroke-linecap:butt;stroke-linejoin:miter;stroke:rgb(26.666667%,26.666667%,26.666667%);stroke-opacity:1;stroke-miterlimit:10;\" d=\"M 122.382813 244.027344 C 134.363281 260.15625 149.773438 264.722656 168.609375 257.738281 \"/>\n<path style=\"fill:none;stroke-width:1;stroke-linecap:butt;stroke-linejoin:miter;stroke:rgb(26.666667%,26.666667%,26.666667%);stroke-opacity:1;stroke-miterlimit:10;\" d=\"M 122.382813 244.027344 C 123.414063 225.140625 115.003906 212.558594 97.160156 206.28125 \"/>\n<path style=\"fill:none;stroke-width:1;stroke-linecap:butt;stroke-linejoin:miter;stroke:rgb(26.666667%,26.666667%,26.666667%);stroke-opacity:1;stroke-miterlimit:10;\" d=\"M 122.382813 244.027344 C 134.734375 247.445313 144.277344 243.707031 151.019531 232.808594 \"/>\n<path style=\"fill:none;stroke-width:1;stroke-linecap:butt;stroke-linejoin:miter;stroke:rgb(26.666667%,26.666667%,26.666667%);stroke-opacity:1;stroke-miterlimit:10;\" d=\"M 122.382813 244.027344 C 141.21875 237.042969 156.628906 241.613281 168.609375 257.738281 \"/>\n<path style=\"fill:none;stroke-width:1;stroke-linecap:butt;stroke-linejoin:miter;stroke:rgb(26.666667%,26.666667%,26.666667%);stroke-opacity:1;stroke-miterlimit:10;\" d=\"M 168.609375 257.738281 C 169.605469 270.082031 176.167969 277.5 188.292969 280 \"/>\n<path style=\"fill:none;stroke-width:1;stroke-linecap:butt;stroke-linejoin:miter;stroke:rgb(26.666667%,26.666667%,26.666667%);stroke-opacity:1;stroke-miterlimit:10;\" d=\"M 168.609375 257.738281 C 177.46875 274.601563 191.234375 281.140625 209.90625 277.359375 \"/>\n<path style=\"fill:none;stroke-width:1;stroke-linecap:butt;stroke-linejoin:miter;stroke:rgb(26.666667%,26.666667%,26.666667%);stroke-opacity:1;stroke-miterlimit:10;\" d=\"M 168.609375 257.738281 C 181.144531 262.226563 191.324219 259.082031 199.140625 248.300781 \"/>\n<path style=\"fill:none;stroke-width:1;stroke-linecap:butt;stroke-linejoin:miter;stroke:rgb(26.666667%,26.666667%,26.666667%);stroke-opacity:1;stroke-miterlimit:10;\" d=\"M 168.609375 257.738281 C 168.976563 245.03125 163.113281 236.71875 151.019531 232.808594 \"/>\n<path style=\"fill:none;stroke-width:1;stroke-linecap:butt;stroke-linejoin:miter;stroke:rgb(26.666667%,26.666667%,26.666667%);stroke-opacity:1;stroke-miterlimit:10;\" d=\"M 168.609375 257.738281 C 186.363281 268.332031 202.8125 266.585938 217.953125 252.507813 \"/>\n<path style=\"fill:none;stroke-width:1;stroke-linecap:butt;stroke-linejoin:miter;stroke:rgb(26.666667%,26.666667%,26.666667%);stroke-opacity:1;stroke-miterlimit:10;\" d=\"M 168.609375 257.738281 C 180.734375 260.238281 187.296875 267.65625 188.292969 280 \"/>\n<path style=\"fill:none;stroke-width:1;stroke-linecap:butt;stroke-linejoin:miter;stroke:rgb(26.666667%,26.666667%,26.666667%);stroke-opacity:1;stroke-miterlimit:10;\" d=\"M 188.292969 280 C 196.160156 284.523438 203.363281 283.640625 209.90625 277.359375 \"/>\n<path style=\"fill:none;stroke-width:1;stroke-linecap:butt;stroke-linejoin:miter;stroke:rgb(26.666667%,26.666667%,26.666667%);stroke-opacity:1;stroke-miterlimit:10;\" d=\"M 188.292969 280 C 199.835938 272.144531 203.449219 261.578125 199.140625 248.300781 \"/>\n<path style=\"fill:none;stroke-width:1;stroke-linecap:butt;stroke-linejoin:miter;stroke:rgb(26.666667%,26.666667%,26.666667%);stroke-opacity:1;stroke-miterlimit:10;\" d=\"M 188.292969 280 C 205.054688 278.25 214.941406 269.085938 217.953125 252.507813 \"/>\n<path style=\"fill:none;stroke-width:1;stroke-linecap:butt;stroke-linejoin:miter;stroke:rgb(26.666667%,26.666667%,26.666667%);stroke-opacity:1;stroke-miterlimit:10;\" d=\"M 168.609375 257.738281 C 187.277344 253.953125 201.042969 260.492188 209.90625 277.359375 \"/>\n<path style=\"fill:none;stroke-width:1;stroke-linecap:butt;stroke-linejoin:miter;stroke:rgb(26.666667%,26.666667%,26.666667%);stroke-opacity:1;stroke-miterlimit:10;\" d=\"M 188.292969 280 C 194.835938 273.714844 202.042969 272.835938 209.90625 277.359375 \"/>\n<path style=\"fill:none;stroke-width:1;stroke-linecap:butt;stroke-linejoin:miter;stroke:rgb(26.666667%,26.666667%,26.666667%);stroke-opacity:1;stroke-miterlimit:10;\" d=\"M 209.90625 277.359375 C 213.582031 264.980469 209.992188 255.296875 199.140625 248.300781 \"/>\n<path style=\"fill:none;stroke-width:1;stroke-linecap:butt;stroke-linejoin:miter;stroke:rgb(26.666667%,26.666667%,26.666667%);stroke-opacity:1;stroke-miterlimit:10;\" d=\"M 209.90625 277.359375 C 229.984375 281.769531 244.949219 274.957031 254.808594 256.917969 \"/>\n<path style=\"fill:none;stroke-width:1;stroke-linecap:butt;stroke-linejoin:miter;stroke:rgb(26.666667%,26.666667%,26.666667%);stroke-opacity:1;stroke-miterlimit:10;\" d=\"M 155.492188 97.613281 C 149.769531 113.785156 153.867188 126.882813 167.789063 136.90625 \"/>\n<path style=\"fill:none;stroke-width:1;stroke-linecap:butt;stroke-linejoin:miter;stroke:rgb(26.666667%,26.666667%,26.666667%);stroke-opacity:1;stroke-miterlimit:10;\" d=\"M 155.492188 97.613281 C 146.769531 80.535156 132.988281 73.792969 114.152344 77.386719 \"/>\n<path style=\"fill:none;stroke-width:1;stroke-linecap:butt;stroke-linejoin:miter;stroke:rgb(26.666667%,26.666667%,26.666667%);stroke-opacity:1;stroke-miterlimit:10;\" d=\"M 120.265625 173.742188 C 130.945313 157.355469 129.914063 141.738281 117.171875 126.898438 \"/>\n<path style=\"fill:none;stroke-width:1;stroke-linecap:butt;stroke-linejoin:miter;stroke:rgb(26.666667%,26.666667%,26.666667%);stroke-opacity:1;stroke-miterlimit:10;\" d=\"M 120.265625 173.742188 C 97.214844 170.984375 81.136719 180.28125 72.035156 201.636719 \"/>\n<path style=\"fill:none;stroke-width:1;stroke-linecap:butt;stroke-linejoin:miter;stroke:rgb(26.666667%,26.666667%,26.666667%);stroke-opacity:1;stroke-miterlimit:10;\" d=\"M 120.265625 173.742188 C 128.785156 189.136719 141.625 194.902344 158.792969 191.035156 \"/>\n<path style=\"fill:none;stroke-width:1;stroke-linecap:butt;stroke-linejoin:miter;stroke:rgb(26.666667%,26.666667%,26.666667%);stroke-opacity:1;stroke-miterlimit:10;\" d=\"M 227.554688 185.773438 C 224.074219 202.335938 213.898438 211.265625 197.023438 212.5625 \"/>\n<path style=\"fill:none;stroke-width:1;stroke-linecap:butt;stroke-linejoin:miter;stroke:rgb(26.666667%,26.666667%,26.666667%);stroke-opacity:1;stroke-miterlimit:10;\" d=\"M 223.746094 228.476563 C 210.859375 229.851563 201.953125 224.546875 197.023438 212.5625 \"/>\n<path style=\"fill:none;stroke-width:1;stroke-linecap:butt;stroke-linejoin:miter;stroke:rgb(26.666667%,26.666667%,26.666667%);stroke-opacity:1;stroke-miterlimit:10;\" d=\"M 197.023438 212.5625 C 188.796875 225.003906 189.5 236.917969 199.140625 248.300781 \"/>\n<path style=\"fill:none;stroke-width:1;stroke-linecap:butt;stroke-linejoin:miter;stroke:rgb(26.666667%,26.666667%,26.666667%);stroke-opacity:1;stroke-miterlimit:10;\" d=\"M 197.023438 212.5625 C 189.664063 195.828125 176.917969 188.652344 158.792969 191.035156 \"/>\n<path style=\"fill:none;stroke-width:1;stroke-linecap:butt;stroke-linejoin:miter;stroke:rgb(26.666667%,26.666667%,26.666667%);stroke-opacity:1;stroke-miterlimit:10;\" d=\"M 197.023438 212.5625 C 206.554688 224.148438 218.214844 226.988281 232.003906 221.082031 \"/>\n<path style=\"fill:none;stroke-width:1;stroke-linecap:butt;stroke-linejoin:miter;stroke:rgb(26.666667%,26.666667%,26.666667%);stroke-opacity:1;stroke-miterlimit:10;\" d=\"M 223.746094 228.476563 C 220.5 241.234375 212.300781 247.84375 199.140625 248.300781 \"/>\n<path style=\"fill:none;stroke-width:1;stroke-linecap:butt;stroke-linejoin:miter;stroke:rgb(26.666667%,26.666667%,26.666667%);stroke-opacity:1;stroke-miterlimit:10;\" d=\"M 168.609375 257.738281 C 176.425781 246.960938 186.605469 243.8125 199.140625 248.300781 \"/>\n<path style=\"fill:none;stroke-width:1;stroke-linecap:butt;stroke-linejoin:miter;stroke:rgb(26.666667%,26.666667%,26.666667%);stroke-opacity:1;stroke-miterlimit:10;\" d=\"M 188.292969 280 C 183.984375 266.722656 187.601563 256.15625 199.140625 248.300781 \"/>\n<path style=\"fill:none;stroke-width:1;stroke-linecap:butt;stroke-linejoin:miter;stroke:rgb(26.666667%,26.666667%,26.666667%);stroke-opacity:1;stroke-miterlimit:10;\" d=\"M 209.90625 277.359375 C 199.054688 270.363281 195.464844 260.679688 199.140625 248.300781 \"/>\n<path style=\"fill:none;stroke-width:1;stroke-linecap:butt;stroke-linejoin:miter;stroke:rgb(26.666667%,26.666667%,26.666667%);stroke-opacity:1;stroke-miterlimit:10;\" d=\"M 197.023438 212.5625 C 206.664063 223.945313 207.371094 235.859375 199.140625 248.300781 \"/>\n<path style=\"fill:none;stroke-width:1;stroke-linecap:butt;stroke-linejoin:miter;stroke:rgb(26.666667%,26.666667%,26.666667%);stroke-opacity:1;stroke-miterlimit:10;\" d=\"M 199.140625 248.300781 C 216.898438 247.445313 227.855469 238.371094 232.003906 221.082031 \"/>\n<path style=\"fill:none;stroke-width:1;stroke-linecap:butt;stroke-linejoin:miter;stroke:rgb(26.666667%,26.666667%,26.666667%);stroke-opacity:1;stroke-miterlimit:10;\" d=\"M 120.265625 173.742188 C 107.523438 158.898438 106.492188 143.285156 117.171875 126.898438 \"/>\n<path style=\"fill:none;stroke-width:1;stroke-linecap:butt;stroke-linejoin:miter;stroke:rgb(26.666667%,26.666667%,26.666667%);stroke-opacity:1;stroke-miterlimit:10;\" d=\"M 117.171875 126.898438 C 113.359375 110.828125 103.203125 102.371094 86.707031 101.535156 \"/>\n<path style=\"fill:none;stroke-width:1;stroke-linecap:butt;stroke-linejoin:miter;stroke:rgb(26.666667%,26.666667%,26.666667%);stroke-opacity:1;stroke-miterlimit:10;\" d=\"M 155.492188 97.613281 C 169.414063 107.636719 173.511719 120.734375 167.789063 136.90625 \"/>\n<path style=\"fill:none;stroke-width:1;stroke-linecap:butt;stroke-linejoin:miter;stroke:rgb(26.666667%,26.666667%,26.666667%);stroke-opacity:1;stroke-miterlimit:10;\" d=\"M 167.789063 136.90625 C 178.632813 152.964844 193.28125 158.035156 211.734375 152.121094 \"/>\n<path style=\"fill:none;stroke-width:1;stroke-linecap:butt;stroke-linejoin:miter;stroke:rgb(26.666667%,26.666667%,26.666667%);stroke-opacity:1;stroke-miterlimit:10;\" d=\"M 167.789063 136.90625 C 147.085938 134.597656 132.730469 143.054688 124.71875 162.28125 \"/>\n<path style=\"fill:none;stroke-width:1;stroke-linecap:butt;stroke-linejoin:miter;stroke:rgb(26.666667%,26.666667%,26.666667%);stroke-opacity:1;stroke-miterlimit:10;\" d=\"M 167.789063 136.90625 C 165.734375 148.441406 169.957031 156.808594 180.453125 162.007813 \"/>\n<path style=\"fill:none;stroke-width:1;stroke-linecap:butt;stroke-linejoin:miter;stroke:rgb(26.666667%,26.666667%,26.666667%);stroke-opacity:1;stroke-miterlimit:10;\" d=\"M 227.554688 185.773438 C 213.867188 178.511719 208.59375 167.292969 211.734375 152.121094 \"/>\n<path style=\"fill:none;stroke-width:1;stroke-linecap:butt;stroke-linejoin:miter;stroke:rgb(26.666667%,26.666667%,26.666667%);stroke-opacity:1;stroke-miterlimit:10;\" d=\"M 167.789063 136.90625 C 186.242188 130.992188 200.890625 136.0625 211.734375 152.121094 \"/>\n<path style=\"fill:none;stroke-width:1;stroke-linecap:butt;stroke-linejoin:miter;stroke:rgb(26.666667%,26.666667%,26.666667%);stroke-opacity:1;stroke-miterlimit:10;\" d=\"M 211.734375 152.121094 C 226.03125 155.738281 236.914063 151.191406 244.390625 138.476563 \"/>\n<path style=\"fill:none;stroke-width:1;stroke-linecap:butt;stroke-linejoin:miter;stroke:rgb(26.666667%,26.666667%,26.666667%);stroke-opacity:1;stroke-miterlimit:10;\" d=\"M 211.734375 152.121094 C 223.90625 164.324219 237.550781 166.289063 252.671875 158.023438 \"/>\n<path style=\"fill:none;stroke-width:1;stroke-linecap:butt;stroke-linejoin:miter;stroke:rgb(26.666667%,26.666667%,26.666667%);stroke-opacity:1;stroke-miterlimit:10;\" d=\"M 211.734375 152.121094 C 198.835938 147.597656 188.410156 150.890625 180.453125 162.007813 \"/>\n<path style=\"fill:none;stroke-width:1;stroke-linecap:butt;stroke-linejoin:miter;stroke:rgb(26.666667%,26.666667%,26.666667%);stroke-opacity:1;stroke-miterlimit:10;\" d=\"M 211.734375 152.121094 C 216.136719 169.011719 227.0625 177.707031 244.511719 178.210938 \"/>\n<path style=\"fill:none;stroke-width:1;stroke-linecap:butt;stroke-linejoin:miter;stroke:rgb(26.666667%,26.666667%,26.666667%);stroke-opacity:1;stroke-miterlimit:10;\" d=\"M 211.734375 152.121094 C 219.210938 139.410156 230.09375 134.863281 244.390625 138.476563 \"/>\n<path style=\"fill:none;stroke-width:1;stroke-linecap:butt;stroke-linejoin:miter;stroke:rgb(26.666667%,26.666667%,26.666667%);stroke-opacity:1;stroke-miterlimit:10;\" d=\"M 244.390625 138.476563 C 242.265625 147.0625 245.023438 153.578125 252.671875 158.023438 \"/>\n<path style=\"fill:none;stroke-width:1;stroke-linecap:butt;stroke-linejoin:miter;stroke:rgb(26.666667%,26.666667%,26.666667%);stroke-opacity:1;stroke-miterlimit:10;\" d=\"M 244.390625 138.476563 C 234.496094 151.753906 234.539063 164.996094 244.511719 178.210938 \"/>\n<path style=\"fill:none;stroke-width:1;stroke-linecap:butt;stroke-linejoin:miter;stroke:rgb(26.666667%,26.666667%,26.666667%);stroke-opacity:1;stroke-miterlimit:10;\" d=\"M 227.554688 185.773438 C 228.988281 170.246094 237.359375 160.996094 252.671875 158.023438 \"/>\n<path style=\"fill:none;stroke-width:1;stroke-linecap:butt;stroke-linejoin:miter;stroke:rgb(26.666667%,26.666667%,26.666667%);stroke-opacity:1;stroke-miterlimit:10;\" d=\"M 211.734375 152.121094 C 226.855469 143.855469 240.5 145.820313 252.671875 158.023438 \"/>\n<path style=\"fill:none;stroke-width:1;stroke-linecap:butt;stroke-linejoin:miter;stroke:rgb(26.666667%,26.666667%,26.666667%);stroke-opacity:1;stroke-miterlimit:10;\" d=\"M 244.390625 138.476563 C 252.035156 142.921875 254.796875 149.4375 252.671875 158.023438 \"/>\n<path style=\"fill:none;stroke-width:1;stroke-linecap:butt;stroke-linejoin:miter;stroke:rgb(26.666667%,26.666667%,26.666667%);stroke-opacity:1;stroke-miterlimit:10;\" d=\"M 252.671875 158.023438 C 253.570313 175.800781 262.679688 186.75 280 190.863281 \"/>\n<path style=\"fill:none;stroke-width:1;stroke-linecap:butt;stroke-linejoin:miter;stroke:rgb(26.666667%,26.666667%,26.666667%);stroke-opacity:1;stroke-miterlimit:10;\" d=\"M 97.308594 35.898438 C 81.90625 45.015625 76.425781 58.242188 80.863281 75.585938 \"/>\n<path style=\"fill:none;stroke-width:1;stroke-linecap:butt;stroke-linejoin:miter;stroke:rgb(26.666667%,26.666667%,26.666667%);stroke-opacity:1;stroke-miterlimit:10;\" d=\"M 97.308594 35.898438 C 86.960938 37.742188 81.222656 43.890625 80.097656 54.34375 \"/>\n<path style=\"fill:none;stroke-width:1;stroke-linecap:butt;stroke-linejoin:miter;stroke:rgb(26.666667%,26.666667%,26.666667%);stroke-opacity:1;stroke-miterlimit:10;\" d=\"M 57.777344 178.160156 C 63.875 197.382813 77.003906 206.753906 97.160156 206.28125 \"/>\n<path style=\"fill:none;stroke-width:1;stroke-linecap:butt;stroke-linejoin:miter;stroke:rgb(26.666667%,26.666667%,26.666667%);stroke-opacity:1;stroke-miterlimit:10;\" d=\"M 57.777344 178.160156 C 62.046875 157.386719 54.808594 142.039063 36.058594 132.125 \"/>\n<path style=\"fill:none;stroke-width:1;stroke-linecap:butt;stroke-linejoin:miter;stroke:rgb(26.666667%,26.666667%,26.666667%);stroke-opacity:1;stroke-miterlimit:10;\" d=\"M 57.777344 178.160156 C 62.839844 170.804688 62.546875 163.667969 56.902344 156.75 \"/>\n<path style=\"fill:none;stroke-width:1;stroke-linecap:butt;stroke-linejoin:miter;stroke:rgb(26.666667%,26.666667%,26.666667%);stroke-opacity:1;stroke-miterlimit:10;\" d=\"M 57.777344 178.160156 C 73.570313 175.953125 82.613281 166.957031 84.914063 151.179688 \"/>\n<path style=\"fill:none;stroke-width:1;stroke-linecap:butt;stroke-linejoin:miter;stroke:rgb(26.666667%,26.666667%,26.666667%);stroke-opacity:1;stroke-miterlimit:10;\" d=\"M 57.777344 178.160156 C 49.484375 171.449219 40.953125 171.136719 32.1875 177.21875 \"/>\n<path style=\"fill:none;stroke-width:1;stroke-linecap:butt;stroke-linejoin:miter;stroke:rgb(26.666667%,26.666667%,26.666667%);stroke-opacity:1;stroke-miterlimit:10;\" d=\"M 122.382813 244.027344 C 104.539063 237.753906 96.132813 225.171875 97.160156 206.28125 \"/>\n<path style=\"fill:none;stroke-width:1;stroke-linecap:butt;stroke-linejoin:miter;stroke:rgb(26.666667%,26.666667%,26.666667%);stroke-opacity:1;stroke-miterlimit:10;\" d=\"M 57.777344 178.160156 C 77.933594 177.691406 91.0625 187.0625 97.160156 206.28125 \"/>\n<path style=\"fill:none;stroke-width:1;stroke-linecap:butt;stroke-linejoin:miter;stroke:rgb(26.666667%,26.666667%,26.666667%);stroke-opacity:1;stroke-miterlimit:10;\" d=\"M 97.160156 206.28125 C 101.929688 197.992188 101.003906 190.402344 94.382813 183.503906 \"/>\n<path style=\"fill:none;stroke-width:1;stroke-linecap:butt;stroke-linejoin:miter;stroke:rgb(26.666667%,26.666667%,26.666667%);stroke-opacity:1;stroke-miterlimit:10;\" d=\"M 97.160156 206.28125 C 117.347656 198.503906 126.53125 183.835938 124.71875 162.28125 \"/>\n<path style=\"fill:none;stroke-width:1;stroke-linecap:butt;stroke-linejoin:miter;stroke:rgb(26.666667%,26.666667%,26.666667%);stroke-opacity:1;stroke-miterlimit:10;\" d=\"M 97.160156 206.28125 C 89.945313 198.453125 81.570313 196.902344 72.035156 201.636719 \"/>\n<path style=\"fill:none;stroke-width:1;stroke-linecap:butt;stroke-linejoin:miter;stroke:rgb(26.666667%,26.666667%,26.666667%);stroke-opacity:1;stroke-miterlimit:10;\" d=\"M 122.382813 244.027344 C 129.125 233.128906 138.667969 229.390625 151.019531 232.808594 \"/>\n<path style=\"fill:none;stroke-width:1;stroke-linecap:butt;stroke-linejoin:miter;stroke:rgb(26.666667%,26.666667%,26.666667%);stroke-opacity:1;stroke-miterlimit:10;\" d=\"M 168.609375 257.738281 C 156.511719 253.824219 150.648438 245.515625 151.019531 232.808594 \"/>\n<path style=\"fill:none;stroke-width:1;stroke-linecap:butt;stroke-linejoin:miter;stroke:rgb(26.666667%,26.666667%,26.666667%);stroke-opacity:1;stroke-miterlimit:10;\" d=\"M 151.019531 232.808594 C 164.859375 227.132813 170.992188 216.855469 169.417969 201.980469 \"/>\n<path style=\"fill:none;stroke-width:1;stroke-linecap:butt;stroke-linejoin:miter;stroke:rgb(26.666667%,26.666667%,26.666667%);stroke-opacity:1;stroke-miterlimit:10;\" d=\"M 151.019531 232.808594 C 164.054688 220.828125 166.644531 206.902344 158.792969 191.035156 \"/>\n<path style=\"fill:none;stroke-width:1;stroke-linecap:butt;stroke-linejoin:miter;stroke:rgb(26.666667%,26.666667%,26.666667%);stroke-opacity:1;stroke-miterlimit:10;\" d=\"M 168.609375 257.738281 C 183.75 243.65625 200.195313 241.914063 217.953125 252.507813 \"/>\n<path style=\"fill:none;stroke-width:1;stroke-linecap:butt;stroke-linejoin:miter;stroke:rgb(26.666667%,26.666667%,26.666667%);stroke-opacity:1;stroke-miterlimit:10;\" d=\"M 188.292969 280 C 191.308594 263.421875 201.191406 254.257813 217.953125 252.507813 \"/>\n<path style=\"fill:none;stroke-width:1;stroke-linecap:butt;stroke-linejoin:miter;stroke:rgb(26.666667%,26.666667%,26.666667%);stroke-opacity:1;stroke-miterlimit:10;\" d=\"M 217.953125 252.507813 C 237.90625 248.417969 248.714844 236.222656 250.378906 215.921875 \"/>\n<path style=\"fill:none;stroke-width:1;stroke-linecap:butt;stroke-linejoin:miter;stroke:rgb(26.666667%,26.666667%,26.666667%);stroke-opacity:1;stroke-miterlimit:10;\" d=\"M 217.953125 252.507813 C 230.492188 245.542969 235.175781 235.070313 232.003906 221.082031 \"/>\n<path style=\"fill:none;stroke-width:1;stroke-linecap:butt;stroke-linejoin:miter;stroke:rgb(26.666667%,26.666667%,26.666667%);stroke-opacity:1;stroke-miterlimit:10;\" d=\"M 57.777344 178.160156 C 39.027344 168.246094 31.789063 152.898438 36.058594 132.125 \"/>\n<path style=\"fill:none;stroke-width:1;stroke-linecap:butt;stroke-linejoin:miter;stroke:rgb(26.666667%,26.666667%,26.666667%);stroke-opacity:1;stroke-miterlimit:10;\" d=\"M 36.058594 132.125 C 44.398438 126.296875 46.941406 118.566406 43.683594 108.929688 \"/>\n<path style=\"fill:none;stroke-width:1;stroke-linecap:butt;stroke-linejoin:miter;stroke:rgb(26.666667%,26.666667%,26.666667%);stroke-opacity:1;stroke-miterlimit:10;\" d=\"M 36.058594 132.125 C 52.429688 118.941406 56.574219 102.648438 48.503906 83.242188 \"/>\n<path style=\"fill:none;stroke-width:1;stroke-linecap:butt;stroke-linejoin:miter;stroke:rgb(26.666667%,26.666667%,26.666667%);stroke-opacity:1;stroke-miterlimit:10;\" d=\"M 36.058594 132.125 C 29.988281 129.066406 24.632813 130.027344 20 135 \"/>\n<path style=\"fill:none;stroke-width:1;stroke-linecap:butt;stroke-linejoin:miter;stroke:rgb(26.666667%,26.666667%,26.666667%);stroke-opacity:1;stroke-miterlimit:10;\" d=\"M 97.308594 35.898438 C 101.75 53.238281 96.269531 66.464844 80.863281 75.585938 \"/>\n<path style=\"fill:none;stroke-width:1;stroke-linecap:butt;stroke-linejoin:miter;stroke:rgb(26.666667%,26.666667%,26.666667%);stroke-opacity:1;stroke-miterlimit:10;\" d=\"M 80.863281 75.585938 C 60.132813 77.40625 47.738281 88.519531 43.683594 108.929688 \"/>\n<path style=\"fill:none;stroke-width:1;stroke-linecap:butt;stroke-linejoin:miter;stroke:rgb(26.666667%,26.666667%,26.666667%);stroke-opacity:1;stroke-miterlimit:10;\" d=\"M 80.863281 75.585938 C 68.164063 70.046875 57.375 72.601563 48.503906 83.242188 \"/>\n<path style=\"fill:none;stroke-width:1;stroke-linecap:butt;stroke-linejoin:miter;stroke:rgb(26.666667%,26.666667%,26.666667%);stroke-opacity:1;stroke-miterlimit:10;\" d=\"M 80.863281 75.585938 C 85.917969 68.3125 85.664063 61.230469 80.097656 54.34375 \"/>\n<path style=\"fill:none;stroke-width:1;stroke-linecap:butt;stroke-linejoin:miter;stroke:rgb(26.666667%,26.666667%,26.666667%);stroke-opacity:1;stroke-miterlimit:10;\" d=\"M 80.863281 75.585938 C 91.507813 84.507813 102.605469 85.109375 114.152344 77.386719 \"/>\n<path style=\"fill:none;stroke-width:1;stroke-linecap:butt;stroke-linejoin:miter;stroke:rgb(26.666667%,26.666667%,26.666667%);stroke-opacity:1;stroke-miterlimit:10;\" d=\"M 80.863281 75.585938 C 76.324219 85.695313 78.273438 94.34375 86.707031 101.535156 \"/>\n<path style=\"fill:none;stroke-width:1;stroke-linecap:butt;stroke-linejoin:miter;stroke:rgb(26.666667%,26.666667%,26.666667%);stroke-opacity:1;stroke-miterlimit:10;\" d=\"M 209.90625 277.359375 C 219.765625 259.320313 234.730469 252.507813 254.808594 256.917969 \"/>\n<path style=\"fill:none;stroke-width:1;stroke-linecap:butt;stroke-linejoin:miter;stroke:rgb(26.666667%,26.666667%,26.666667%);stroke-opacity:1;stroke-miterlimit:10;\" d=\"M 254.808594 256.917969 C 263.582031 242.148438 262.105469 228.480469 250.378906 215.921875 \"/>\n<path style=\"fill:none;stroke-width:1;stroke-linecap:butt;stroke-linejoin:miter;stroke:rgb(26.666667%,26.666667%,26.666667%);stroke-opacity:1;stroke-miterlimit:10;\" d=\"M 36.058594 132.125 C 32.804688 122.488281 35.34375 114.757813 43.683594 108.929688 \"/>\n<path style=\"fill:none;stroke-width:1;stroke-linecap:butt;stroke-linejoin:miter;stroke:rgb(26.666667%,26.666667%,26.666667%);stroke-opacity:1;stroke-miterlimit:10;\" d=\"M 80.863281 75.585938 C 76.808594 95.996094 64.414063 107.109375 43.683594 108.929688 \"/>\n<path style=\"fill:none;stroke-width:1;stroke-linecap:butt;stroke-linejoin:miter;stroke:rgb(26.666667%,26.666667%,26.666667%);stroke-opacity:1;stroke-miterlimit:10;\" d=\"M 43.683594 108.929688 C 36.132813 128.175781 40.542969 144.117188 56.902344 156.75 \"/>\n<path style=\"fill:none;stroke-width:1;stroke-linecap:butt;stroke-linejoin:miter;stroke:rgb(26.666667%,26.666667%,26.666667%);stroke-opacity:1;stroke-miterlimit:10;\" d=\"M 43.683594 108.929688 C 44.0625 118.429688 48.863281 124.324219 58.089844 126.621094 \"/>\n<path style=\"fill:none;stroke-width:1;stroke-linecap:butt;stroke-linejoin:miter;stroke:rgb(26.666667%,26.666667%,26.666667%);stroke-opacity:1;stroke-miterlimit:10;\" d=\"M 36.058594 132.125 C 27.988281 112.71875 32.136719 96.425781 48.503906 83.242188 \"/>\n<path style=\"fill:none;stroke-width:1;stroke-linecap:butt;stroke-linejoin:miter;stroke:rgb(26.666667%,26.666667%,26.666667%);stroke-opacity:1;stroke-miterlimit:10;\" d=\"M 80.863281 75.585938 C 71.992188 86.226563 61.207031 88.78125 48.503906 83.242188 \"/>\n<path style=\"fill:none;stroke-width:1;stroke-linecap:butt;stroke-linejoin:miter;stroke:rgb(26.666667%,26.666667%,26.666667%);stroke-opacity:1;stroke-miterlimit:10;\" d=\"M 48.503906 83.242188 C 66.257813 81.507813 76.789063 71.875 80.097656 54.34375 \"/>\n<path style=\"fill:none;stroke-width:1;stroke-linecap:butt;stroke-linejoin:miter;stroke:rgb(26.666667%,26.666667%,26.666667%);stroke-opacity:1;stroke-miterlimit:10;\" d=\"M 48.503906 83.242188 C 49.871094 91.265625 54.601563 95.746094 62.6875 96.679688 \"/>\n<path style=\"fill:none;stroke-width:1;stroke-linecap:butt;stroke-linejoin:miter;stroke:rgb(26.666667%,26.666667%,26.666667%);stroke-opacity:1;stroke-miterlimit:10;\" d=\"M 48.503906 83.242188 C 56.664063 98.890625 69.398438 104.988281 86.707031 101.535156 \"/>\n<path style=\"fill:none;stroke-width:1;stroke-linecap:butt;stroke-linejoin:miter;stroke:rgb(26.666667%,26.666667%,26.666667%);stroke-opacity:1;stroke-miterlimit:10;\" d=\"M 212.425781 200.40625 C 228.957031 196.089844 241.609375 201.261719 250.378906 215.921875 \"/>\n<path style=\"fill:none;stroke-width:1;stroke-linecap:butt;stroke-linejoin:miter;stroke:rgb(26.666667%,26.666667%,26.666667%);stroke-opacity:1;stroke-miterlimit:10;\" d=\"M 227.554688 185.773438 C 242.699219 190.117188 250.308594 200.167969 250.378906 215.921875 \"/>\n<path style=\"fill:none;stroke-width:1;stroke-linecap:butt;stroke-linejoin:miter;stroke:rgb(26.666667%,26.666667%,26.666667%);stroke-opacity:1;stroke-miterlimit:10;\" d=\"M 217.953125 252.507813 C 219.617188 232.203125 230.425781 220.011719 250.378906 215.921875 \"/>\n<path style=\"fill:none;stroke-width:1;stroke-linecap:butt;stroke-linejoin:miter;stroke:rgb(26.666667%,26.666667%,26.666667%);stroke-opacity:1;stroke-miterlimit:10;\" d=\"M 254.808594 256.917969 C 243.085938 244.359375 241.609375 230.695313 250.378906 215.921875 \"/>\n<path style=\"fill:none;stroke-width:1;stroke-linecap:butt;stroke-linejoin:miter;stroke:rgb(26.666667%,26.666667%,26.666667%);stroke-opacity:1;stroke-miterlimit:10;\" d=\"M 250.378906 215.921875 C 257.851563 201.886719 255.894531 189.316406 244.511719 178.210938 \"/>\n<path style=\"fill:none;stroke-width:1;stroke-linecap:butt;stroke-linejoin:miter;stroke:rgb(26.666667%,26.666667%,26.666667%);stroke-opacity:1;stroke-miterlimit:10;\" d=\"M 250.378906 215.921875 C 266.519531 214.972656 276.390625 206.621094 280 190.863281 \"/>\n<path style=\"fill:none;stroke-width:1;stroke-linecap:butt;stroke-linejoin:miter;stroke:rgb(26.666667%,26.666667%,26.666667%);stroke-opacity:1;stroke-miterlimit:10;\" d=\"M 250.378906 215.921875 C 242.964844 213.046875 236.839844 214.769531 232.003906 221.082031 \"/>\n<path style=\"fill:none;stroke-width:1;stroke-linecap:butt;stroke-linejoin:miter;stroke:rgb(26.666667%,26.666667%,26.666667%);stroke-opacity:1;stroke-miterlimit:10;\" d=\"M 124.550781 209.367188 C 137.660156 195.6875 152.613281 193.222656 169.417969 201.980469 \"/>\n<path style=\"fill:none;stroke-width:1;stroke-linecap:butt;stroke-linejoin:miter;stroke:rgb(26.666667%,26.666667%,26.666667%);stroke-opacity:1;stroke-miterlimit:10;\" d=\"M 212.425781 200.40625 C 198.484375 211.683594 184.144531 212.207031 169.417969 201.980469 \"/>\n<path style=\"fill:none;stroke-width:1;stroke-linecap:butt;stroke-linejoin:miter;stroke:rgb(26.666667%,26.666667%,26.666667%);stroke-opacity:1;stroke-miterlimit:10;\" d=\"M 151.019531 232.808594 C 149.445313 217.933594 155.578125 207.65625 169.417969 201.980469 \"/>\n<path style=\"fill:none;stroke-width:1;stroke-linecap:butt;stroke-linejoin:miter;stroke:rgb(26.666667%,26.666667%,26.666667%);stroke-opacity:1;stroke-miterlimit:10;\" d=\"M 169.417969 201.980469 C 183.089844 191.414063 186.765625 178.089844 180.453125 162.007813 \"/>\n<path style=\"fill:none;stroke-width:1;stroke-linecap:butt;stroke-linejoin:miter;stroke:rgb(26.666667%,26.666667%,26.666667%);stroke-opacity:1;stroke-miterlimit:10;\" d=\"M 169.417969 201.980469 C 168.613281 195.675781 165.070313 192.027344 158.792969 191.035156 \"/>\n<path style=\"fill:none;stroke-width:1;stroke-linecap:butt;stroke-linejoin:miter;stroke:rgb(26.666667%,26.666667%,26.666667%);stroke-opacity:1;stroke-miterlimit:10;\" d=\"M 124.550781 209.367188 C 108.027344 208.285156 97.972656 199.664063 94.382813 183.503906 \"/>\n<path style=\"fill:none;stroke-width:1;stroke-linecap:butt;stroke-linejoin:miter;stroke:rgb(26.666667%,26.666667%,26.666667%);stroke-opacity:1;stroke-miterlimit:10;\" d=\"M 97.160156 206.28125 C 90.539063 199.382813 89.613281 191.789063 94.382813 183.503906 \"/>\n<path style=\"fill:none;stroke-width:1;stroke-linecap:butt;stroke-linejoin:miter;stroke:rgb(26.666667%,26.666667%,26.666667%);stroke-opacity:1;stroke-miterlimit:10;\" d=\"M 94.382813 183.503906 C 88.578125 165.214844 76.082031 156.296875 56.902344 156.75 \"/>\n<path style=\"fill:none;stroke-width:1;stroke-linecap:butt;stroke-linejoin:miter;stroke:rgb(26.666667%,26.666667%,26.666667%);stroke-opacity:1;stroke-miterlimit:10;\" d=\"M 94.382813 183.503906 C 109.796875 184.011719 119.910156 176.9375 124.71875 162.28125 \"/>\n<path style=\"fill:none;stroke-width:1;stroke-linecap:butt;stroke-linejoin:miter;stroke:rgb(26.666667%,26.666667%,26.666667%);stroke-opacity:1;stroke-miterlimit:10;\" d=\"M 94.382813 183.503906 C 82.398438 183.960938 74.949219 190.003906 72.035156 201.636719 \"/>\n<path style=\"fill:none;stroke-width:1;stroke-linecap:butt;stroke-linejoin:miter;stroke:rgb(26.666667%,26.666667%,26.666667%);stroke-opacity:1;stroke-miterlimit:10;\" d=\"M 57.777344 178.160156 C 52.132813 171.242188 51.839844 164.105469 56.902344 156.75 \"/>\n<path style=\"fill:none;stroke-width:1;stroke-linecap:butt;stroke-linejoin:miter;stroke:rgb(26.666667%,26.666667%,26.666667%);stroke-opacity:1;stroke-miterlimit:10;\" d=\"M 43.683594 108.929688 C 60.042969 121.566406 64.449219 137.503906 56.902344 156.75 \"/>\n<path style=\"fill:none;stroke-width:1;stroke-linecap:butt;stroke-linejoin:miter;stroke:rgb(26.666667%,26.666667%,26.666667%);stroke-opacity:1;stroke-miterlimit:10;\" d=\"M 94.382813 183.503906 C 75.199219 183.953125 62.707031 175.039063 56.902344 156.75 \"/>\n<path style=\"fill:none;stroke-width:1;stroke-linecap:butt;stroke-linejoin:miter;stroke:rgb(26.666667%,26.666667%,26.666667%);stroke-opacity:1;stroke-miterlimit:10;\" d=\"M 56.902344 156.75 C 67.632813 161.898438 76.96875 160.039063 84.914063 151.179688 \"/>\n<path style=\"fill:none;stroke-width:1;stroke-linecap:butt;stroke-linejoin:miter;stroke:rgb(26.666667%,26.666667%,26.666667%);stroke-opacity:1;stroke-miterlimit:10;\" d=\"M 56.902344 156.75 C 43.546875 157.394531 35.308594 164.21875 32.1875 177.21875 \"/>\n<path style=\"fill:none;stroke-width:1;stroke-linecap:butt;stroke-linejoin:miter;stroke:rgb(26.666667%,26.666667%,26.666667%);stroke-opacity:1;stroke-miterlimit:10;\" d=\"M 65.050781 20 C 78.652344 27.6875 83.667969 39.132813 80.097656 54.34375 \"/>\n<path style=\"fill:none;stroke-width:1;stroke-linecap:butt;stroke-linejoin:miter;stroke:rgb(26.666667%,26.666667%,26.666667%);stroke-opacity:1;stroke-miterlimit:10;\" d=\"M 97.308594 35.898438 C 96.183594 46.347656 90.445313 52.5 80.097656 54.34375 \"/>\n<path style=\"fill:none;stroke-width:1;stroke-linecap:butt;stroke-linejoin:miter;stroke:rgb(26.666667%,26.666667%,26.666667%);stroke-opacity:1;stroke-miterlimit:10;\" d=\"M 80.863281 75.585938 C 75.300781 68.695313 75.042969 61.617188 80.097656 54.34375 \"/>\n<path style=\"fill:none;stroke-width:1;stroke-linecap:butt;stroke-linejoin:miter;stroke:rgb(26.666667%,26.666667%,26.666667%);stroke-opacity:1;stroke-miterlimit:10;\" d=\"M 48.503906 83.242188 C 51.808594 65.710938 62.339844 56.078125 80.097656 54.34375 \"/>\n<path style=\"fill:none;stroke-width:1;stroke-linecap:butt;stroke-linejoin:miter;stroke:rgb(26.666667%,26.666667%,26.666667%);stroke-opacity:1;stroke-miterlimit:10;\" d=\"M 80.097656 54.34375 C 85.6875 70.539063 97.039063 78.21875 114.152344 77.386719 \"/>\n<path style=\"fill:none;stroke-width:1;stroke-linecap:butt;stroke-linejoin:miter;stroke:rgb(26.666667%,26.666667%,26.666667%);stroke-opacity:1;stroke-miterlimit:10;\" d=\"M 155.492188 97.613281 C 136.65625 101.207031 122.875 94.464844 114.152344 77.386719 \"/>\n<path style=\"fill:none;stroke-width:1;stroke-linecap:butt;stroke-linejoin:miter;stroke:rgb(26.666667%,26.666667%,26.666667%);stroke-opacity:1;stroke-miterlimit:10;\" d=\"M 80.863281 75.585938 C 92.410156 67.863281 103.507813 68.464844 114.152344 77.386719 \"/>\n<path style=\"fill:none;stroke-width:1;stroke-linecap:butt;stroke-linejoin:miter;stroke:rgb(26.666667%,26.666667%,26.666667%);stroke-opacity:1;stroke-miterlimit:10;\" d=\"M 80.097656 54.34375 C 97.210938 53.511719 108.5625 61.191406 114.152344 77.386719 \"/>\n<path style=\"fill:none;stroke-width:1;stroke-linecap:butt;stroke-linejoin:miter;stroke:rgb(26.666667%,26.666667%,26.666667%);stroke-opacity:1;stroke-miterlimit:10;\" d=\"M 114.152344 77.386719 C 92.175781 70.953125 75.019531 77.382813 62.6875 96.679688 \"/>\n<path style=\"fill:none;stroke-width:1;stroke-linecap:butt;stroke-linejoin:miter;stroke:rgb(26.666667%,26.666667%,26.666667%);stroke-opacity:1;stroke-miterlimit:10;\" d=\"M 57.777344 178.160156 C 60.078125 162.382813 69.125 153.390625 84.914063 151.179688 \"/>\n<path style=\"fill:none;stroke-width:1;stroke-linecap:butt;stroke-linejoin:miter;stroke:rgb(26.666667%,26.666667%,26.666667%);stroke-opacity:1;stroke-miterlimit:10;\" d=\"M 56.902344 156.75 C 64.847656 147.890625 74.183594 146.035156 84.914063 151.179688 \"/>\n<path style=\"fill:none;stroke-width:1;stroke-linecap:butt;stroke-linejoin:miter;stroke:rgb(26.666667%,26.666667%,26.666667%);stroke-opacity:1;stroke-miterlimit:10;\" d=\"M 84.914063 151.179688 C 95.40625 164.832031 108.675781 168.53125 124.71875 162.28125 \"/>\n<path style=\"fill:none;stroke-width:1;stroke-linecap:butt;stroke-linejoin:miter;stroke:rgb(26.666667%,26.666667%,26.666667%);stroke-opacity:1;stroke-miterlimit:10;\" d=\"M 84.914063 151.179688 C 82.113281 136.285156 73.171875 128.101563 58.089844 126.621094 \"/>\n<path style=\"fill:none;stroke-width:1;stroke-linecap:butt;stroke-linejoin:miter;stroke:rgb(26.666667%,26.666667%,26.666667%);stroke-opacity:1;stroke-miterlimit:10;\" d=\"M 167.789063 136.90625 C 159.773438 156.132813 145.417969 164.589844 124.71875 162.28125 \"/>\n<path style=\"fill:none;stroke-width:1;stroke-linecap:butt;stroke-linejoin:miter;stroke:rgb(26.666667%,26.666667%,26.666667%);stroke-opacity:1;stroke-miterlimit:10;\" d=\"M 97.160156 206.28125 C 95.34375 184.726563 104.53125 170.058594 124.71875 162.28125 \"/>\n<path style=\"fill:none;stroke-width:1;stroke-linecap:butt;stroke-linejoin:miter;stroke:rgb(26.666667%,26.666667%,26.666667%);stroke-opacity:1;stroke-miterlimit:10;\" d=\"M 94.382813 183.503906 C 99.1875 168.84375 109.300781 161.769531 124.71875 162.28125 \"/>\n<path style=\"fill:none;stroke-width:1;stroke-linecap:butt;stroke-linejoin:miter;stroke:rgb(26.666667%,26.666667%,26.666667%);stroke-opacity:1;stroke-miterlimit:10;\" d=\"M 84.914063 151.179688 C 100.957031 144.929688 114.226563 148.628906 124.71875 162.28125 \"/>\n<path style=\"fill:none;stroke-width:1;stroke-linecap:butt;stroke-linejoin:miter;stroke:rgb(26.666667%,26.666667%,26.666667%);stroke-opacity:1;stroke-miterlimit:10;\" d=\"M 167.789063 136.90625 C 178.285156 142.105469 182.507813 150.472656 180.453125 162.007813 \"/>\n<path style=\"fill:none;stroke-width:1;stroke-linecap:butt;stroke-linejoin:miter;stroke:rgb(26.666667%,26.666667%,26.666667%);stroke-opacity:1;stroke-miterlimit:10;\" d=\"M 211.734375 152.121094 C 203.78125 163.238281 193.351563 166.53125 180.453125 162.007813 \"/>\n<path style=\"fill:none;stroke-width:1;stroke-linecap:butt;stroke-linejoin:miter;stroke:rgb(26.666667%,26.666667%,26.666667%);stroke-opacity:1;stroke-miterlimit:10;\" d=\"M 169.417969 201.980469 C 163.101563 185.894531 166.78125 172.574219 180.453125 162.007813 \"/>\n<path style=\"fill:none;stroke-width:1;stroke-linecap:butt;stroke-linejoin:miter;stroke:rgb(26.666667%,26.666667%,26.666667%);stroke-opacity:1;stroke-miterlimit:10;\" d=\"M 180.453125 162.007813 C 165.976563 166.269531 158.757813 175.945313 158.792969 191.035156 \"/>\n<path style=\"fill:none;stroke-width:1;stroke-linecap:butt;stroke-linejoin:miter;stroke:rgb(26.666667%,26.666667%,26.666667%);stroke-opacity:1;stroke-miterlimit:10;\" d=\"M 211.734375 152.121094 C 229.183594 152.625 240.109375 161.320313 244.511719 178.210938 \"/>\n<path style=\"fill:none;stroke-width:1;stroke-linecap:butt;stroke-linejoin:miter;stroke:rgb(26.666667%,26.666667%,26.666667%);stroke-opacity:1;stroke-miterlimit:10;\" d=\"M 244.390625 138.476563 C 254.363281 151.691406 254.402344 164.9375 244.511719 178.210938 \"/>\n<path style=\"fill:none;stroke-width:1;stroke-linecap:butt;stroke-linejoin:miter;stroke:rgb(26.666667%,26.666667%,26.666667%);stroke-opacity:1;stroke-miterlimit:10;\" d=\"M 250.378906 215.921875 C 238.996094 204.820313 237.039063 192.25 244.511719 178.210938 \"/>\n<path style=\"fill:none;stroke-width:1;stroke-linecap:butt;stroke-linejoin:miter;stroke:rgb(26.666667%,26.666667%,26.666667%);stroke-opacity:1;stroke-miterlimit:10;\" d=\"M 244.511719 178.210938 C 229.625 189.375 225.453125 203.664063 232.003906 221.082031 \"/>\n<path style=\"fill:none;stroke-width:1;stroke-linecap:butt;stroke-linejoin:miter;stroke:rgb(26.666667%,26.666667%,26.666667%);stroke-opacity:1;stroke-miterlimit:10;\" d=\"M 43.683594 108.929688 C 52.90625 111.226563 57.707031 117.121094 58.089844 126.621094 \"/>\n<path style=\"fill:none;stroke-width:1;stroke-linecap:butt;stroke-linejoin:miter;stroke:rgb(26.666667%,26.666667%,26.666667%);stroke-opacity:1;stroke-miterlimit:10;\" d=\"M 84.914063 151.179688 C 69.832031 149.699219 60.890625 141.511719 58.089844 126.621094 \"/>\n<path style=\"fill:none;stroke-width:1;stroke-linecap:butt;stroke-linejoin:miter;stroke:rgb(26.666667%,26.666667%,26.666667%);stroke-opacity:1;stroke-miterlimit:10;\" d=\"M 58.089844 126.621094 C 43.296875 119.890625 30.601563 122.683594 20 135 \"/>\n<path style=\"fill:none;stroke-width:1;stroke-linecap:butt;stroke-linejoin:miter;stroke:rgb(26.666667%,26.666667%,26.666667%);stroke-opacity:1;stroke-miterlimit:10;\" d=\"M 58.089844 126.621094 C 73.898438 125.414063 83.4375 117.050781 86.707031 101.535156 \"/>\n<path style=\"fill:none;stroke-width:1;stroke-linecap:butt;stroke-linejoin:miter;stroke:rgb(26.666667%,26.666667%,26.666667%);stroke-opacity:1;stroke-miterlimit:10;\" d=\"M 48.503906 83.242188 C 56.589844 84.175781 61.316406 88.65625 62.6875 96.679688 \"/>\n<path style=\"fill:none;stroke-width:1;stroke-linecap:butt;stroke-linejoin:miter;stroke:rgb(26.666667%,26.666667%,26.666667%);stroke-opacity:1;stroke-miterlimit:10;\" d=\"M 114.152344 77.386719 C 101.820313 96.683594 84.664063 103.113281 62.6875 96.679688 \"/>\n<path style=\"fill:none;stroke-width:1;stroke-linecap:butt;stroke-linejoin:miter;stroke:rgb(26.666667%,26.666667%,26.666667%);stroke-opacity:1;stroke-miterlimit:10;\" d=\"M 62.6875 96.679688 C 38.875 98.78125 24.648438 111.554688 20 135 \"/>\n<path style=\"fill:none;stroke-width:1;stroke-linecap:butt;stroke-linejoin:miter;stroke:rgb(26.666667%,26.666667%,26.666667%);stroke-opacity:1;stroke-miterlimit:10;\" d=\"M 62.6875 96.679688 C 69.480469 104.300781 77.488281 105.921875 86.707031 101.535156 \"/>\n<path style=\"fill:none;stroke-width:1;stroke-linecap:butt;stroke-linejoin:miter;stroke:rgb(26.666667%,26.666667%,26.666667%);stroke-opacity:1;stroke-miterlimit:10;\" d=\"M 252.671875 158.023438 C 269.988281 162.136719 279.101563 173.082031 280 190.863281 \"/>\n<path style=\"fill:none;stroke-width:1;stroke-linecap:butt;stroke-linejoin:miter;stroke:rgb(26.666667%,26.666667%,26.666667%);stroke-opacity:1;stroke-miterlimit:10;\" d=\"M 250.378906 215.921875 C 253.988281 200.164063 263.863281 191.8125 280 190.863281 \"/>\n<path style=\"fill:none;stroke-width:1;stroke-linecap:butt;stroke-linejoin:miter;stroke:rgb(26.666667%,26.666667%,26.666667%);stroke-opacity:1;stroke-miterlimit:10;\" d=\"M 36.058594 132.125 C 31.425781 137.097656 26.074219 138.058594 20 135 \"/>\n<path style=\"fill:none;stroke-width:1;stroke-linecap:butt;stroke-linejoin:miter;stroke:rgb(26.666667%,26.666667%,26.666667%);stroke-opacity:1;stroke-miterlimit:10;\" d=\"M 58.089844 126.621094 C 47.488281 138.9375 34.792969 141.730469 20 135 \"/>\n<path style=\"fill:none;stroke-width:1;stroke-linecap:butt;stroke-linejoin:miter;stroke:rgb(26.666667%,26.666667%,26.666667%);stroke-opacity:1;stroke-miterlimit:10;\" d=\"M 62.6875 96.679688 C 58.039063 120.125 43.808594 132.898438 20 135 \"/>\n<path style=\"fill:none;stroke-width:1;stroke-linecap:butt;stroke-linejoin:miter;stroke:rgb(26.666667%,26.666667%,26.666667%);stroke-opacity:1;stroke-miterlimit:10;\" d=\"M 20 135 C 13.507813 152.121094 17.570313 166.191406 32.1875 177.21875 \"/>\n<path style=\"fill:none;stroke-width:1;stroke-linecap:butt;stroke-linejoin:miter;stroke:rgb(26.666667%,26.666667%,26.666667%);stroke-opacity:1;stroke-miterlimit:10;\" d=\"M 117.171875 126.898438 C 100.675781 126.058594 90.523438 117.605469 86.707031 101.535156 \"/>\n<path style=\"fill:none;stroke-width:1;stroke-linecap:butt;stroke-linejoin:miter;stroke:rgb(26.666667%,26.666667%,26.666667%);stroke-opacity:1;stroke-miterlimit:10;\" d=\"M 80.863281 75.585938 C 89.300781 82.773438 91.246094 91.425781 86.707031 101.535156 \"/>\n<path style=\"fill:none;stroke-width:1;stroke-linecap:butt;stroke-linejoin:miter;stroke:rgb(26.666667%,26.666667%,26.666667%);stroke-opacity:1;stroke-miterlimit:10;\" d=\"M 48.503906 83.242188 C 65.8125 79.789063 78.546875 85.886719 86.707031 101.535156 \"/>\n<path style=\"fill:none;stroke-width:1;stroke-linecap:butt;stroke-linejoin:miter;stroke:rgb(26.666667%,26.666667%,26.666667%);stroke-opacity:1;stroke-miterlimit:10;\" d=\"M 58.089844 126.621094 C 61.355469 111.105469 70.898438 102.742188 86.707031 101.535156 \"/>\n<path style=\"fill:none;stroke-width:1;stroke-linecap:butt;stroke-linejoin:miter;stroke:rgb(26.666667%,26.666667%,26.666667%);stroke-opacity:1;stroke-miterlimit:10;\" d=\"M 62.6875 96.679688 C 71.90625 92.292969 79.914063 93.910156 86.707031 101.535156 \"/>\n<path style=\"fill:none;stroke-width:1;stroke-linecap:butt;stroke-linejoin:miter;stroke:rgb(26.666667%,26.666667%,26.666667%);stroke-opacity:1;stroke-miterlimit:10;\" d=\"M 57.777344 178.160156 C 49.011719 184.246094 40.480469 183.929688 32.1875 177.21875 \"/>\n<path style=\"fill:none;stroke-width:1;stroke-linecap:butt;stroke-linejoin:miter;stroke:rgb(26.666667%,26.666667%,26.666667%);stroke-opacity:1;stroke-miterlimit:10;\" d=\"M 56.902344 156.75 C 53.78125 169.75 45.542969 176.574219 32.1875 177.21875 \"/>\n<path style=\"fill:none;stroke-width:1;stroke-linecap:butt;stroke-linejoin:miter;stroke:rgb(26.666667%,26.666667%,26.666667%);stroke-opacity:1;stroke-miterlimit:10;\" d=\"M 20 135 C 34.617188 146.027344 38.679688 160.097656 32.1875 177.21875 \"/>\n<path style=\"fill:none;stroke-width:1;stroke-linecap:butt;stroke-linejoin:miter;stroke:rgb(26.666667%,26.666667%,26.666667%);stroke-opacity:1;stroke-miterlimit:10;\" d=\"M 32.1875 177.21875 C 39.363281 195.320313 52.648438 203.457031 72.035156 201.636719 \"/>\n<path style=\"fill:none;stroke-width:1;stroke-linecap:butt;stroke-linejoin:miter;stroke:rgb(26.666667%,26.666667%,26.666667%);stroke-opacity:1;stroke-miterlimit:10;\" d=\"M 120.265625 173.742188 C 111.160156 195.097656 95.085938 204.394531 72.035156 201.636719 \"/>\n<path style=\"fill:none;stroke-width:1;stroke-linecap:butt;stroke-linejoin:miter;stroke:rgb(26.666667%,26.666667%,26.666667%);stroke-opacity:1;stroke-miterlimit:10;\" d=\"M 97.160156 206.28125 C 87.625 211.015625 79.246094 209.464844 72.035156 201.636719 \"/>\n<path style=\"fill:none;stroke-width:1;stroke-linecap:butt;stroke-linejoin:miter;stroke:rgb(26.666667%,26.666667%,26.666667%);stroke-opacity:1;stroke-miterlimit:10;\" d=\"M 94.382813 183.503906 C 91.464844 195.132813 84.015625 201.179688 72.035156 201.636719 \"/>\n<path style=\"fill:none;stroke-width:1;stroke-linecap:butt;stroke-linejoin:miter;stroke:rgb(26.666667%,26.666667%,26.666667%);stroke-opacity:1;stroke-miterlimit:10;\" d=\"M 32.1875 177.21875 C 51.574219 175.394531 64.855469 183.535156 72.035156 201.636719 \"/>\n<path style=\"fill:none;stroke-width:1;stroke-linecap:butt;stroke-linejoin:miter;stroke:rgb(26.666667%,26.666667%,26.666667%);stroke-opacity:1;stroke-miterlimit:10;\" d=\"M 120.265625 173.742188 C 137.429688 169.875 150.273438 175.636719 158.792969 191.035156 \"/>\n<path style=\"fill:none;stroke-width:1;stroke-linecap:butt;stroke-linejoin:miter;stroke:rgb(26.666667%,26.666667%,26.666667%);stroke-opacity:1;stroke-miterlimit:10;\" d=\"M 197.023438 212.5625 C 178.898438 214.945313 166.15625 207.769531 158.792969 191.035156 \"/>\n<path style=\"fill:none;stroke-width:1;stroke-linecap:butt;stroke-linejoin:miter;stroke:rgb(26.666667%,26.666667%,26.666667%);stroke-opacity:1;stroke-miterlimit:10;\" d=\"M 151.019531 232.808594 C 143.167969 216.941406 145.757813 203.015625 158.792969 191.035156 \"/>\n<path style=\"fill:none;stroke-width:1;stroke-linecap:butt;stroke-linejoin:miter;stroke:rgb(26.666667%,26.666667%,26.666667%);stroke-opacity:1;stroke-miterlimit:10;\" d=\"M 169.417969 201.980469 C 163.140625 200.988281 159.597656 197.339844 158.792969 191.035156 \"/>\n<path style=\"fill:none;stroke-width:1;stroke-linecap:butt;stroke-linejoin:miter;stroke:rgb(26.666667%,26.666667%,26.666667%);stroke-opacity:1;stroke-miterlimit:10;\" d=\"M 180.453125 162.007813 C 180.488281 177.097656 173.269531 186.773438 158.792969 191.035156 \"/>\n<path style=\"fill:none;stroke-width:1;stroke-linecap:butt;stroke-linejoin:miter;stroke:rgb(26.666667%,26.666667%,26.666667%);stroke-opacity:1;stroke-miterlimit:10;\" d=\"M 197.023438 212.5625 C 210.8125 206.65625 222.472656 209.496094 232.003906 221.082031 \"/>\n<path style=\"fill:none;stroke-width:1;stroke-linecap:butt;stroke-linejoin:miter;stroke:rgb(26.666667%,26.666667%,26.666667%);stroke-opacity:1;stroke-miterlimit:10;\" d=\"M 199.140625 248.300781 C 203.289063 231.011719 214.242188 221.941406 232.003906 221.082031 \"/>\n<path style=\"fill:none;stroke-width:1;stroke-linecap:butt;stroke-linejoin:miter;stroke:rgb(26.666667%,26.666667%,26.666667%);stroke-opacity:1;stroke-miterlimit:10;\" d=\"M 217.953125 252.507813 C 214.78125 238.519531 219.464844 228.042969 232.003906 221.082031 \"/>\n<path style=\"fill:none;stroke-width:1;stroke-linecap:butt;stroke-linejoin:miter;stroke:rgb(26.666667%,26.666667%,26.666667%);stroke-opacity:1;stroke-miterlimit:10;\" d=\"M 250.378906 215.921875 C 245.542969 222.238281 239.417969 223.957031 232.003906 221.082031 \"/>\n<path style=\"fill:none;stroke-width:1;stroke-linecap:butt;stroke-linejoin:miter;stroke:rgb(26.666667%,26.666667%,26.666667%);stroke-opacity:1;stroke-miterlimit:10;\" d=\"M 244.511719 178.210938 C 251.058594 195.628906 246.890625 209.917969 232.003906 221.082031 \"/>\n<path style=\"fill-rule:nonzero;fill:rgb(0%,100%,0%);fill-opacity:1;stroke-width:1;stroke-linecap:butt;stroke-linejoin:miter;stroke:rgb(0%,0%,0%);stroke-opacity:1;stroke-miterlimit:10;\" d=\"M 104.863281 276.359375 C 104.863281 283.027344 94.863281 283.027344 94.863281 276.359375 C 94.863281 269.691406 104.863281 269.691406 104.863281 276.359375 \"/>\n<path style=\"fill-rule:nonzero;fill:rgb(0%,100%,0%);fill-opacity:1;stroke-width:1;stroke-linecap:butt;stroke-linejoin:miter;stroke:rgb(0%,0%,0%);stroke-opacity:1;stroke-miterlimit:10;\" d=\"M 129.550781 209.367188 C 129.550781 216.03125 119.550781 216.03125 119.550781 209.367188 C 119.550781 202.699219 129.550781 202.699219 129.550781 209.367188 \"/>\n<path style=\"fill-rule:nonzero;fill:rgb(0%,100%,0%);fill-opacity:1;stroke-width:1;stroke-linecap:butt;stroke-linejoin:miter;stroke:rgb(0%,0%,0%);stroke-opacity:1;stroke-miterlimit:10;\" d=\"M 217.425781 200.40625 C 217.425781 207.074219 207.425781 207.074219 207.425781 200.40625 C 207.425781 193.742188 217.425781 193.742188 217.425781 200.40625 \"/>\n<path style=\"fill-rule:nonzero;fill:rgb(0%,100%,0%);fill-opacity:1;stroke-width:1;stroke-linecap:butt;stroke-linejoin:miter;stroke:rgb(0%,0%,0%);stroke-opacity:1;stroke-miterlimit:10;\" d=\"M 232.554688 185.773438 C 232.554688 192.441406 222.554688 192.441406 222.554688 185.773438 C 222.554688 179.109375 232.554688 179.109375 232.554688 185.773438 \"/>\n<path style=\"fill-rule:nonzero;fill:rgb(0%,100%,0%);fill-opacity:1;stroke-width:1;stroke-linecap:butt;stroke-linejoin:miter;stroke:rgb(0%,0%,0%);stroke-opacity:1;stroke-miterlimit:10;\" d=\"M 228.746094 228.476563 C 228.746094 235.140625 218.746094 235.140625 218.746094 228.476563 C 218.746094 221.808594 228.746094 221.808594 228.746094 228.476563 \"/>\n<path style=\"fill-rule:nonzero;fill:rgb(0%,100%,0%);fill-opacity:1;stroke-width:1;stroke-linecap:butt;stroke-linejoin:miter;stroke:rgb(0%,0%,0%);stroke-opacity:1;stroke-miterlimit:10;\" d=\"M 70.050781 20 C 70.050781 26.667969 60.050781 26.667969 60.050781 20 C 60.050781 13.332031 70.050781 13.332031 70.050781 20 \"/>\n<path style=\"fill-rule:nonzero;fill:rgb(0%,100%,0%);fill-opacity:1;stroke-width:1;stroke-linecap:butt;stroke-linejoin:miter;stroke:rgb(0%,0%,0%);stroke-opacity:1;stroke-miterlimit:10;\" d=\"M 127.382813 244.027344 C 127.382813 250.695313 117.382813 250.695313 117.382813 244.027344 C 117.382813 237.363281 127.382813 237.363281 127.382813 244.027344 \"/>\n<path style=\"fill-rule:nonzero;fill:rgb(0%,100%,0%);fill-opacity:1;stroke-width:1;stroke-linecap:butt;stroke-linejoin:miter;stroke:rgb(0%,0%,0%);stroke-opacity:1;stroke-miterlimit:10;\" d=\"M 173.609375 257.738281 C 173.609375 264.40625 163.609375 264.40625 163.609375 257.738281 C 163.609375 251.070313 173.609375 251.070313 173.609375 257.738281 \"/>\n<path style=\"fill-rule:nonzero;fill:rgb(0%,100%,0%);fill-opacity:1;stroke-width:1;stroke-linecap:butt;stroke-linejoin:miter;stroke:rgb(0%,0%,0%);stroke-opacity:1;stroke-miterlimit:10;\" d=\"M 193.292969 280 C 193.292969 286.667969 183.292969 286.667969 183.292969 280 C 183.292969 273.332031 193.292969 273.332031 193.292969 280 \"/>\n<path style=\"fill-rule:nonzero;fill:rgb(0%,100%,0%);fill-opacity:1;stroke-width:1;stroke-linecap:butt;stroke-linejoin:miter;stroke:rgb(0%,0%,0%);stroke-opacity:1;stroke-miterlimit:10;\" d=\"M 214.90625 277.359375 C 214.90625 284.023438 204.90625 284.023438 204.90625 277.359375 C 204.90625 270.691406 214.90625 270.691406 214.90625 277.359375 \"/>\n<path style=\"fill-rule:nonzero;fill:rgb(0%,100%,0%);fill-opacity:1;stroke-width:1;stroke-linecap:butt;stroke-linejoin:miter;stroke:rgb(0%,0%,0%);stroke-opacity:1;stroke-miterlimit:10;\" d=\"M 160.492188 97.613281 C 160.492188 104.28125 150.492188 104.28125 150.492188 97.613281 C 150.492188 90.945313 160.492188 90.945313 160.492188 97.613281 \"/>\n<path style=\"fill-rule:nonzero;fill:rgb(0%,100%,0%);fill-opacity:1;stroke-width:1;stroke-linecap:butt;stroke-linejoin:miter;stroke:rgb(0%,0%,0%);stroke-opacity:1;stroke-miterlimit:10;\" d=\"M 125.265625 173.742188 C 125.265625 180.410156 115.265625 180.410156 115.265625 173.742188 C 115.265625 167.074219 125.265625 167.074219 125.265625 173.742188 \"/>\n<path style=\"fill-rule:nonzero;fill:rgb(0%,0%,100%);fill-opacity:1;stroke-width:1;stroke-linecap:butt;stroke-linejoin:miter;stroke:rgb(0%,0%,0%);stroke-opacity:1;stroke-miterlimit:10;\" d=\"M 202.023438 212.5625 C 202.023438 219.230469 192.023438 219.230469 192.023438 212.5625 C 192.023438 205.894531 202.023438 205.894531 202.023438 212.5625 \"/>\n<path style=\"fill-rule:nonzero;fill:rgb(0%,100%,0%);fill-opacity:1;stroke-width:1;stroke-linecap:butt;stroke-linejoin:miter;stroke:rgb(0%,0%,0%);stroke-opacity:1;stroke-miterlimit:10;\" d=\"M 204.140625 248.300781 C 204.140625 254.96875 194.140625 254.96875 194.140625 248.300781 C 194.140625 241.636719 204.140625 241.636719 204.140625 248.300781 \"/>\n<path style=\"fill-rule:nonzero;fill:rgb(0%,100%,0%);fill-opacity:1;stroke-width:1;stroke-linecap:butt;stroke-linejoin:miter;stroke:rgb(0%,0%,0%);stroke-opacity:1;stroke-miterlimit:10;\" d=\"M 122.171875 126.898438 C 122.171875 133.566406 112.171875 133.566406 112.171875 126.898438 C 112.171875 120.230469 122.171875 120.230469 122.171875 126.898438 \"/>\n<path style=\"fill-rule:nonzero;fill:rgb(0%,100%,0%);fill-opacity:1;stroke-width:1;stroke-linecap:butt;stroke-linejoin:miter;stroke:rgb(0%,0%,0%);stroke-opacity:1;stroke-miterlimit:10;\" d=\"M 172.789063 136.90625 C 172.789063 143.574219 162.789063 143.574219 162.789063 136.90625 C 162.789063 130.238281 172.789063 130.238281 172.789063 136.90625 \"/>\n<path style=\"fill-rule:nonzero;fill:rgb(0%,100%,0%);fill-opacity:1;stroke-width:1;stroke-linecap:butt;stroke-linejoin:miter;stroke:rgb(0%,0%,0%);stroke-opacity:1;stroke-miterlimit:10;\" d=\"M 216.734375 152.121094 C 216.734375 158.789063 206.734375 158.789063 206.734375 152.121094 C 206.734375 145.453125 216.734375 145.453125 216.734375 152.121094 \"/>\n<path style=\"fill-rule:nonzero;fill:rgb(0%,100%,0%);fill-opacity:1;stroke-width:1;stroke-linecap:butt;stroke-linejoin:miter;stroke:rgb(0%,0%,0%);stroke-opacity:1;stroke-miterlimit:10;\" d=\"M 249.390625 138.476563 C 249.390625 145.144531 239.390625 145.144531 239.390625 138.476563 C 239.390625 131.8125 249.390625 131.8125 249.390625 138.476563 \"/>\n<path style=\"fill-rule:nonzero;fill:rgb(0%,100%,0%);fill-opacity:1;stroke-width:1;stroke-linecap:butt;stroke-linejoin:miter;stroke:rgb(0%,0%,0%);stroke-opacity:1;stroke-miterlimit:10;\" d=\"M 257.671875 158.023438 C 257.671875 164.691406 247.671875 164.691406 247.671875 158.023438 C 247.671875 151.355469 257.671875 151.355469 257.671875 158.023438 \"/>\n<path style=\"fill-rule:nonzero;fill:rgb(0%,100%,0%);fill-opacity:1;stroke-width:1;stroke-linecap:butt;stroke-linejoin:miter;stroke:rgb(0%,0%,0%);stroke-opacity:1;stroke-miterlimit:10;\" d=\"M 102.308594 35.898438 C 102.308594 42.5625 92.308594 42.5625 92.308594 35.898438 C 92.308594 29.230469 102.308594 29.230469 102.308594 35.898438 \"/>\n<path style=\"fill-rule:nonzero;fill:rgb(0%,0%,100%);fill-opacity:1;stroke-width:1;stroke-linecap:butt;stroke-linejoin:miter;stroke:rgb(0%,0%,0%);stroke-opacity:1;stroke-miterlimit:10;\" d=\"M 62.777344 178.160156 C 62.777344 184.828125 52.777344 184.828125 52.777344 178.160156 C 52.777344 171.496094 62.777344 171.496094 62.777344 178.160156 \"/>\n<path style=\"fill-rule:nonzero;fill:rgb(0%,0%,100%);fill-opacity:1;stroke-width:1;stroke-linecap:butt;stroke-linejoin:miter;stroke:rgb(0%,0%,0%);stroke-opacity:1;stroke-miterlimit:10;\" d=\"M 102.160156 206.28125 C 102.160156 212.949219 92.160156 212.949219 92.160156 206.28125 C 92.160156 199.617188 102.160156 199.617188 102.160156 206.28125 \"/>\n<path style=\"fill-rule:nonzero;fill:rgb(0%,100%,0%);fill-opacity:1;stroke-width:1;stroke-linecap:butt;stroke-linejoin:miter;stroke:rgb(0%,0%,0%);stroke-opacity:1;stroke-miterlimit:10;\" d=\"M 156.019531 232.808594 C 156.019531 239.476563 146.019531 239.476563 146.019531 232.808594 C 146.019531 226.140625 156.019531 226.140625 156.019531 232.808594 \"/>\n<path style=\"fill-rule:nonzero;fill:rgb(0%,100%,0%);fill-opacity:1;stroke-width:1;stroke-linecap:butt;stroke-linejoin:miter;stroke:rgb(0%,0%,0%);stroke-opacity:1;stroke-miterlimit:10;\" d=\"M 222.953125 252.507813 C 222.953125 259.171875 212.953125 259.171875 212.953125 252.507813 C 212.953125 245.839844 222.953125 245.839844 222.953125 252.507813 \"/>\n<path style=\"fill-rule:nonzero;fill:rgb(0%,100%,0%);fill-opacity:1;stroke-width:1;stroke-linecap:butt;stroke-linejoin:miter;stroke:rgb(0%,0%,0%);stroke-opacity:1;stroke-miterlimit:10;\" d=\"M 41.058594 132.125 C 41.058594 138.789063 31.058594 138.789063 31.058594 132.125 C 31.058594 125.457031 41.058594 125.457031 41.058594 132.125 \"/>\n<path style=\"fill-rule:nonzero;fill:rgb(0%,100%,0%);fill-opacity:1;stroke-width:1;stroke-linecap:butt;stroke-linejoin:miter;stroke:rgb(0%,0%,0%);stroke-opacity:1;stroke-miterlimit:10;\" d=\"M 85.863281 75.585938 C 85.863281 82.25 75.863281 82.25 75.863281 75.585938 C 75.863281 68.917969 85.863281 68.917969 85.863281 75.585938 \"/>\n<path style=\"fill-rule:nonzero;fill:rgb(0%,100%,0%);fill-opacity:1;stroke-width:1;stroke-linecap:butt;stroke-linejoin:miter;stroke:rgb(0%,0%,0%);stroke-opacity:1;stroke-miterlimit:10;\" d=\"M 259.808594 256.917969 C 259.808594 263.585938 249.808594 263.585938 249.808594 256.917969 C 249.808594 250.253906 259.808594 250.253906 259.808594 256.917969 \"/>\n<path style=\"fill-rule:nonzero;fill:rgb(0%,100%,0%);fill-opacity:1;stroke-width:1;stroke-linecap:butt;stroke-linejoin:miter;stroke:rgb(0%,0%,0%);stroke-opacity:1;stroke-miterlimit:10;\" d=\"M 48.683594 108.929688 C 48.683594 115.597656 38.683594 115.597656 38.683594 108.929688 C 38.683594 102.265625 48.683594 102.265625 48.683594 108.929688 \"/>\n<path style=\"fill-rule:nonzero;fill:rgb(0%,0%,100%);fill-opacity:1;stroke-width:1;stroke-linecap:butt;stroke-linejoin:miter;stroke:rgb(0%,0%,0%);stroke-opacity:1;stroke-miterlimit:10;\" d=\"M 53.503906 83.242188 C 53.503906 89.910156 43.503906 89.910156 43.503906 83.242188 C 43.503906 76.578125 53.503906 76.578125 53.503906 83.242188 \"/>\n<path style=\"fill-rule:nonzero;fill:rgb(0%,100%,0%);fill-opacity:1;stroke-width:1;stroke-linecap:butt;stroke-linejoin:miter;stroke:rgb(0%,0%,0%);stroke-opacity:1;stroke-miterlimit:10;\" d=\"M 255.378906 215.921875 C 255.378906 222.589844 245.378906 222.589844 245.378906 215.921875 C 245.378906 209.257813 255.378906 209.257813 255.378906 215.921875 \"/>\n<path style=\"fill-rule:nonzero;fill:rgb(0%,0%,100%);fill-opacity:1;stroke-width:1;stroke-linecap:butt;stroke-linejoin:miter;stroke:rgb(0%,0%,0%);stroke-opacity:1;stroke-miterlimit:10;\" d=\"M 174.417969 201.980469 C 174.417969 208.644531 164.417969 208.644531 164.417969 201.980469 C 164.417969 195.3125 174.417969 195.3125 174.417969 201.980469 \"/>\n<path style=\"fill-rule:nonzero;fill:rgb(0%,0%,100%);fill-opacity:1;stroke-width:1;stroke-linecap:butt;stroke-linejoin:miter;stroke:rgb(0%,0%,0%);stroke-opacity:1;stroke-miterlimit:10;\" d=\"M 99.382813 183.503906 C 99.382813 190.167969 89.382813 190.167969 89.382813 183.503906 C 89.382813 176.835938 99.382813 176.835938 99.382813 183.503906 \"/>\n<path style=\"fill-rule:nonzero;fill:rgb(0%,0%,100%);fill-opacity:1;stroke-width:1;stroke-linecap:butt;stroke-linejoin:miter;stroke:rgb(0%,0%,0%);stroke-opacity:1;stroke-miterlimit:10;\" d=\"M 61.902344 156.75 C 61.902344 163.417969 51.902344 163.417969 51.902344 156.75 C 51.902344 150.082031 61.902344 150.082031 61.902344 156.75 \"/>\n<path style=\"fill-rule:nonzero;fill:rgb(0%,0%,100%);fill-opacity:1;stroke-width:1;stroke-linecap:butt;stroke-linejoin:miter;stroke:rgb(0%,0%,0%);stroke-opacity:1;stroke-miterlimit:10;\" d=\"M 85.097656 54.34375 C 85.097656 61.011719 75.097656 61.011719 75.097656 54.34375 C 75.097656 47.675781 85.097656 47.675781 85.097656 54.34375 \"/>\n<path style=\"fill-rule:nonzero;fill:rgb(0%,100%,0%);fill-opacity:1;stroke-width:1;stroke-linecap:butt;stroke-linejoin:miter;stroke:rgb(0%,0%,0%);stroke-opacity:1;stroke-miterlimit:10;\" d=\"M 119.152344 77.386719 C 119.152344 84.054688 109.152344 84.054688 109.152344 77.386719 C 109.152344 70.722656 119.152344 70.722656 119.152344 77.386719 \"/>\n<path style=\"fill-rule:nonzero;fill:rgb(0%,100%,0%);fill-opacity:1;stroke-width:1;stroke-linecap:butt;stroke-linejoin:miter;stroke:rgb(0%,0%,0%);stroke-opacity:1;stroke-miterlimit:10;\" d=\"M 89.914063 151.179688 C 89.914063 157.847656 79.914063 157.847656 79.914063 151.179688 C 79.914063 144.515625 89.914063 144.515625 89.914063 151.179688 \"/>\n<path style=\"fill-rule:nonzero;fill:rgb(0%,100%,0%);fill-opacity:1;stroke-width:1;stroke-linecap:butt;stroke-linejoin:miter;stroke:rgb(0%,0%,0%);stroke-opacity:1;stroke-miterlimit:10;\" d=\"M 129.71875 162.28125 C 129.71875 168.945313 119.71875 168.945313 119.71875 162.28125 C 119.71875 155.613281 129.71875 155.613281 129.71875 162.28125 \"/>\n<path style=\"fill-rule:nonzero;fill:rgb(0%,100%,0%);fill-opacity:1;stroke-width:1;stroke-linecap:butt;stroke-linejoin:miter;stroke:rgb(0%,0%,0%);stroke-opacity:1;stroke-miterlimit:10;\" d=\"M 185.453125 162.007813 C 185.453125 168.675781 175.453125 168.675781 175.453125 162.007813 C 175.453125 155.339844 185.453125 155.339844 185.453125 162.007813 \"/>\n<path style=\"fill-rule:nonzero;fill:rgb(0%,100%,0%);fill-opacity:1;stroke-width:1;stroke-linecap:butt;stroke-linejoin:miter;stroke:rgb(0%,0%,0%);stroke-opacity:1;stroke-miterlimit:10;\" d=\"M 249.511719 178.210938 C 249.511719 184.878906 239.511719 184.878906 239.511719 178.210938 C 239.511719 171.542969 249.511719 171.542969 249.511719 178.210938 \"/>\n<path style=\"fill-rule:nonzero;fill:rgb(0%,100%,0%);fill-opacity:1;stroke-width:1;stroke-linecap:butt;stroke-linejoin:miter;stroke:rgb(0%,0%,0%);stroke-opacity:1;stroke-miterlimit:10;\" d=\"M 63.089844 126.621094 C 63.089844 133.285156 53.089844 133.285156 53.089844 126.621094 C 53.089844 119.953125 63.089844 119.953125 63.089844 126.621094 \"/>\n<path style=\"fill-rule:nonzero;fill:rgb(0%,100%,0%);fill-opacity:1;stroke-width:1;stroke-linecap:butt;stroke-linejoin:miter;stroke:rgb(0%,0%,0%);stroke-opacity:1;stroke-miterlimit:10;\" d=\"M 67.6875 96.679688 C 67.6875 103.34375 57.6875 103.34375 57.6875 96.679688 C 57.6875 90.011719 67.6875 90.011719 67.6875 96.679688 \"/>\n<path style=\"fill-rule:nonzero;fill:rgb(0%,100%,0%);fill-opacity:1;stroke-width:1;stroke-linecap:butt;stroke-linejoin:miter;stroke:rgb(0%,0%,0%);stroke-opacity:1;stroke-miterlimit:10;\" d=\"M 285 190.863281 C 285 197.527344 275 197.527344 275 190.863281 C 275 184.195313 285 184.195313 285 190.863281 \"/>\n<path style=\"fill-rule:nonzero;fill:rgb(0%,100%,0%);fill-opacity:1;stroke-width:1;stroke-linecap:butt;stroke-linejoin:miter;stroke:rgb(0%,0%,0%);stroke-opacity:1;stroke-miterlimit:10;\" d=\"M 25 135 C 25 141.667969 15 141.667969 15 135 C 15 128.335938 25 128.335938 25 135 \"/>\n<path style=\"fill-rule:nonzero;fill:rgb(0%,0%,100%);fill-opacity:1;stroke-width:1;stroke-linecap:butt;stroke-linejoin:miter;stroke:rgb(0%,0%,0%);stroke-opacity:1;stroke-miterlimit:10;\" d=\"M 91.707031 101.535156 C 91.707031 108.203125 81.707031 108.203125 81.707031 101.535156 C 81.707031 94.867188 91.707031 94.867188 91.707031 101.535156 \"/>\n<path style=\"fill-rule:nonzero;fill:rgb(0%,100%,0%);fill-opacity:1;stroke-width:1;stroke-linecap:butt;stroke-linejoin:miter;stroke:rgb(0%,0%,0%);stroke-opacity:1;stroke-miterlimit:10;\" d=\"M 37.1875 177.21875 C 37.1875 183.886719 27.1875 183.886719 27.1875 177.21875 C 27.1875 170.550781 37.1875 170.550781 37.1875 177.21875 \"/>\n<path style=\"fill-rule:nonzero;fill:rgb(0%,100%,0%);fill-opacity:1;stroke-width:1;stroke-linecap:butt;stroke-linejoin:miter;stroke:rgb(0%,0%,0%);stroke-opacity:1;stroke-miterlimit:10;\" d=\"M 77.035156 201.636719 C 77.035156 208.304688 67.035156 208.304688 67.035156 201.636719 C 67.035156 194.96875 77.035156 194.96875 77.035156 201.636719 \"/>\n<path style=\"fill-rule:nonzero;fill:rgb(0%,0%,100%);fill-opacity:1;stroke-width:1;stroke-linecap:butt;stroke-linejoin:miter;stroke:rgb(0%,0%,0%);stroke-opacity:1;stroke-miterlimit:10;\" d=\"M 163.792969 191.035156 C 163.792969 197.699219 153.792969 197.699219 153.792969 191.035156 C 153.792969 184.367188 163.792969 184.367188 163.792969 191.035156 \"/>\n<path style=\"fill-rule:nonzero;fill:rgb(0%,0%,100%);fill-opacity:1;stroke-width:1;stroke-linecap:butt;stroke-linejoin:miter;stroke:rgb(0%,0%,0%);stroke-opacity:1;stroke-miterlimit:10;\" d=\"M 237.003906 221.082031 C 237.003906 227.75 227.003906 227.75 227.003906 221.082031 C 227.003906 214.414063 237.003906 214.414063 237.003906 221.082031 \"/>\n</g>\n</svg>\n",
            "text/plain": [
              "<igraph.drawing.Plot at 0x18c289d74c0>"
            ]
          },
          "execution_count": 7,
          "metadata": {
            "image/svg+xml": {
              "isolated": true
            }
          },
          "output_type": "execute_result"
        }
      ],
      "source": [
        "graph_to_work_with = 400\n",
        "\n",
        "\n",
        "data = dataset[graph_to_work_with]\n",
        "print(data)\n",
        "\n",
        "\n",
        "\n",
        "# create graph for igraph\n",
        "edges_df = pd.DataFrame(data.edge_index.T.numpy())\n",
        "g = Graph.DataFrame(edges_df, directed=data.is_directed())\n",
        "\n",
        "info_dataset()\n",
        "\n",
        "print()\n",
        "print(\"Graph is directed: \", data.is_directed())\n",
        "print(\"Number of cliques: \", g.clique_number())\n",
        "\n",
        "info_degree()\n",
        "\n",
        "print()\n",
        "print(\"Number of nodes: \", g.vcount())\n",
        "print(\"Number of edges: \", g.ecount())\n",
        "\n",
        "\n",
        "# plot graph\n",
        "visual_style = {}\n",
        "layout = g.layout(layout='drl')\n",
        "# make the nodes with max. degrees blue (aka hubs)\n",
        "g.vs[\"color\"] = [\"blue\" if node.degree()==10 else \"green\" for node in g.vs]\n",
        "#visual_style[\"edge_curved\"] = False\n",
        "ig.plot(g, bbox=(300, 300), margin=20, vertex_size=10, **visual_style)"
      ]
    },
    {
      "cell_type": "markdown",
      "metadata": {
        "id": "xRZuFHT40M5-"
      },
      "source": [
        "Show degree distribution"
      ]
    },
    {
      "cell_type": "code",
      "execution_count": 8,
      "metadata": {
        "colab": {
          "base_uri": "https://localhost:8080/",
          "height": 346
        },
        "id": "4JAs2bN2KZkz",
        "outputId": "3fa3da9b-9394-475c-e9a9-2dd42bf8361b"
      },
      "outputs": [
        {
          "ename": "NameError",
          "evalue": "name 'degrees' is not defined",
          "output_type": "error",
          "traceback": [
            "\u001b[1;31m---------------------------------------------------------------------------\u001b[0m",
            "\u001b[1;31mNameError\u001b[0m                                 Traceback (most recent call last)",
            "\u001b[1;32m~\\AppData\\Local\\Temp/ipykernel_15956/4083461969.py\u001b[0m in \u001b[0;36m<module>\u001b[1;34m\u001b[0m\n\u001b[0;32m      2\u001b[0m \u001b[0mdegree_counts\u001b[0m \u001b[1;33m=\u001b[0m \u001b[1;33m[\u001b[0m\u001b[1;36m0\u001b[0m \u001b[1;32mfor\u001b[0m \u001b[0mx\u001b[0m \u001b[1;32min\u001b[0m \u001b[0mrange\u001b[0m\u001b[1;33m(\u001b[0m\u001b[0mg\u001b[0m\u001b[1;33m.\u001b[0m\u001b[0mmaxdegree\u001b[0m\u001b[1;33m(\u001b[0m\u001b[1;33m)\u001b[0m\u001b[1;33m+\u001b[0m\u001b[1;36m1\u001b[0m\u001b[1;33m)\u001b[0m\u001b[1;33m]\u001b[0m\u001b[1;33m\u001b[0m\u001b[1;33m\u001b[0m\u001b[0m\n\u001b[0;32m      3\u001b[0m \u001b[1;33m\u001b[0m\u001b[0m\n\u001b[1;32m----> 4\u001b[1;33m \u001b[1;32mfor\u001b[0m \u001b[0mi\u001b[0m \u001b[1;32min\u001b[0m \u001b[0mdegrees\u001b[0m\u001b[1;33m:\u001b[0m\u001b[1;33m\u001b[0m\u001b[1;33m\u001b[0m\u001b[0m\n\u001b[0m\u001b[0;32m      5\u001b[0m     \u001b[0mdegree_counts\u001b[0m\u001b[1;33m[\u001b[0m\u001b[0mi\u001b[0m\u001b[1;33m]\u001b[0m \u001b[1;33m+=\u001b[0m \u001b[1;36m1\u001b[0m\u001b[1;33m\u001b[0m\u001b[1;33m\u001b[0m\u001b[0m\n\u001b[0;32m      6\u001b[0m \u001b[1;33m\u001b[0m\u001b[0m\n",
            "\u001b[1;31mNameError\u001b[0m: name 'degrees' is not defined"
          ]
        }
      ],
      "source": [
        "x = [x for x in range(g.maxdegree()+1)]\n",
        "degree_counts = [0 for x in range(g.maxdegree()+1)]\n",
        "\n",
        "for i in degrees:\n",
        "    degree_counts[i] += 1\n",
        "\n",
        "print(len(x))\n",
        "print(len(degree_counts))\n",
        "\n",
        "plt.figure()\n",
        "plt.plot(x, degree_counts)\n",
        "plt.ylabel('Number of vertices with degree k')\n",
        "plt.xlabel('Degree k')\n",
        "plt.title('Degree Distribution of Vertices')\n",
        "\n",
        "plt.xticks(np.arange(min(x), max(x)+1, 2.0))\n",
        "plt.show()\n",
        "plt.draw()"
      ]
    },
    {
      "cell_type": "markdown",
      "metadata": {
        "id": "QrFUhUJ2RGVf"
      },
      "source": [
        "Methods needed for degree correlation"
      ]
    },
    {
      "cell_type": "code",
      "execution_count": 9,
      "metadata": {
        "id": "zs8Lz_TUDOcR"
      },
      "outputs": [],
      "source": [
        "def knn(vertex):\n",
        "  # print the average degree of neighbors of the vertex\n",
        "  neighb = g.neighbors(vertex)\n",
        "  degrees = [g.degree(n) for n in neighb]\n",
        "  return np.average(degrees)\n",
        "\n",
        "def print_deg_correlation(g):\n",
        "  deg_corr = round(g.assortativity_degree(directed=data.is_directed()),2)\n",
        "  \n",
        "  if deg_corr > 0:\n",
        "    print(f\"Assortative graph with Degree Correlation Coefficient = {deg_corr}\")\n",
        "\n",
        "  if deg_corr == 0:\n",
        "    print(f\"Neutral graph with Degree Correlation Coefficient = {deg_corr}\")\n",
        "\n",
        "  if deg_corr < 0:\n",
        "    print(f\"Disasortative graph with Degree Correlation Coefficient = {deg_corr}\")\n",
        "\n",
        "def info_degree_correlation(g):\n",
        "  deg = [x.degree() for x in g.vs]\n",
        "  avg_deg = [knn(x) for x in g.vs]\n",
        "\n",
        "  y_mean = [np.mean(avg_deg)]*len(deg)\n",
        "\n",
        "  plt.figure()\n",
        "  plt.scatter(deg, avg_deg, label='Data', marker='o')\n",
        "  plt.plot(deg, y_mean, label='Mean', linestyle='--')\n",
        "  plt.title(\"Degree Correlation\")\n",
        "  plt.xlabel(\"Degree\")\n",
        "  plt.ylabel(\"Average neighbors degree (knn)\")\n",
        "  plt.legend()\n",
        "  plt.show()\n",
        "\n",
        "  print_deg_correlation(g)"
      ]
    },
    {
      "cell_type": "code",
      "execution_count": 10,
      "metadata": {
        "colab": {
          "base_uri": "https://localhost:8080/",
          "height": 313
        },
        "id": "BHXgH1AfMZjj",
        "outputId": "06787d2f-39c6-42f0-bdab-148d43e29a88"
      },
      "outputs": [
        {
          "data": {
            "image/png": "[encoded data removed]",
            "text/plain": [
              "<Figure size 432x288 with 1 Axes>"
            ]
          },
          "metadata": {
            "needs_background": "light"
          },
          "output_type": "display_data"
        },
        {
          "name": "stdout",
          "output_type": "stream",
          "text": [
            "Disasortative graph with Degree Correlation Coefficient = -0.18\n"
          ]
        }
      ],
      "source": [
        "info_degree_correlation(g)"
      ]
    },
    {
      "cell_type": "code",
      "execution_count": null,
      "metadata": {
        "id": "porJ5KUSgcln"
      },
      "outputs": [],
      "source": []
    }
  ],
  "metadata": {
    "accelerator": "GPU",
    "colab": {
      "collapsed_sections": [],
      "name": "AML- CNA.ipynb",
      "provenance": []
    },
    "gpuClass": "standard",
    "kernelspec": {
      "display_name": "Python ('AML')",
      "language": "python",
      "name": "python3"
    },
    "language_info": {
      "codemirror_mode": {
        "name": "ipython",
        "version": 3
      },
      "file_extension": ".py",
      "mimetype": "text/x-python",
      "name": "python",
      "nbconvert_exporter": "python",
      "pygments_lexer": "ipython3",
      "version": ""
    },
    "vscode": {
      "interpreter": {
        "hash": "25a19fbe0a9132dfb9279d48d161753c6352f8f9478c2e74383d340069b907c3"
      }
    }
  },
  "nbformat": 4,
  "nbformat_minor": 0
}
